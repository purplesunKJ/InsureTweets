{
 "cells": [
  {
   "cell_type": "markdown",
   "metadata": {},
   "source": [
    "# Initialization"
   ]
  },
  {
   "cell_type": "code",
   "execution_count": 1,
   "metadata": {
    "ExecuteTime": {
     "end_time": "2018-12-25T08:16:12.372184Z",
     "start_time": "2018-12-25T08:16:11.948318Z"
    },
    "scrolled": true
   },
   "outputs": [],
   "source": [
    "## Import Libraries and Dependencies ##\n",
    "import pandas as pd\n",
    "import numpy as np"
   ]
  },
  {
   "cell_type": "markdown",
   "metadata": {},
   "source": [
    "# Path"
   ]
  },
  {
   "cell_type": "code",
   "execution_count": 2,
   "metadata": {
    "ExecuteTime": {
     "end_time": "2018-12-25T08:16:12.378167Z",
     "start_time": "2018-12-25T08:16:12.374180Z"
    }
   },
   "outputs": [],
   "source": [
    "INPUT_PATH = \"D:/OneDrive - National University of Singapore/NUS MTech KE/MTech KE - FYP - InsureSense/Kang Jiang/Phase 3/System Implementation/scripts/Data Mining & Machine Learning/dataset/sentiment_analysis/\""
   ]
  },
  {
   "cell_type": "code",
   "execution_count": 3,
   "metadata": {
    "ExecuteTime": {
     "end_time": "2018-12-25T08:16:12.391133Z",
     "start_time": "2018-12-25T08:16:12.380164Z"
    }
   },
   "outputs": [],
   "source": [
    "OUTPUT_PATH = \"D:/OneDrive - National University of Singapore/NUS MTech KE/MTech KE - FYP - InsureSense/Kang Jiang/Phase 3/System Implementation/scripts/Data Mining & Machine Learning/dataset/user_location/\""
   ]
  },
  {
   "cell_type": "markdown",
   "metadata": {},
   "source": [
    "# Import disaster tweets"
   ]
  },
  {
   "cell_type": "code",
   "execution_count": 4,
   "metadata": {
    "ExecuteTime": {
     "end_time": "2018-12-25T08:16:12.403101Z",
     "start_time": "2018-12-25T08:16:12.393129Z"
    }
   },
   "outputs": [],
   "source": [
    "# Start row & End row\n",
    "STARTROW = 0\n",
    "ENDROW = 20"
   ]
  },
  {
   "cell_type": "code",
   "execution_count": 5,
   "metadata": {
    "ExecuteTime": {
     "end_time": "2018-12-25T08:16:12.847914Z",
     "start_time": "2018-12-25T08:16:12.405096Z"
    }
   },
   "outputs": [],
   "source": [
    "# df_without_user_location = pd.read_csv(INPUT_PATH + \"df_Japan_Floods_sentiment_labelled.csv\", index_col=0, encoding = \"ISO-8859-1\")\n",
    "df_without_user_location = pd.read_csv(INPUT_PATH + \"df_Typhoon_Jebi_sentiment_labelled.csv\", index_col=0)\n",
    "# df_without_user_location = pd.read_csv(INPUT_PATH + \"df_Typhoon_Mangkhut_sentiment_labelled.csv\", index_col=0)"
   ]
  },
  {
   "cell_type": "code",
   "execution_count": 6,
   "metadata": {
    "ExecuteTime": {
     "end_time": "2018-12-25T08:16:12.896783Z",
     "start_time": "2018-12-25T08:16:12.850904Z"
    }
   },
   "outputs": [
    {
     "name": "stdout",
     "output_type": "stream",
     "text": [
      "<class 'pandas.core.frame.DataFrame'>\n",
      "Int64Index: 49727 entries, 0 to 49726\n",
      "Data columns (total 14 columns):\n",
      "tweet_id           49727 non-null int64\n",
      "user               49727 non-null object\n",
      "timestamp          49727 non-null object\n",
      "date               49727 non-null object\n",
      "events             49727 non-null object\n",
      "text               49727 non-null object\n",
      "processed_text     49727 non-null object\n",
      "likes              49727 non-null int64\n",
      "replies            49727 non-null int64\n",
      "retweets           49727 non-null int64\n",
      "url                49727 non-null object\n",
      "disaster_flag      49727 non-null int64\n",
      "category_phase     49727 non-null int64\n",
      "sentiment_final    49727 non-null float64\n",
      "dtypes: float64(1), int64(6), object(7)\n",
      "memory usage: 5.7+ MB\n"
     ]
    }
   ],
   "source": [
    "df_without_user_location.info()"
   ]
  },
  {
   "cell_type": "markdown",
   "metadata": {},
   "source": [
    "## Extract tweet user registered location"
   ]
  },
  {
   "cell_type": "code",
   "execution_count": 7,
   "metadata": {
    "ExecuteTime": {
     "end_time": "2018-12-25T08:16:13.246844Z",
     "start_time": "2018-12-25T08:16:12.899774Z"
    }
   },
   "outputs": [],
   "source": [
    "## Import Libraries and Dependencies ##\n",
    "from urllib.request import urlopen\n",
    "import requests\n",
    "from bs4 import BeautifulSoup\n",
    "import re\n",
    "\n",
    "from geopy.geocoders import Nominatim\n",
    "geolocator = Nominatim()\n",
    "from geopy.exc import GeocoderTimedOut\n",
    "URL_INIT = 'https://twitter.com/'\n",
    "\n",
    "import time"
   ]
  },
  {
   "cell_type": "code",
   "execution_count": 8,
   "metadata": {
    "ExecuteTime": {
     "end_time": "2018-12-25T08:16:13.271778Z",
     "start_time": "2018-12-25T08:16:13.248840Z"
    }
   },
   "outputs": [
    {
     "name": "stdout",
     "output_type": "stream",
     "text": [
      "<class 'pandas.core.frame.DataFrame'>\n",
      "RangeIndex: 23343 entries, 0 to 23342\n",
      "Data columns (total 1 columns):\n",
      "user    23343 non-null object\n",
      "dtypes: object(1)\n",
      "memory usage: 182.4+ KB\n"
     ]
    }
   ],
   "source": [
    "df_user = df_without_user_location[['user']].drop_duplicates().reset_index(drop=True)\n",
    "df_user.info()"
   ]
  },
  {
   "cell_type": "code",
   "execution_count": 9,
   "metadata": {
    "ExecuteTime": {
     "end_time": "2018-12-25T08:16:13.278760Z",
     "start_time": "2018-12-25T08:16:13.273773Z"
    }
   },
   "outputs": [],
   "source": [
    "# Define the user range to extract\n",
    "df_user = df_user[STARTROW:ENDROW]"
   ]
  },
  {
   "cell_type": "code",
   "execution_count": 10,
   "metadata": {
    "ExecuteTime": {
     "end_time": "2018-12-25T08:16:13.296711Z",
     "start_time": "2018-12-25T08:16:13.280753Z"
    }
   },
   "outputs": [
    {
     "data": {
      "text/plain": [
       "20"
      ]
     },
     "execution_count": 10,
     "metadata": {},
     "output_type": "execute_result"
    }
   ],
   "source": [
    "# From all scraped tweets, get a set of unique usernames and put them in this list.\n",
    "list_of_users = df_user['user'].tolist()\n",
    "len(list_of_users)"
   ]
  },
  {
   "cell_type": "code",
   "execution_count": 11,
   "metadata": {
    "ExecuteTime": {
     "end_time": "2018-12-25T08:16:13.307682Z",
     "start_time": "2018-12-25T08:16:13.298706Z"
    }
   },
   "outputs": [],
   "source": [
    "# The located userlocations are appended to this list\n",
    "list_of_found_userlocations = []"
   ]
  },
  {
   "cell_type": "code",
   "execution_count": 12,
   "metadata": {
    "ExecuteTime": {
     "end_time": "2018-12-25T08:16:13.318681Z",
     "start_time": "2018-12-25T08:16:13.309677Z"
    }
   },
   "outputs": [],
   "source": [
    "# The not located userlocations are appended to this list. \n",
    "# Maybe they contain some typo or something else like that. \n",
    "list_of_nonfound_userlocations = []"
   ]
  },
  {
   "cell_type": "code",
   "execution_count": 13,
   "metadata": {
    "ExecuteTime": {
     "end_time": "2018-12-25T08:16:13.326634Z",
     "start_time": "2018-12-25T08:16:13.319678Z"
    }
   },
   "outputs": [],
   "source": [
    "# function to remove \"@\" from user name\n",
    "def parse_url(tweet_user):\n",
    "    url = URL_INIT+ tweet_user.strip('@')\n",
    "    return url"
   ]
  },
  {
   "cell_type": "code",
   "execution_count": 14,
   "metadata": {
    "ExecuteTime": {
     "end_time": "2018-12-25T08:17:22.890618Z",
     "start_time": "2018-12-25T08:16:13.328626Z"
    }
   },
   "outputs": [
    {
     "name": "stdout",
     "output_type": "stream",
     "text": [
      "('@pedromj', Location(東京都, 関東地方, 日本, (34.6968642, 139.4049033, 0.0)))\n",
      "4.167856454849243\n",
      "('@breakingweather', Location(State College, Centre County, Pennsylvania, USA, (40.7944504, -77.8616386, 0.0)))\n",
      "3.5734410285949707\n"
     ]
    },
    {
     "name": "stderr",
     "output_type": "stream",
     "text": [
      "C:\\Users\\purpl\\Anaconda3\\lib\\re.py:212: FutureWarning: split() requires a non-empty pattern match.\n",
      "  return _compile(pattern, flags).split(string, maxsplit)\n"
     ]
    },
    {
     "name": "stdout",
     "output_type": "stream",
     "text": [
      "('@Somnium410', Location(東京, 千代田区, 東京都, 関東地方, 100-0002, 日本, (35.6828387, 139.7594549, 0.0)))\n",
      "3.6223132610321045\n",
      "('@SaraFujimura', Location(Arizona, USA, (34.395342, -111.7632755, 0.0)))\n",
      "3.7200510501861572\n",
      "('@sasucce', 'rachel * 18 * they/she * USA')\n",
      "3.531554698944092\n",
      "('@bzwibs', Location(Earth, Lamb County, Texas, USA, (34.2331373, -102.4107493, 0.0)))\n",
      "3.718057155609131\n",
      "2.6648709774017334\n",
      "('@kevinmeyerson', '長野県北佐久郡軽井沢町')\n",
      "3.794851303100586\n",
      "('@hepomodeler', Location(熊本県, 九州地方, 日本, (32.6450475, 130.6341345, 0.0)))\n",
      "3.504626989364624\n",
      "2.694791793823242\n",
      "('@ZacharysWeather', Location(Arlington, Tarrant County, Texas, USA, (32.701939, -97.105624826688, 0.0)))\n",
      "3.909546136856079\n",
      "('@AMMotorworks', Location(St. Petersburg, Pinellas County, Florida, USA, (27.7703796, -82.6695085, 0.0)))\n",
      "3.567457914352417\n",
      "('@mcdosty', Location(Accra, Accra Metropolitan, Greater Accra Region, GA-183-8164, Ghana, (5.5600141, -0.2057437, 0.0)))\n",
      "3.626303195953369\n",
      "('@BunnyTokyoJP', Location(東京, 千代田区, 東京都, 関東地方, 100-0002, 日本, (35.6828387, 139.7594549, 0.0)))\n",
      "3.7759008407592773\n",
      "('@UX_Japan', Location(東京, 千代田区, 東京都, 関東地方, 100-0002, 日本, (35.6828387, 139.7594549, 0.0)))\n",
      "3.7021002769470215\n",
      "('@galaxysodas', Location(LA, Los Angeles County, California, USA, (34.0536834, -118.2427669, 0.0)))\n",
      "3.720050811767578\n",
      "2.685817003250122\n",
      "2.3776395320892334\n",
      "('@ClimateChaosBot', Location(Global, 81, Barber Greene Road, Don Mills, North York, Toronto, Ontario, M3C 2C3, Canada, (43.7283874, -79.34914879325, 0.0)))\n",
      "3.4727132320404053\n",
      "('@after_flood', Location(札幌市, 石狩振興局, 北海道, 北海道地方, 日本, (43.0614489, 141.354538, 0.0)))\n",
      "3.6961159706115723\n"
     ]
    }
   ],
   "source": [
    "# Tweets user location scraping loop\n",
    "for user in list_of_users:\n",
    "    start_time = time.time()    \n",
    "    try:\n",
    "        url = parse_url(user)\n",
    "        response = urlopen(url)\n",
    "    except:\n",
    "        continue\n",
    "        \n",
    "    html = response.read()\n",
    "    soup = BeautifulSoup(html, \"lxml\")\n",
    "    \n",
    "    try:\n",
    "        location = soup.find('span','ProfileHeaderCard-locationText').text.strip('\\n').strip()\n",
    "    except:\n",
    "        location = \"\"\n",
    "        \n",
    "    if location:\n",
    "        if ',' in location:\n",
    "            splitted_location = location.split(',')\n",
    "        else:\n",
    "            splitted_location = re.split('|;|-|/|°|#', location)\n",
    "        try:\n",
    "            if splitted_location:\n",
    "                located_location = geolocator.geocode(splitted_location[0], timeout=100)\n",
    "            else:\n",
    "                located_location = geolocator.geocode(location, timeout=100)\n",
    "            if located_location:\n",
    "                user_plus_location = (user, located_location)\n",
    "                print(user_plus_location)\n",
    "                list_of_found_userlocations.append(user_plus_location)\n",
    "            else:\n",
    "                user_plus_incorrect_location = (user, location)\n",
    "                print(user_plus_incorrect_location)\n",
    "                list_of_nonfound_userlocations.append(user_plus_incorrect_location)\n",
    "        except GeocoderTimedOut as e:\n",
    "            print(\"Error: geocode failed on input %s with message %s\"%(location, e))\n",
    "    elapsed_time = time.time() - start_time\n",
    "    print(elapsed_time)"
   ]
  },
  {
   "cell_type": "code",
   "execution_count": 15,
   "metadata": {
    "ExecuteTime": {
     "end_time": "2018-12-25T08:17:22.917547Z",
     "start_time": "2018-12-25T08:17:22.892586Z"
    }
   },
   "outputs": [],
   "source": [
    "# store the user with labelled lat long into a dataframe\n",
    "index_list = list(range(len(list_of_found_userlocations)))\n",
    "columns = ['user','location', 'latitude', 'longitude']\n",
    "\n",
    "df_user_location = pd.DataFrame(index=index_list, columns=columns)\n",
    "\n",
    "for index, item in enumerate(list_of_found_userlocations):\n",
    "\n",
    "    try:\n",
    "        df_user_location['user'].iloc[index] = item[0]\n",
    "        df_user_location['location'].iloc[index] = item[1][0]\n",
    "        df_user_location['latitude'].iloc[index] = item[1][1][0]\n",
    "        df_user_location['longitude'].iloc[index] = item[1][1][1]\n",
    "    except:\n",
    "        continue"
   ]
  },
  {
   "cell_type": "code",
   "execution_count": 16,
   "metadata": {
    "ExecuteTime": {
     "end_time": "2018-12-25T08:17:22.929488Z",
     "start_time": "2018-12-25T08:17:22.919513Z"
    }
   },
   "outputs": [
    {
     "data": {
      "text/plain": [
       "[('@pedromj', Location(東京都, 関東地方, 日本, (34.6968642, 139.4049033, 0.0))),\n",
       " ('@breakingweather',\n",
       "  Location(State College, Centre County, Pennsylvania, USA, (40.7944504, -77.8616386, 0.0))),\n",
       " ('@Somnium410',\n",
       "  Location(東京, 千代田区, 東京都, 関東地方, 100-0002, 日本, (35.6828387, 139.7594549, 0.0))),\n",
       " ('@SaraFujimura', Location(Arizona, USA, (34.395342, -111.7632755, 0.0))),\n",
       " ('@bzwibs',\n",
       "  Location(Earth, Lamb County, Texas, USA, (34.2331373, -102.4107493, 0.0))),\n",
       " ('@hepomodeler', Location(熊本県, 九州地方, 日本, (32.6450475, 130.6341345, 0.0))),\n",
       " ('@ZacharysWeather',\n",
       "  Location(Arlington, Tarrant County, Texas, USA, (32.701939, -97.105624826688, 0.0))),\n",
       " ('@AMMotorworks',\n",
       "  Location(St. Petersburg, Pinellas County, Florida, USA, (27.7703796, -82.6695085, 0.0))),\n",
       " ('@mcdosty',\n",
       "  Location(Accra, Accra Metropolitan, Greater Accra Region, GA-183-8164, Ghana, (5.5600141, -0.2057437, 0.0))),\n",
       " ('@BunnyTokyoJP',\n",
       "  Location(東京, 千代田区, 東京都, 関東地方, 100-0002, 日本, (35.6828387, 139.7594549, 0.0))),\n",
       " ('@UX_Japan',\n",
       "  Location(東京, 千代田区, 東京都, 関東地方, 100-0002, 日本, (35.6828387, 139.7594549, 0.0))),\n",
       " ('@galaxysodas',\n",
       "  Location(LA, Los Angeles County, California, USA, (34.0536834, -118.2427669, 0.0))),\n",
       " ('@ClimateChaosBot',\n",
       "  Location(Global, 81, Barber Greene Road, Don Mills, North York, Toronto, Ontario, M3C 2C3, Canada, (43.7283874, -79.34914879325, 0.0))),\n",
       " ('@after_flood',\n",
       "  Location(札幌市, 石狩振興局, 北海道, 北海道地方, 日本, (43.0614489, 141.354538, 0.0)))]"
      ]
     },
     "execution_count": 16,
     "metadata": {},
     "output_type": "execute_result"
    }
   ],
   "source": [
    "list_of_found_userlocations"
   ]
  },
  {
   "cell_type": "code",
   "execution_count": 17,
   "metadata": {
    "ExecuteTime": {
     "end_time": "2018-12-25T08:17:22.952426Z",
     "start_time": "2018-12-25T08:17:22.932482Z"
    }
   },
   "outputs": [
    {
     "data": {
      "text/html": [
       "<div>\n",
       "<style scoped>\n",
       "    .dataframe tbody tr th:only-of-type {\n",
       "        vertical-align: middle;\n",
       "    }\n",
       "\n",
       "    .dataframe tbody tr th {\n",
       "        vertical-align: top;\n",
       "    }\n",
       "\n",
       "    .dataframe thead th {\n",
       "        text-align: right;\n",
       "    }\n",
       "</style>\n",
       "<table border=\"1\" class=\"dataframe\">\n",
       "  <thead>\n",
       "    <tr style=\"text-align: right;\">\n",
       "      <th></th>\n",
       "      <th>user</th>\n",
       "      <th>location</th>\n",
       "      <th>latitude</th>\n",
       "      <th>longitude</th>\n",
       "    </tr>\n",
       "  </thead>\n",
       "  <tbody>\n",
       "    <tr>\n",
       "      <th>0</th>\n",
       "      <td>@pedromj</td>\n",
       "      <td>東京都, 関東地方, 日本</td>\n",
       "      <td>34.6969</td>\n",
       "      <td>139.405</td>\n",
       "    </tr>\n",
       "    <tr>\n",
       "      <th>1</th>\n",
       "      <td>@breakingweather</td>\n",
       "      <td>State College, Centre County, Pennsylvania, USA</td>\n",
       "      <td>40.7945</td>\n",
       "      <td>-77.8616</td>\n",
       "    </tr>\n",
       "    <tr>\n",
       "      <th>2</th>\n",
       "      <td>@Somnium410</td>\n",
       "      <td>東京, 千代田区, 東京都, 関東地方, 100-0002, 日本</td>\n",
       "      <td>35.6828</td>\n",
       "      <td>139.759</td>\n",
       "    </tr>\n",
       "    <tr>\n",
       "      <th>3</th>\n",
       "      <td>@SaraFujimura</td>\n",
       "      <td>Arizona, USA</td>\n",
       "      <td>34.3953</td>\n",
       "      <td>-111.763</td>\n",
       "    </tr>\n",
       "    <tr>\n",
       "      <th>4</th>\n",
       "      <td>@bzwibs</td>\n",
       "      <td>Earth, Lamb County, Texas, USA</td>\n",
       "      <td>34.2331</td>\n",
       "      <td>-102.411</td>\n",
       "    </tr>\n",
       "    <tr>\n",
       "      <th>5</th>\n",
       "      <td>@hepomodeler</td>\n",
       "      <td>熊本県, 九州地方, 日本</td>\n",
       "      <td>32.645</td>\n",
       "      <td>130.634</td>\n",
       "    </tr>\n",
       "    <tr>\n",
       "      <th>6</th>\n",
       "      <td>@ZacharysWeather</td>\n",
       "      <td>Arlington, Tarrant County, Texas, USA</td>\n",
       "      <td>32.7019</td>\n",
       "      <td>-97.1056</td>\n",
       "    </tr>\n",
       "    <tr>\n",
       "      <th>7</th>\n",
       "      <td>@AMMotorworks</td>\n",
       "      <td>St. Petersburg, Pinellas County, Florida, USA</td>\n",
       "      <td>27.7704</td>\n",
       "      <td>-82.6695</td>\n",
       "    </tr>\n",
       "    <tr>\n",
       "      <th>8</th>\n",
       "      <td>@mcdosty</td>\n",
       "      <td>Accra, Accra Metropolitan, Greater Accra Regio...</td>\n",
       "      <td>5.56001</td>\n",
       "      <td>-0.205744</td>\n",
       "    </tr>\n",
       "    <tr>\n",
       "      <th>9</th>\n",
       "      <td>@BunnyTokyoJP</td>\n",
       "      <td>東京, 千代田区, 東京都, 関東地方, 100-0002, 日本</td>\n",
       "      <td>35.6828</td>\n",
       "      <td>139.759</td>\n",
       "    </tr>\n",
       "    <tr>\n",
       "      <th>10</th>\n",
       "      <td>@UX_Japan</td>\n",
       "      <td>東京, 千代田区, 東京都, 関東地方, 100-0002, 日本</td>\n",
       "      <td>35.6828</td>\n",
       "      <td>139.759</td>\n",
       "    </tr>\n",
       "    <tr>\n",
       "      <th>11</th>\n",
       "      <td>@galaxysodas</td>\n",
       "      <td>LA, Los Angeles County, California, USA</td>\n",
       "      <td>34.0537</td>\n",
       "      <td>-118.243</td>\n",
       "    </tr>\n",
       "    <tr>\n",
       "      <th>12</th>\n",
       "      <td>@ClimateChaosBot</td>\n",
       "      <td>Global, 81, Barber Greene Road, Don Mills, Nor...</td>\n",
       "      <td>43.7284</td>\n",
       "      <td>-79.3491</td>\n",
       "    </tr>\n",
       "    <tr>\n",
       "      <th>13</th>\n",
       "      <td>@after_flood</td>\n",
       "      <td>札幌市, 石狩振興局, 北海道, 北海道地方, 日本</td>\n",
       "      <td>43.0614</td>\n",
       "      <td>141.355</td>\n",
       "    </tr>\n",
       "  </tbody>\n",
       "</table>\n",
       "</div>"
      ],
      "text/plain": [
       "                user                                           location  \\\n",
       "0           @pedromj                                      東京都, 関東地方, 日本   \n",
       "1   @breakingweather    State College, Centre County, Pennsylvania, USA   \n",
       "2        @Somnium410                  東京, 千代田区, 東京都, 関東地方, 100-0002, 日本   \n",
       "3      @SaraFujimura                                       Arizona, USA   \n",
       "4            @bzwibs                     Earth, Lamb County, Texas, USA   \n",
       "5       @hepomodeler                                      熊本県, 九州地方, 日本   \n",
       "6   @ZacharysWeather              Arlington, Tarrant County, Texas, USA   \n",
       "7      @AMMotorworks      St. Petersburg, Pinellas County, Florida, USA   \n",
       "8           @mcdosty  Accra, Accra Metropolitan, Greater Accra Regio...   \n",
       "9      @BunnyTokyoJP                  東京, 千代田区, 東京都, 関東地方, 100-0002, 日本   \n",
       "10         @UX_Japan                  東京, 千代田区, 東京都, 関東地方, 100-0002, 日本   \n",
       "11      @galaxysodas            LA, Los Angeles County, California, USA   \n",
       "12  @ClimateChaosBot  Global, 81, Barber Greene Road, Don Mills, Nor...   \n",
       "13      @after_flood                         札幌市, 石狩振興局, 北海道, 北海道地方, 日本   \n",
       "\n",
       "   latitude longitude  \n",
       "0   34.6969   139.405  \n",
       "1   40.7945  -77.8616  \n",
       "2   35.6828   139.759  \n",
       "3   34.3953  -111.763  \n",
       "4   34.2331  -102.411  \n",
       "5    32.645   130.634  \n",
       "6   32.7019  -97.1056  \n",
       "7   27.7704  -82.6695  \n",
       "8   5.56001 -0.205744  \n",
       "9   35.6828   139.759  \n",
       "10  35.6828   139.759  \n",
       "11  34.0537  -118.243  \n",
       "12  43.7284  -79.3491  \n",
       "13  43.0614   141.355  "
      ]
     },
     "execution_count": 17,
     "metadata": {},
     "output_type": "execute_result"
    }
   ],
   "source": [
    "df_user_location.head(20)"
   ]
  },
  {
   "cell_type": "code",
   "execution_count": 18,
   "metadata": {
    "ExecuteTime": {
     "end_time": "2018-12-25T08:17:22.962400Z",
     "start_time": "2018-12-25T08:17:22.954420Z"
    }
   },
   "outputs": [],
   "source": [
    "# Data Storage"
   ]
  },
  {
   "cell_type": "code",
   "execution_count": 19,
   "metadata": {
    "ExecuteTime": {
     "end_time": "2018-12-25T08:17:22.976360Z",
     "start_time": "2018-12-25T08:17:22.964394Z"
    }
   },
   "outputs": [],
   "source": [
    "df_user_location.to_csv(OUTPUT_PATH + \"/df_Typhoon_Jebi_User_Location_\" + str(STARTROW) + \"_\" + str(ENDROW) + \".csv\", index=False)"
   ]
  },
  {
   "cell_type": "code",
   "execution_count": null,
   "metadata": {},
   "outputs": [],
   "source": []
  },
  {
   "cell_type": "code",
   "execution_count": null,
   "metadata": {},
   "outputs": [],
   "source": []
  }
 ],
 "metadata": {
  "kernelspec": {
   "display_name": "Python 3",
   "language": "python",
   "name": "python3"
  },
  "language_info": {
   "codemirror_mode": {
    "name": "ipython",
    "version": 3
   },
   "file_extension": ".py",
   "mimetype": "text/x-python",
   "name": "python",
   "nbconvert_exporter": "python",
   "pygments_lexer": "ipython3",
   "version": "3.6.3"
  },
  "toc": {
   "nav_menu": {},
   "number_sections": true,
   "sideBar": true,
   "skip_h1_title": false,
   "title_cell": "Table of Contents",
   "title_sidebar": "Contents",
   "toc_cell": false,
   "toc_position": {},
   "toc_section_display": true,
   "toc_window_display": true
  }
 },
 "nbformat": 4,
 "nbformat_minor": 2
}
