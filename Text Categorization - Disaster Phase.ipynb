{
 "cells": [
  {
   "cell_type": "markdown",
   "metadata": {},
   "source": [
    "# Initialization"
   ]
  },
  {
   "cell_type": "code",
   "execution_count": 1,
   "metadata": {
    "ExecuteTime": {
     "end_time": "2018-12-24T17:55:46.150554Z",
     "start_time": "2018-12-24T17:55:45.326725Z"
    }
   },
   "outputs": [],
   "source": [
    "## Import Libraries and Dependencies ##\n",
    "from sklearn import model_selection, preprocessing, linear_model, naive_bayes, metrics, svm\n",
    "from sklearn.feature_extraction.text import TfidfVectorizer, CountVectorizer\n",
    "from sklearn import decomposition, ensemble\n",
    "\n",
    "import pandas as pd\n",
    "import numpy as np\n",
    "\n",
    "import random"
   ]
  },
  {
   "cell_type": "markdown",
   "metadata": {},
   "source": [
    "# Dataset Preparation"
   ]
  },
  {
   "cell_type": "markdown",
   "metadata": {},
   "source": [
    "## Tweets data"
   ]
  },
  {
   "cell_type": "code",
   "execution_count": 2,
   "metadata": {
    "ExecuteTime": {
     "end_time": "2018-12-24T17:55:46.155506Z",
     "start_time": "2018-12-24T17:55:46.151517Z"
    }
   },
   "outputs": [],
   "source": [
    "# Path for raw tweets input data\n",
    "DATA_PATH = \"D:/OneDrive - National University of Singapore/NUS MTech KE/MTech KE - FYP - InsureSense/Kang Jiang/Phase 3/System Implementation/scripts/Data Mining & Machine Learning/dataset/disaster_phase_text_classification/self/\""
   ]
  },
  {
   "cell_type": "code",
   "execution_count": 3,
   "metadata": {
    "ExecuteTime": {
     "end_time": "2018-12-24T17:55:46.356969Z",
     "start_time": "2018-12-24T17:55:46.157504Z"
    }
   },
   "outputs": [],
   "source": [
    "df = pd.read_excel(DATA_PATH + 'phase_labelled.xlsx', index_col=0).reset_index(drop=True)"
   ]
  },
  {
   "cell_type": "code",
   "execution_count": 4,
   "metadata": {
    "ExecuteTime": {
     "end_time": "2018-12-24T17:55:46.363951Z",
     "start_time": "2018-12-24T17:55:46.358963Z"
    }
   },
   "outputs": [],
   "source": [
    "df = df[['processed_text','category_flag']]"
   ]
  },
  {
   "cell_type": "code",
   "execution_count": 5,
   "metadata": {
    "ExecuteTime": {
     "end_time": "2018-12-24T17:55:46.375918Z",
     "start_time": "2018-12-24T17:55:46.365958Z"
    }
   },
   "outputs": [],
   "source": [
    "# Extract processed text and disaster label\n",
    "df = df.rename(columns={'processed_text': 'text', 'category_flag': 'label'})"
   ]
  },
  {
   "cell_type": "code",
   "execution_count": 6,
   "metadata": {
    "ExecuteTime": {
     "end_time": "2018-12-24T17:55:46.386889Z",
     "start_time": "2018-12-24T17:55:46.377913Z"
    }
   },
   "outputs": [],
   "source": [
    "trainDF = df"
   ]
  },
  {
   "cell_type": "code",
   "execution_count": 7,
   "metadata": {
    "ExecuteTime": {
     "end_time": "2018-12-24T17:55:46.397870Z",
     "start_time": "2018-12-24T17:55:46.387886Z"
    }
   },
   "outputs": [],
   "source": [
    "# remove blank text\n",
    "trainDF = trainDF.dropna()"
   ]
  },
  {
   "cell_type": "markdown",
   "metadata": {},
   "source": [
    "# Train Test Split (0.7 vs 0.3)"
   ]
  },
  {
   "cell_type": "code",
   "execution_count": 8,
   "metadata": {
    "ExecuteTime": {
     "end_time": "2018-12-24T17:55:46.405865Z",
     "start_time": "2018-12-24T17:55:46.399856Z"
    }
   },
   "outputs": [],
   "source": [
    "# split the dataset into training and testing se with 0.7 vs 0.3 proportion\n",
    "train_x, test_x, train_y, test_y = model_selection.train_test_split(trainDF['text'], trainDF['label'], test_size=0.30, random_state=123)"
   ]
  },
  {
   "cell_type": "code",
   "execution_count": 9,
   "metadata": {
    "ExecuteTime": {
     "end_time": "2018-12-24T17:55:46.411850Z",
     "start_time": "2018-12-24T17:55:46.407863Z"
    }
   },
   "outputs": [],
   "source": [
    "# # label and encode the target variable \n",
    "# encoder = preprocessing.LabelEncoder()\n",
    "# train_y = encoder.fit_transform(train_y)\n",
    "# test_y = encoder.fit_transform(test_y)"
   ]
  },
  {
   "cell_type": "markdown",
   "metadata": {},
   "source": [
    "# Feature Engineering"
   ]
  },
  {
   "cell_type": "markdown",
   "metadata": {},
   "source": [
    "## Count Vectors as features"
   ]
  },
  {
   "cell_type": "markdown",
   "metadata": {},
   "source": [
    "Count Vector is a matrix notation of the dataset in which every row represents a tweet from the dataset, every column represents a term from the dataset, and every cell represents the frequency count of a particular term in a particular tweet"
   ]
  },
  {
   "cell_type": "code",
   "execution_count": 10,
   "metadata": {
    "ExecuteTime": {
     "end_time": "2018-12-24T17:55:46.444764Z",
     "start_time": "2018-12-24T17:55:46.412819Z"
    }
   },
   "outputs": [
    {
     "data": {
      "text/plain": [
       "CountVectorizer(analyzer='word', binary=False, decode_error='strict',\n",
       "        dtype=<class 'numpy.int64'>, encoding='utf-8', input='content',\n",
       "        lowercase=True, max_df=1.0, max_features=None, min_df=1,\n",
       "        ngram_range=(1, 1), preprocessor=None, stop_words=None,\n",
       "        strip_accents=None, token_pattern='(?u)\\\\b\\\\w\\\\w+\\\\b',\n",
       "        tokenizer=None, vocabulary=None)"
      ]
     },
     "execution_count": 10,
     "metadata": {},
     "output_type": "execute_result"
    }
   ],
   "source": [
    "# create a count vectorizer object \n",
    "count_vect = CountVectorizer(analyzer='word')\n",
    "count_vect.fit(trainDF['text'])"
   ]
  },
  {
   "cell_type": "code",
   "execution_count": 11,
   "metadata": {
    "ExecuteTime": {
     "end_time": "2018-12-24T17:55:46.465707Z",
     "start_time": "2018-12-24T17:55:46.446731Z"
    }
   },
   "outputs": [],
   "source": [
    "# transform the training and validation data using count vectorizer object\n",
    "xtrain_count =  count_vect.transform(train_x)\n",
    "xtest_count =  count_vect.transform(test_x)"
   ]
  },
  {
   "cell_type": "markdown",
   "metadata": {},
   "source": [
    "## TF-IDF Vectors as features"
   ]
  },
  {
   "cell_type": "markdown",
   "metadata": {},
   "source": [
    "This matrix representing tf-idf scores of every term in different tweet"
   ]
  },
  {
   "cell_type": "code",
   "execution_count": 12,
   "metadata": {
    "ExecuteTime": {
     "end_time": "2018-12-24T17:55:46.509561Z",
     "start_time": "2018-12-24T17:55:46.467672Z"
    }
   },
   "outputs": [],
   "source": [
    "# derive the word level tf-idf\n",
    "tfidf_vect = TfidfVectorizer(analyzer='word', token_pattern=r'\\w{1,}', max_features=5000)\n",
    "tfidf_vect.fit(trainDF['text'])\n",
    "xtrain_tfidf =  tfidf_vect.transform(train_x)\n",
    "xtest_tfidf =  tfidf_vect.transform(test_x)"
   ]
  },
  {
   "cell_type": "markdown",
   "metadata": {},
   "source": [
    "N-grams are the combination of N terms together. This Matrix representing tf-idf scores of N-grams in different tweet minimum 2 words-grams and maximum 3 words-gram"
   ]
  },
  {
   "cell_type": "code",
   "execution_count": 13,
   "metadata": {
    "ExecuteTime": {
     "end_time": "2018-12-24T17:55:46.655172Z",
     "start_time": "2018-12-24T17:55:46.511556Z"
    }
   },
   "outputs": [],
   "source": [
    "# derive the ngram level tf-idf \n",
    "tfidf_vect_ngram = TfidfVectorizer(analyzer='word', token_pattern=r'\\w{1,}', ngram_range=(2,3), max_features=5000)\n",
    "tfidf_vect_ngram.fit(trainDF['text'])\n",
    "xtrain_tfidf_ngram =  tfidf_vect_ngram.transform(train_x)\n",
    "xtest_tfidf_ngram =  tfidf_vect_ngram.transform(test_x)"
   ]
  },
  {
   "cell_type": "markdown",
   "metadata": {},
   "source": [
    "This matrix representing tf-idf scores of character level n-grams in the tweet"
   ]
  },
  {
   "cell_type": "code",
   "execution_count": 14,
   "metadata": {
    "ExecuteTime": {
     "end_time": "2018-12-24T17:55:46.905537Z",
     "start_time": "2018-12-24T17:55:46.657167Z"
    }
   },
   "outputs": [],
   "source": [
    "# derive the characters level tf-idf\n",
    "tfidf_vect_ngram_chars = TfidfVectorizer(analyzer='char', token_pattern=r'\\w{1,}', ngram_range=(2,3), max_features=5000)\n",
    "tfidf_vect_ngram_chars.fit(trainDF['text'])\n",
    "xtrain_tfidf_ngram_chars =  tfidf_vect_ngram_chars.transform(train_x) \n",
    "xtest_tfidf_ngram_chars =  tfidf_vect_ngram_chars.transform(test_x) "
   ]
  },
  {
   "cell_type": "markdown",
   "metadata": {},
   "source": [
    "# Model Building"
   ]
  },
  {
   "cell_type": "markdown",
   "metadata": {},
   "source": [
    "## Naive Bayes"
   ]
  },
  {
   "cell_type": "code",
   "execution_count": 15,
   "metadata": {
    "ExecuteTime": {
     "end_time": "2018-12-24T17:55:46.915502Z",
     "start_time": "2018-12-24T17:55:46.906498Z"
    }
   },
   "outputs": [
    {
     "data": {
      "text/plain": [
       "0.82913165266106448"
      ]
     },
     "execution_count": 15,
     "metadata": {},
     "output_type": "execute_result"
    }
   ],
   "source": [
    "# Naive Bayes on Count Vectors\n",
    "classifier_1 = naive_bayes.MultinomialNB()\n",
    "classifier_1.fit(xtrain_count, train_y)\n",
    "predictions_1 = classifier_1.predict(xtest_count)\n",
    "metrics.accuracy_score(predictions_1, test_y)"
   ]
  },
  {
   "cell_type": "code",
   "execution_count": 16,
   "metadata": {
    "ExecuteTime": {
     "end_time": "2018-12-24T17:55:46.923455Z",
     "start_time": "2018-12-24T17:55:46.917473Z"
    }
   },
   "outputs": [],
   "source": [
    "df_predict_1 = pd.DataFrame(predictions_1).rename(columns={0: 'predict_1'})"
   ]
  },
  {
   "cell_type": "code",
   "execution_count": 17,
   "metadata": {
    "ExecuteTime": {
     "end_time": "2018-12-24T17:55:46.936423Z",
     "start_time": "2018-12-24T17:55:46.925451Z"
    }
   },
   "outputs": [
    {
     "data": {
      "text/plain": [
       "0.8263305322128851"
      ]
     },
     "execution_count": 17,
     "metadata": {},
     "output_type": "execute_result"
    }
   ],
   "source": [
    "# Naive Bayes on Word Level TF IDF Vectors\n",
    "classifier_2 = naive_bayes.MultinomialNB()\n",
    "classifier_2.fit(xtrain_tfidf, train_y)\n",
    "predictions_2 = classifier_2.predict(xtest_tfidf)\n",
    "metrics.accuracy_score(predictions_2, test_y)"
   ]
  },
  {
   "cell_type": "code",
   "execution_count": 18,
   "metadata": {
    "ExecuteTime": {
     "end_time": "2018-12-24T17:55:46.944404Z",
     "start_time": "2018-12-24T17:55:46.939413Z"
    }
   },
   "outputs": [],
   "source": [
    "df_predict_2 = pd.DataFrame(predictions_2).rename(columns={0: 'predict_2'})"
   ]
  },
  {
   "cell_type": "code",
   "execution_count": 19,
   "metadata": {
    "ExecuteTime": {
     "end_time": "2018-12-24T17:55:46.959387Z",
     "start_time": "2018-12-24T17:55:46.946394Z"
    }
   },
   "outputs": [
    {
     "data": {
      "text/plain": [
       "0.67787114845938379"
      ]
     },
     "execution_count": 19,
     "metadata": {},
     "output_type": "execute_result"
    }
   ],
   "source": [
    "# Naive Bayes on Ngram Level TF IDF Vectors\n",
    "classifier_3 = naive_bayes.MultinomialNB()\n",
    "classifier_3.fit(xtrain_tfidf_ngram, train_y)\n",
    "predictions_3 = classifier_3.predict(xtest_tfidf_ngram)\n",
    "metrics.accuracy_score(predictions_3, test_y)"
   ]
  },
  {
   "cell_type": "code",
   "execution_count": 20,
   "metadata": {
    "ExecuteTime": {
     "end_time": "2018-12-24T17:55:46.969331Z",
     "start_time": "2018-12-24T17:55:46.961352Z"
    }
   },
   "outputs": [],
   "source": [
    "df_predict_3 = pd.DataFrame(predictions_3).rename(columns={0: 'predict_3'})"
   ]
  },
  {
   "cell_type": "code",
   "execution_count": 21,
   "metadata": {
    "ExecuteTime": {
     "end_time": "2018-12-24T17:55:46.984292Z",
     "start_time": "2018-12-24T17:55:46.971326Z"
    }
   },
   "outputs": [
    {
     "data": {
      "text/plain": [
       "0.81792717086834732"
      ]
     },
     "execution_count": 21,
     "metadata": {},
     "output_type": "execute_result"
    }
   ],
   "source": [
    "# Naive Bayes on Character Level TF IDF Vectors\n",
    "classifier_4 = naive_bayes.MultinomialNB()\n",
    "classifier_4.fit(xtrain_tfidf_ngram_chars, train_y)\n",
    "predictions_4 = classifier_4.predict(xtest_tfidf_ngram_chars)\n",
    "metrics.accuracy_score(predictions_4, test_y)"
   ]
  },
  {
   "cell_type": "code",
   "execution_count": 22,
   "metadata": {
    "ExecuteTime": {
     "end_time": "2018-12-24T17:55:46.992270Z",
     "start_time": "2018-12-24T17:55:46.986287Z"
    }
   },
   "outputs": [],
   "source": [
    "df_predict_4 = pd.DataFrame(predictions_4).rename(columns={0: 'predict_4'})"
   ]
  },
  {
   "cell_type": "markdown",
   "metadata": {},
   "source": [
    "## Linear Regression"
   ]
  },
  {
   "cell_type": "code",
   "execution_count": 23,
   "metadata": {
    "ExecuteTime": {
     "end_time": "2018-12-24T17:55:47.026179Z",
     "start_time": "2018-12-24T17:55:46.994265Z"
    }
   },
   "outputs": [
    {
     "data": {
      "text/plain": [
       "0.77871148459383754"
      ]
     },
     "execution_count": 23,
     "metadata": {},
     "output_type": "execute_result"
    }
   ],
   "source": [
    "# Linear Classifier on Count Vectors\n",
    "classifier_5 = linear_model.LogisticRegression()\n",
    "classifier_5.fit(xtrain_count, train_y)\n",
    "predictions_5 = classifier_5.predict(xtest_count)\n",
    "metrics.accuracy_score(predictions_5, test_y)"
   ]
  },
  {
   "cell_type": "code",
   "execution_count": 24,
   "metadata": {
    "ExecuteTime": {
     "end_time": "2018-12-24T17:55:47.033160Z",
     "start_time": "2018-12-24T17:55:47.028174Z"
    }
   },
   "outputs": [],
   "source": [
    "df_predict_5 = pd.DataFrame(predictions_5).rename(columns={0: 'predict_5'})"
   ]
  },
  {
   "cell_type": "code",
   "execution_count": 25,
   "metadata": {
    "ExecuteTime": {
     "end_time": "2018-12-24T17:55:47.053111Z",
     "start_time": "2018-12-24T17:55:47.035155Z"
    }
   },
   "outputs": [
    {
     "data": {
      "text/plain": [
       "0.80112044817927175"
      ]
     },
     "execution_count": 25,
     "metadata": {},
     "output_type": "execute_result"
    }
   ],
   "source": [
    "# Linear Classifier on Word Level TF IDF Vectors\n",
    "classifier_6 = linear_model.LogisticRegression()\n",
    "classifier_6.fit(xtrain_tfidf, train_y)\n",
    "predictions_6 = classifier_6.predict(xtest_tfidf)\n",
    "metrics.accuracy_score(predictions_6, test_y)"
   ]
  },
  {
   "cell_type": "code",
   "execution_count": 26,
   "metadata": {
    "ExecuteTime": {
     "end_time": "2018-12-24T17:55:47.061086Z",
     "start_time": "2018-12-24T17:55:47.055104Z"
    }
   },
   "outputs": [],
   "source": [
    "df_predict_6 = pd.DataFrame(predictions_6).rename(columns={0: 'predict_6'})"
   ]
  },
  {
   "cell_type": "code",
   "execution_count": 27,
   "metadata": {
    "ExecuteTime": {
     "end_time": "2018-12-24T17:55:47.085022Z",
     "start_time": "2018-12-24T17:55:47.063080Z"
    }
   },
   "outputs": [
    {
     "data": {
      "text/plain": [
       "0.64985994397759106"
      ]
     },
     "execution_count": 27,
     "metadata": {},
     "output_type": "execute_result"
    }
   ],
   "source": [
    "# Linear Classifier on Ngram Level TF IDF Vectors\n",
    "classifier_7 = linear_model.LogisticRegression()\n",
    "classifier_7.fit(xtrain_tfidf_ngram, train_y)\n",
    "predictions_7 = classifier_7.predict(xtest_tfidf_ngram)\n",
    "metrics.accuracy_score(predictions_7, test_y)"
   ]
  },
  {
   "cell_type": "code",
   "execution_count": 28,
   "metadata": {
    "ExecuteTime": {
     "end_time": "2018-12-24T17:55:47.092003Z",
     "start_time": "2018-12-24T17:55:47.087017Z"
    }
   },
   "outputs": [],
   "source": [
    "df_predict_7 = pd.DataFrame(predictions_7).rename(columns={0: 'predict_7'})"
   ]
  },
  {
   "cell_type": "code",
   "execution_count": 29,
   "metadata": {
    "ExecuteTime": {
     "end_time": "2018-12-24T17:55:47.136885Z",
     "start_time": "2018-12-24T17:55:47.093998Z"
    }
   },
   "outputs": [
    {
     "data": {
      "text/plain": [
       "0.82913165266106448"
      ]
     },
     "execution_count": 29,
     "metadata": {},
     "output_type": "execute_result"
    }
   ],
   "source": [
    "# Linear Classifier on Character Level TF IDF Vectors\n",
    "classifier_8 = linear_model.LogisticRegression()\n",
    "classifier_8.fit(xtrain_tfidf_ngram_chars, train_y)\n",
    "predictions_8 = classifier_8.predict(xtest_tfidf_ngram_chars)\n",
    "metrics.accuracy_score(predictions_8, test_y)"
   ]
  },
  {
   "cell_type": "code",
   "execution_count": 30,
   "metadata": {
    "ExecuteTime": {
     "end_time": "2018-12-24T17:55:47.143897Z",
     "start_time": "2018-12-24T17:55:47.138878Z"
    }
   },
   "outputs": [],
   "source": [
    "df_predict_8 = pd.DataFrame(predictions_8).rename(columns={0: 'predict_8'})"
   ]
  },
  {
   "cell_type": "markdown",
   "metadata": {},
   "source": [
    "## Random Forest"
   ]
  },
  {
   "cell_type": "code",
   "execution_count": 31,
   "metadata": {
    "ExecuteTime": {
     "end_time": "2018-12-24T17:55:47.242601Z",
     "start_time": "2018-12-24T17:55:47.145859Z"
    }
   },
   "outputs": [
    {
     "data": {
      "text/plain": [
       "0.74509803921568629"
      ]
     },
     "execution_count": 31,
     "metadata": {},
     "output_type": "execute_result"
    }
   ],
   "source": [
    "# Random Forest on Count Vectors\n",
    "classifier_9 = ensemble.RandomForestClassifier()\n",
    "classifier_9.fit(xtrain_count, train_y)\n",
    "predictions_9 = classifier_9.predict(xtest_count)\n",
    "metrics.accuracy_score(predictions_9, test_y)"
   ]
  },
  {
   "cell_type": "code",
   "execution_count": 32,
   "metadata": {
    "ExecuteTime": {
     "end_time": "2018-12-24T17:55:47.250580Z",
     "start_time": "2018-12-24T17:55:47.244597Z"
    }
   },
   "outputs": [],
   "source": [
    "df_predict_9 = pd.DataFrame(predictions_9).rename(columns={0: 'predict_9'})"
   ]
  },
  {
   "cell_type": "code",
   "execution_count": 33,
   "metadata": {
    "ExecuteTime": {
     "end_time": "2018-12-24T17:55:47.346323Z",
     "start_time": "2018-12-24T17:55:47.253572Z"
    }
   },
   "outputs": [
    {
     "data": {
      "text/plain": [
       "0.69467787114845936"
      ]
     },
     "execution_count": 33,
     "metadata": {},
     "output_type": "execute_result"
    }
   ],
   "source": [
    "# Random Forest on Word Level TF IDF Vectors\n",
    "classifier_10 = ensemble.RandomForestClassifier()\n",
    "classifier_10.fit(xtrain_tfidf, train_y)\n",
    "predictions_10 = classifier_10.predict(xtest_tfidf)\n",
    "metrics.accuracy_score(predictions_10, test_y)"
   ]
  },
  {
   "cell_type": "code",
   "execution_count": 34,
   "metadata": {
    "ExecuteTime": {
     "end_time": "2018-12-24T17:55:47.352308Z",
     "start_time": "2018-12-24T17:55:47.347320Z"
    }
   },
   "outputs": [],
   "source": [
    "df_predict_10 = pd.DataFrame(predictions_10).rename(columns={0: 'predict_10'})"
   ]
  },
  {
   "cell_type": "code",
   "execution_count": 35,
   "metadata": {
    "ExecuteTime": {
     "end_time": "2018-12-24T17:55:47.473987Z",
     "start_time": "2018-12-24T17:55:47.355299Z"
    }
   },
   "outputs": [
    {
     "data": {
      "text/plain": [
       "0.72549019607843135"
      ]
     },
     "execution_count": 35,
     "metadata": {},
     "output_type": "execute_result"
    }
   ],
   "source": [
    "# Random Forest on Character Level TF IDF Vectors\n",
    "classifier_11 = ensemble.RandomForestClassifier()\n",
    "classifier_11.fit(xtrain_tfidf_ngram_chars, train_y)\n",
    "predictions_11 = classifier_11.predict(xtest_tfidf_ngram_chars)\n",
    "metrics.accuracy_score(predictions_11, test_y)"
   ]
  },
  {
   "cell_type": "code",
   "execution_count": 36,
   "metadata": {
    "ExecuteTime": {
     "end_time": "2018-12-24T17:55:47.482959Z",
     "start_time": "2018-12-24T17:55:47.475981Z"
    }
   },
   "outputs": [],
   "source": [
    "df_predict_11 = pd.DataFrame(predictions_11).rename(columns={0: 'predict_11'})"
   ]
  },
  {
   "cell_type": "markdown",
   "metadata": {},
   "source": [
    "## Ensemble Models"
   ]
  },
  {
   "cell_type": "code",
   "execution_count": 37,
   "metadata": {
    "ExecuteTime": {
     "end_time": "2018-12-24T17:55:47.491935Z",
     "start_time": "2018-12-24T17:55:47.485951Z"
    }
   },
   "outputs": [],
   "source": [
    "frames = [df_predict_1, df_predict_2, df_predict_4, df_predict_6, df_predict_7]"
   ]
  },
  {
   "cell_type": "code",
   "execution_count": 38,
   "metadata": {
    "ExecuteTime": {
     "end_time": "2018-12-24T17:55:47.661480Z",
     "start_time": "2018-12-24T17:55:47.494927Z"
    }
   },
   "outputs": [],
   "source": [
    "df_predict_ensemble = pd.concat(frames, axis=1)\n",
    "df_predict_ensemble['predict_ensemble']  = \"\"\n",
    "col = df_predict_ensemble.loc[: , :]\n",
    "df_predict_ensemble['predict_ensemble'] = col.mode(axis=1)\n",
    "df_predict_ensemble['predict_ensemble'] = df_predict_ensemble['predict_ensemble'].astype('int')\n",
    "df_predict_ensemble['predict_final'] = df_predict_ensemble['predict_ensemble'] "
   ]
  },
  {
   "cell_type": "code",
   "execution_count": 39,
   "metadata": {
    "ExecuteTime": {
     "end_time": "2018-12-24T17:55:47.678436Z",
     "start_time": "2018-12-24T17:55:47.663475Z"
    }
   },
   "outputs": [
    {
     "data": {
      "text/html": [
       "<div>\n",
       "<style scoped>\n",
       "    .dataframe tbody tr th:only-of-type {\n",
       "        vertical-align: middle;\n",
       "    }\n",
       "\n",
       "    .dataframe tbody tr th {\n",
       "        vertical-align: top;\n",
       "    }\n",
       "\n",
       "    .dataframe thead th {\n",
       "        text-align: right;\n",
       "    }\n",
       "</style>\n",
       "<table border=\"1\" class=\"dataframe\">\n",
       "  <thead>\n",
       "    <tr style=\"text-align: right;\">\n",
       "      <th></th>\n",
       "      <th>predict_1</th>\n",
       "      <th>predict_2</th>\n",
       "      <th>predict_4</th>\n",
       "      <th>predict_6</th>\n",
       "      <th>predict_7</th>\n",
       "      <th>predict_ensemble</th>\n",
       "      <th>predict_final</th>\n",
       "    </tr>\n",
       "  </thead>\n",
       "  <tbody>\n",
       "    <tr>\n",
       "      <th>0</th>\n",
       "      <td>1</td>\n",
       "      <td>1</td>\n",
       "      <td>1</td>\n",
       "      <td>1</td>\n",
       "      <td>4</td>\n",
       "      <td>1</td>\n",
       "      <td>1</td>\n",
       "    </tr>\n",
       "    <tr>\n",
       "      <th>1</th>\n",
       "      <td>4</td>\n",
       "      <td>4</td>\n",
       "      <td>4</td>\n",
       "      <td>4</td>\n",
       "      <td>4</td>\n",
       "      <td>4</td>\n",
       "      <td>4</td>\n",
       "    </tr>\n",
       "    <tr>\n",
       "      <th>2</th>\n",
       "      <td>2</td>\n",
       "      <td>2</td>\n",
       "      <td>2</td>\n",
       "      <td>2</td>\n",
       "      <td>4</td>\n",
       "      <td>2</td>\n",
       "      <td>2</td>\n",
       "    </tr>\n",
       "    <tr>\n",
       "      <th>3</th>\n",
       "      <td>3</td>\n",
       "      <td>3</td>\n",
       "      <td>3</td>\n",
       "      <td>3</td>\n",
       "      <td>3</td>\n",
       "      <td>3</td>\n",
       "      <td>3</td>\n",
       "    </tr>\n",
       "    <tr>\n",
       "      <th>4</th>\n",
       "      <td>1</td>\n",
       "      <td>1</td>\n",
       "      <td>4</td>\n",
       "      <td>1</td>\n",
       "      <td>1</td>\n",
       "      <td>1</td>\n",
       "      <td>1</td>\n",
       "    </tr>\n",
       "  </tbody>\n",
       "</table>\n",
       "</div>"
      ],
      "text/plain": [
       "   predict_1  predict_2  predict_4  predict_6  predict_7  predict_ensemble  \\\n",
       "0          1          1          1          1          4                 1   \n",
       "1          4          4          4          4          4                 4   \n",
       "2          2          2          2          2          4                 2   \n",
       "3          3          3          3          3          3                 3   \n",
       "4          1          1          4          1          1                 1   \n",
       "\n",
       "   predict_final  \n",
       "0              1  \n",
       "1              4  \n",
       "2              2  \n",
       "3              3  \n",
       "4              1  "
      ]
     },
     "execution_count": 39,
     "metadata": {},
     "output_type": "execute_result"
    }
   ],
   "source": [
    "df_predict_ensemble.head()"
   ]
  },
  {
   "cell_type": "code",
   "execution_count": 40,
   "metadata": {
    "ExecuteTime": {
     "end_time": "2018-12-24T17:55:47.688414Z",
     "start_time": "2018-12-24T17:55:47.681439Z"
    }
   },
   "outputs": [],
   "source": [
    "predictions_final = df_predict_ensemble['predict_final'].values"
   ]
  },
  {
   "cell_type": "code",
   "execution_count": 41,
   "metadata": {
    "ExecuteTime": {
     "end_time": "2018-12-24T17:55:47.702371Z",
     "start_time": "2018-12-24T17:55:47.690405Z"
    }
   },
   "outputs": [
    {
     "data": {
      "text/plain": [
       "0.82352941176470584"
      ]
     },
     "execution_count": 41,
     "metadata": {},
     "output_type": "execute_result"
    }
   ],
   "source": [
    "metrics.accuracy_score(predictions_final, test_y)"
   ]
  },
  {
   "cell_type": "markdown",
   "metadata": {},
   "source": [
    "# Model Validation"
   ]
  },
  {
   "cell_type": "code",
   "execution_count": 42,
   "metadata": {
    "ExecuteTime": {
     "end_time": "2018-12-24T17:55:48.144191Z",
     "start_time": "2018-12-24T17:55:47.705363Z"
    }
   },
   "outputs": [],
   "source": [
    "# import libraries for performance validation  \n",
    "from sklearn.metrics import confusion_matrix, classification_report\n",
    "\n",
    "# Function to plot Confusion Matrix\n",
    "import itertools\n",
    "import matplotlib.pyplot as plt\n",
    "import seaborn as sns\n",
    "\n",
    "\n",
    "\n",
    "def plot_confusion_matrix(cm, classes,\n",
    "                          normalize=False,\n",
    "                          title='Confusion matrix',\n",
    "                          cmap=plt.cm.Blues):\n",
    "    \"\"\"\n",
    "    This function prints and plots the confusion matrix.\n",
    "    Normalization can be applied by setting `normalize=True`.\n",
    "    \"\"\"\n",
    "    if normalize:\n",
    "        cm = cm.astype('float') / cm.sum(axis=1)[:, np.newaxis]\n",
    "        print(\"Normalized confusion matrix\")\n",
    "    else:\n",
    "        print('Confusion matrix, without normalization')\n",
    "\n",
    "#     print(cm)\n",
    "\n",
    "    plt.imshow(cm, interpolation='nearest', cmap=cmap)\n",
    "    plt.title(title)\n",
    "    plt.colorbar()\n",
    "    tick_marks = np.arange(len(classes))\n",
    "    plt.xticks(tick_marks, classes, rotation=45)\n",
    "    plt.yticks(tick_marks, classes)\n",
    "\n",
    "    fmt = '.2f' if normalize else 'd'\n",
    "    thresh = cm.max() / 2.\n",
    "    for i, j in itertools.product(range(cm.shape[0]), range(cm.shape[1])):\n",
    "        plt.text(j, i, format(cm[i, j], fmt),\n",
    "                 horizontalalignment=\"center\",\n",
    "                 color=\"white\" if cm[i, j] > thresh else \"black\")\n",
    "\n",
    "    plt.tight_layout()\n",
    "    plt.ylabel('True label')\n",
    "    plt.xlabel('Predicted label')"
   ]
  },
  {
   "cell_type": "code",
   "execution_count": 43,
   "metadata": {
    "ExecuteTime": {
     "end_time": "2018-12-24T17:55:48.335682Z",
     "start_time": "2018-12-24T17:55:48.147183Z"
    }
   },
   "outputs": [
    {
     "name": "stdout",
     "output_type": "stream",
     "text": [
      "Confusion matrix, without normalization\n"
     ]
    },
    {
     "data": {
      "image/png": "[encoded data removed]",
      "text/plain": [
       "<matplotlib.figure.Figure at 0x16b25ea6f98>"
      ]
     },
     "metadata": {},
     "output_type": "display_data"
    },
    {
     "data": {
      "text/plain": [
       "<matplotlib.figure.Figure at 0x16b25ea6a58>"
      ]
     },
     "metadata": {},
     "output_type": "display_data"
    }
   ],
   "source": [
    "# plot the confusion matrix of classification model\n",
    "sns.set(style=\"whitegrid\", font_scale=1)\n",
    "cnf_matrix = confusion_matrix(test_y, predictions_final)\n",
    "plot_confusion_matrix(cnf_matrix, classes=[],\n",
    "                      title='Confusion Matrix of Naive Bayes Classification Model Without Normalization')\n",
    "plt.figure()\n",
    "plt.show()"
   ]
  },
  {
   "cell_type": "code",
   "execution_count": 44,
   "metadata": {
    "ExecuteTime": {
     "end_time": "2018-12-24T17:55:48.344653Z",
     "start_time": "2018-12-24T17:55:48.337675Z"
    }
   },
   "outputs": [
    {
     "name": "stdout",
     "output_type": "stream",
     "text": [
      "             precision    recall  f1-score   support\n",
      "\n",
      "          1       0.83      0.80      0.82       100\n",
      "          2       0.77      0.76      0.76        86\n",
      "          3       0.77      0.81      0.79        90\n",
      "          4       0.93      0.94      0.93        81\n",
      "\n",
      "avg / total       0.82      0.82      0.82       357\n",
      "\n"
     ]
    }
   ],
   "source": [
    "print(classification_report(test_y, predictions_final))"
   ]
  },
  {
   "cell_type": "markdown",
   "metadata": {},
   "source": [
    "# Diasaster Phase Tweets Classification"
   ]
  },
  {
   "cell_type": "code",
   "execution_count": 45,
   "metadata": {
    "ExecuteTime": {
     "end_time": "2018-12-24T17:55:48.352632Z",
     "start_time": "2018-12-24T17:55:48.346648Z"
    }
   },
   "outputs": [],
   "source": [
    "INPUT_PATH = (\"D:/OneDrive - National University of Singapore/NUS MTech KE/MTech KE - FYP - InsureSense/Kang Jiang/Phase 3/System Implementation/scripts/Data Mining & Machine Learning/dataset/disaster_text_classification/model/\")"
   ]
  },
  {
   "cell_type": "code",
   "execution_count": 46,
   "metadata": {
    "ExecuteTime": {
     "end_time": "2018-12-24T17:55:48.364599Z",
     "start_time": "2018-12-24T17:55:48.354641Z"
    }
   },
   "outputs": [],
   "source": [
    "OUTPUT_PATH = (\"D:/OneDrive - National University of Singapore/NUS MTech KE/MTech KE - FYP - InsureSense/Kang Jiang/Phase 3/System Implementation/scripts/Data Mining & Machine Learning/dataset/disaster_phase_text_classification/model/\")"
   ]
  },
  {
   "cell_type": "markdown",
   "metadata": {},
   "source": [
    "## Japan Floods"
   ]
  },
  {
   "cell_type": "code",
   "execution_count": 47,
   "metadata": {
    "ExecuteTime": {
     "end_time": "2018-12-24T17:55:48.624937Z",
     "start_time": "2018-12-24T17:55:48.366596Z"
    }
   },
   "outputs": [],
   "source": [
    "## Data Processing ##\n",
    "df_Japan_floods = pd.read_csv(INPUT_PATH + 'df_Japan_floods_disaster_labelled.csv', index_col=0, encoding = \"ISO-8859-1\")"
   ]
  },
  {
   "cell_type": "code",
   "execution_count": 48,
   "metadata": {
    "ExecuteTime": {
     "end_time": "2018-12-24T17:55:48.649849Z",
     "start_time": "2018-12-24T17:55:48.625900Z"
    }
   },
   "outputs": [
    {
     "name": "stdout",
     "output_type": "stream",
     "text": [
      "<class 'pandas.core.frame.DataFrame'>\n",
      "Int64Index: 36988 entries, 0 to 36987\n",
      "Data columns (total 12 columns):\n",
      "tweet_id          36988 non-null float64\n",
      "user              36988 non-null object\n",
      "timestamp         36988 non-null object\n",
      "date              36988 non-null object\n",
      "events            36988 non-null object\n",
      "text              36988 non-null object\n",
      "processed_text    36988 non-null object\n",
      "likes             36988 non-null int64\n",
      "replies           36988 non-null int64\n",
      "retweets          36988 non-null int64\n",
      "url               36988 non-null object\n",
      "disaster_flag     36988 non-null int64\n",
      "dtypes: float64(1), int64(4), object(7)\n",
      "memory usage: 3.7+ MB\n"
     ]
    }
   ],
   "source": [
    "df_Japan_floods.info()"
   ]
  },
  {
   "cell_type": "code",
   "execution_count": 49,
   "metadata": {
    "ExecuteTime": {
     "end_time": "2018-12-24T17:55:48.686769Z",
     "start_time": "2018-12-24T17:55:48.651836Z"
    }
   },
   "outputs": [],
   "source": [
    "df_Japan_floods = df_Japan_floods.dropna().reset_index(drop=True)"
   ]
  },
  {
   "cell_type": "code",
   "execution_count": 50,
   "metadata": {
    "ExecuteTime": {
     "end_time": "2018-12-24T17:55:48.713668Z",
     "start_time": "2018-12-24T17:55:48.688761Z"
    }
   },
   "outputs": [
    {
     "name": "stdout",
     "output_type": "stream",
     "text": [
      "<class 'pandas.core.frame.DataFrame'>\n",
      "RangeIndex: 36988 entries, 0 to 36987\n",
      "Data columns (total 12 columns):\n",
      "tweet_id          36988 non-null float64\n",
      "user              36988 non-null object\n",
      "timestamp         36988 non-null object\n",
      "date              36988 non-null object\n",
      "events            36988 non-null object\n",
      "text              36988 non-null object\n",
      "processed_text    36988 non-null object\n",
      "likes             36988 non-null int64\n",
      "replies           36988 non-null int64\n",
      "retweets          36988 non-null int64\n",
      "url               36988 non-null object\n",
      "disaster_flag     36988 non-null int64\n",
      "dtypes: float64(1), int64(4), object(7)\n",
      "memory usage: 3.4+ MB\n"
     ]
    }
   ],
   "source": [
    "df_Japan_floods.info()"
   ]
  },
  {
   "cell_type": "code",
   "execution_count": 51,
   "metadata": {
    "ExecuteTime": {
     "end_time": "2018-12-24T17:55:48.731619Z",
     "start_time": "2018-12-24T17:55:48.716658Z"
    }
   },
   "outputs": [
    {
     "data": {
      "text/html": [
       "<div>\n",
       "<style scoped>\n",
       "    .dataframe tbody tr th:only-of-type {\n",
       "        vertical-align: middle;\n",
       "    }\n",
       "\n",
       "    .dataframe tbody tr th {\n",
       "        vertical-align: top;\n",
       "    }\n",
       "\n",
       "    .dataframe thead th {\n",
       "        text-align: right;\n",
       "    }\n",
       "</style>\n",
       "<table border=\"1\" class=\"dataframe\">\n",
       "  <thead>\n",
       "    <tr style=\"text-align: right;\">\n",
       "      <th></th>\n",
       "      <th>tweet_id</th>\n",
       "      <th>user</th>\n",
       "      <th>timestamp</th>\n",
       "      <th>date</th>\n",
       "      <th>events</th>\n",
       "      <th>text</th>\n",
       "      <th>processed_text</th>\n",
       "      <th>likes</th>\n",
       "      <th>replies</th>\n",
       "      <th>retweets</th>\n",
       "      <th>url</th>\n",
       "      <th>disaster_flag</th>\n",
       "    </tr>\n",
       "  </thead>\n",
       "  <tbody>\n",
       "    <tr>\n",
       "      <th>0</th>\n",
       "      <td>1.005360e+18</td>\n",
       "      <td>@jjwalsh</td>\n",
       "      <td>6/9/2018 7:47</td>\n",
       "      <td>6/9/2018</td>\n",
       "      <td>Japan Floods</td>\n",
       "      <td>Nice day by the river in #Kobe on this beautif...</td>\n",
       "      <td>nice day river kobe beautiful sunny weather sa...</td>\n",
       "      <td>26</td>\n",
       "      <td>3</td>\n",
       "      <td>3</td>\n",
       "      <td>/jjwalsh/status/1005355731665629184</td>\n",
       "      <td>1</td>\n",
       "    </tr>\n",
       "    <tr>\n",
       "      <th>1</th>\n",
       "      <td>1.005370e+18</td>\n",
       "      <td>@metalheadbazaar</td>\n",
       "      <td>6/9/2018 8:29</td>\n",
       "      <td>6/9/2018</td>\n",
       "      <td>Japan Floods</td>\n",
       "      <td>Marduk - To Tour Japan In November - Metal Sto...</td>\n",
       "      <td>marduk tour japan november metal storm</td>\n",
       "      <td>0</td>\n",
       "      <td>0</td>\n",
       "      <td>0</td>\n",
       "      <td>/metalheadbazaar/status/1005366203618156546</td>\n",
       "      <td>1</td>\n",
       "    </tr>\n",
       "    <tr>\n",
       "      <th>2</th>\n",
       "      <td>1.005370e+18</td>\n",
       "      <td>@wordwidetroll</td>\n",
       "      <td>6/9/2018 8:45</td>\n",
       "      <td>6/9/2018</td>\n",
       "      <td>Japan Floods</td>\n",
       "      <td>Yestarday storm give me http://www.irvinakatec...</td>\n",
       "      <td>yestarday storm give ad adsense money moneygur...</td>\n",
       "      <td>0</td>\n",
       "      <td>0</td>\n",
       "      <td>0</td>\n",
       "      <td>/wordwidetroll/status/1005370364757725184</td>\n",
       "      <td>1</td>\n",
       "    </tr>\n",
       "    <tr>\n",
       "      <th>3</th>\n",
       "      <td>1.005370e+18</td>\n",
       "      <td>@kazuotamakashi</td>\n",
       "      <td>6/9/2018 9:00</td>\n",
       "      <td>6/9/2018</td>\n",
       "      <td>Japan Floods</td>\n",
       "      <td>Rain tomorrow, at Nara City, Japan! With a hig...</td>\n",
       "      <td>rain tomorrow nara city japan high 22c low 18c</td>\n",
       "      <td>0</td>\n",
       "      <td>0</td>\n",
       "      <td>0</td>\n",
       "      <td>/kazuotamakashi/status/1005373968650571778</td>\n",
       "      <td>1</td>\n",
       "    </tr>\n",
       "    <tr>\n",
       "      <th>4</th>\n",
       "      <td>1.005370e+18</td>\n",
       "      <td>@shukyudo_travel</td>\n",
       "      <td>6/9/2018 9:00</td>\n",
       "      <td>6/9/2018</td>\n",
       "      <td>Japan Floods</td>\n",
       "      <td>Rain tomorrow! With a high of 79F and a low of...</td>\n",
       "      <td>rain tomorrow high 79f low 70f japan osaka tra...</td>\n",
       "      <td>0</td>\n",
       "      <td>0</td>\n",
       "      <td>0</td>\n",
       "      <td>/shukyudo_travel/status/1005373973142622210</td>\n",
       "      <td>1</td>\n",
       "    </tr>\n",
       "  </tbody>\n",
       "</table>\n",
       "</div>"
      ],
      "text/plain": [
       "       tweet_id              user      timestamp      date        events  \\\n",
       "0  1.005360e+18          @jjwalsh  6/9/2018 7:47  6/9/2018  Japan Floods   \n",
       "1  1.005370e+18  @metalheadbazaar  6/9/2018 8:29  6/9/2018  Japan Floods   \n",
       "2  1.005370e+18    @wordwidetroll  6/9/2018 8:45  6/9/2018  Japan Floods   \n",
       "3  1.005370e+18   @kazuotamakashi  6/9/2018 9:00  6/9/2018  Japan Floods   \n",
       "4  1.005370e+18  @shukyudo_travel  6/9/2018 9:00  6/9/2018  Japan Floods   \n",
       "\n",
       "                                                text  \\\n",
       "0  Nice day by the river in #Kobe on this beautif...   \n",
       "1  Marduk - To Tour Japan In November - Metal Sto...   \n",
       "2  Yestarday storm give me http://www.irvinakatec...   \n",
       "3  Rain tomorrow, at Nara City, Japan! With a hig...   \n",
       "4  Rain tomorrow! With a high of 79F and a low of...   \n",
       "\n",
       "                                      processed_text  likes  replies  \\\n",
       "0  nice day river kobe beautiful sunny weather sa...     26        3   \n",
       "1             marduk tour japan november metal storm      0        0   \n",
       "2  yestarday storm give ad adsense money moneygur...      0        0   \n",
       "3     rain tomorrow nara city japan high 22c low 18c      0        0   \n",
       "4  rain tomorrow high 79f low 70f japan osaka tra...      0        0   \n",
       "\n",
       "   retweets                                          url  disaster_flag  \n",
       "0         3          /jjwalsh/status/1005355731665629184              1  \n",
       "1         0  /metalheadbazaar/status/1005366203618156546              1  \n",
       "2         0    /wordwidetroll/status/1005370364757725184              1  \n",
       "3         0   /kazuotamakashi/status/1005373968650571778              1  \n",
       "4         0  /shukyudo_travel/status/1005373973142622210              1  "
      ]
     },
     "execution_count": 51,
     "metadata": {},
     "output_type": "execute_result"
    }
   ],
   "source": [
    "df_Japan_floods.head()"
   ]
  },
  {
   "cell_type": "code",
   "execution_count": 52,
   "metadata": {
    "ExecuteTime": {
     "end_time": "2018-12-24T17:55:48.739624Z",
     "start_time": "2018-12-24T17:55:48.733615Z"
    }
   },
   "outputs": [],
   "source": [
    "Japan_floods_unlabel = pd.Series(df_Japan_floods['processed_text'])"
   ]
  },
  {
   "cell_type": "code",
   "execution_count": 53,
   "metadata": {
    "ExecuteTime": {
     "end_time": "2018-12-24T17:55:53.089995Z",
     "start_time": "2018-12-24T17:55:48.740616Z"
    }
   },
   "outputs": [],
   "source": [
    "## Feature Engineering ##\n",
    "Japan_floods_unlabel_count =  count_vect.transform(Japan_floods_unlabel)\n",
    "Japan_floods_unlabel_tfidf =  tfidf_vect.transform(Japan_floods_unlabel)\n",
    "Japan_floods_unlabel_tfidf_ngram =  tfidf_vect_ngram.transform(Japan_floods_unlabel)\n",
    "Japan_floods_unlabel_tfidf_ngram_chars =  tfidf_vect_ngram_chars.transform(Japan_floods_unlabel) "
   ]
  },
  {
   "cell_type": "code",
   "execution_count": 54,
   "metadata": {
    "ExecuteTime": {
     "end_time": "2018-12-24T17:55:53.537801Z",
     "start_time": "2018-12-24T17:55:53.090969Z"
    }
   },
   "outputs": [],
   "source": [
    "## Classify disaster phase ##\n",
    "df_Japan_floods_predictions_1 = classifier_1.predict(Japan_floods_unlabel_count)\n",
    "df_Japan_floods_predictions_2 = classifier_2.predict(Japan_floods_unlabel_tfidf)\n",
    "df_Japan_floods_predictions_3 = classifier_3.predict(Japan_floods_unlabel_tfidf_ngram)\n",
    "df_Japan_floods_predictions_4 = classifier_4.predict(Japan_floods_unlabel_tfidf_ngram_chars)\n",
    "df_Japan_floods_predictions_5 = classifier_5.predict(Japan_floods_unlabel_count)\n",
    "df_Japan_floods_predictions_6 = classifier_6.predict(Japan_floods_unlabel_tfidf)\n",
    "df_Japan_floods_predictions_7 = classifier_7.predict(Japan_floods_unlabel_tfidf_ngram)\n",
    "df_Japan_floods_predictions_8 = classifier_8.predict(Japan_floods_unlabel_tfidf_ngram_chars)\n",
    "df_Japan_floods_predictions_9 = classifier_9.predict(Japan_floods_unlabel_count)\n",
    "df_Japan_floods_predictions_10 = classifier_10.predict(Japan_floods_unlabel_tfidf)\n",
    "df_Japan_floods_predictions_11 = classifier_11.predict(Japan_floods_unlabel_tfidf_ngram_chars)"
   ]
  },
  {
   "cell_type": "code",
   "execution_count": 55,
   "metadata": {
    "ExecuteTime": {
     "end_time": "2018-12-24T17:55:53.567720Z",
     "start_time": "2018-12-24T17:55:53.539789Z"
    }
   },
   "outputs": [],
   "source": [
    "df_predict_1 = pd.DataFrame(df_Japan_floods_predictions_1).rename(columns={0: 'predict_1'})\n",
    "df_predict_2 = pd.DataFrame(df_Japan_floods_predictions_2).rename(columns={0: 'predict_2'})\n",
    "df_predict_3 = pd.DataFrame(df_Japan_floods_predictions_3).rename(columns={0: 'predict_3'})\n",
    "df_predict_4 = pd.DataFrame(df_Japan_floods_predictions_4).rename(columns={0: 'predict_4'})\n",
    "df_predict_5 = pd.DataFrame(df_Japan_floods_predictions_5).rename(columns={0: 'predict_5'})\n",
    "df_predict_6 = pd.DataFrame(df_Japan_floods_predictions_6).rename(columns={0: 'predict_6'})\n",
    "df_predict_7 = pd.DataFrame(df_Japan_floods_predictions_7).rename(columns={0: 'predict_7'})\n",
    "df_predict_8 = pd.DataFrame(df_Japan_floods_predictions_8).rename(columns={0: 'predict_8'})\n",
    "df_predict_9 = pd.DataFrame(df_Japan_floods_predictions_9).rename(columns={0: 'predict_9'})\n",
    "df_predict_10 = pd.DataFrame(df_Japan_floods_predictions_10).rename(columns={0: 'predict_10'})\n",
    "df_predict_11 = pd.DataFrame(df_Japan_floods_predictions_11).rename(columns={0: 'predict_11'})"
   ]
  },
  {
   "cell_type": "code",
   "execution_count": 56,
   "metadata": {
    "ExecuteTime": {
     "end_time": "2018-12-24T17:55:53.573699Z",
     "start_time": "2018-12-24T17:55:53.569681Z"
    }
   },
   "outputs": [],
   "source": [
    "## Ensemble Model ##\n",
    "frames = [df_predict_1, df_predict_2, df_predict_4, df_predict_6, df_predict_7]"
   ]
  },
  {
   "cell_type": "code",
   "execution_count": 57,
   "metadata": {
    "ExecuteTime": {
     "end_time": "2018-12-24T17:56:03.504116Z",
     "start_time": "2018-12-24T17:55:53.574679Z"
    }
   },
   "outputs": [],
   "source": [
    "df_predict_ensemble = pd.concat(frames, axis=1)\n",
    "df_predict_ensemble['predict_ensemble']  = \"\"\n",
    "col = df_predict_ensemble.loc[: , :]\n",
    "df_predict_ensemble['predict_ensemble'] = col.mode(axis=1)\n",
    "df_predict_ensemble['predict_ensemble'] = df_predict_ensemble['predict_ensemble'].astype('int')\n",
    "df_predict_ensemble['predict_final'] = df_predict_ensemble['predict_ensemble'] "
   ]
  },
  {
   "cell_type": "code",
   "execution_count": 58,
   "metadata": {
    "ExecuteTime": {
     "end_time": "2018-12-24T17:56:03.517087Z",
     "start_time": "2018-12-24T17:56:03.505112Z"
    }
   },
   "outputs": [
    {
     "data": {
      "text/html": [
       "<div>\n",
       "<style scoped>\n",
       "    .dataframe tbody tr th:only-of-type {\n",
       "        vertical-align: middle;\n",
       "    }\n",
       "\n",
       "    .dataframe tbody tr th {\n",
       "        vertical-align: top;\n",
       "    }\n",
       "\n",
       "    .dataframe thead th {\n",
       "        text-align: right;\n",
       "    }\n",
       "</style>\n",
       "<table border=\"1\" class=\"dataframe\">\n",
       "  <thead>\n",
       "    <tr style=\"text-align: right;\">\n",
       "      <th></th>\n",
       "      <th>predict_1</th>\n",
       "      <th>predict_2</th>\n",
       "      <th>predict_4</th>\n",
       "      <th>predict_6</th>\n",
       "      <th>predict_7</th>\n",
       "      <th>predict_ensemble</th>\n",
       "      <th>predict_final</th>\n",
       "    </tr>\n",
       "  </thead>\n",
       "  <tbody>\n",
       "    <tr>\n",
       "      <th>0</th>\n",
       "      <td>3</td>\n",
       "      <td>3</td>\n",
       "      <td>4</td>\n",
       "      <td>3</td>\n",
       "      <td>3</td>\n",
       "      <td>3</td>\n",
       "      <td>3</td>\n",
       "    </tr>\n",
       "    <tr>\n",
       "      <th>1</th>\n",
       "      <td>3</td>\n",
       "      <td>3</td>\n",
       "      <td>1</td>\n",
       "      <td>3</td>\n",
       "      <td>4</td>\n",
       "      <td>3</td>\n",
       "      <td>3</td>\n",
       "    </tr>\n",
       "    <tr>\n",
       "      <th>2</th>\n",
       "      <td>3</td>\n",
       "      <td>3</td>\n",
       "      <td>1</td>\n",
       "      <td>3</td>\n",
       "      <td>3</td>\n",
       "      <td>3</td>\n",
       "      <td>3</td>\n",
       "    </tr>\n",
       "    <tr>\n",
       "      <th>3</th>\n",
       "      <td>1</td>\n",
       "      <td>1</td>\n",
       "      <td>1</td>\n",
       "      <td>1</td>\n",
       "      <td>4</td>\n",
       "      <td>1</td>\n",
       "      <td>1</td>\n",
       "    </tr>\n",
       "    <tr>\n",
       "      <th>4</th>\n",
       "      <td>1</td>\n",
       "      <td>1</td>\n",
       "      <td>2</td>\n",
       "      <td>1</td>\n",
       "      <td>3</td>\n",
       "      <td>1</td>\n",
       "      <td>1</td>\n",
       "    </tr>\n",
       "  </tbody>\n",
       "</table>\n",
       "</div>"
      ],
      "text/plain": [
       "   predict_1  predict_2  predict_4  predict_6  predict_7  predict_ensemble  \\\n",
       "0          3          3          4          3          3                 3   \n",
       "1          3          3          1          3          4                 3   \n",
       "2          3          3          1          3          3                 3   \n",
       "3          1          1          1          1          4                 1   \n",
       "4          1          1          2          1          3                 1   \n",
       "\n",
       "   predict_final  \n",
       "0              3  \n",
       "1              3  \n",
       "2              3  \n",
       "3              1  \n",
       "4              1  "
      ]
     },
     "execution_count": 58,
     "metadata": {},
     "output_type": "execute_result"
    }
   ],
   "source": [
    "df_predict_ensemble.head()"
   ]
  },
  {
   "cell_type": "code",
   "execution_count": 59,
   "metadata": {
    "ExecuteTime": {
     "end_time": "2018-12-24T17:56:03.526057Z",
     "start_time": "2018-12-24T17:56:03.519075Z"
    }
   },
   "outputs": [],
   "source": [
    "df_predict_ensemble = df_predict_ensemble[['predict_final']]"
   ]
  },
  {
   "cell_type": "code",
   "execution_count": 60,
   "metadata": {
    "ExecuteTime": {
     "end_time": "2018-12-24T17:56:03.559967Z",
     "start_time": "2018-12-24T17:56:03.528052Z"
    }
   },
   "outputs": [
    {
     "name": "stdout",
     "output_type": "stream",
     "text": [
      "<class 'pandas.core.frame.DataFrame'>\n",
      "RangeIndex: 36988 entries, 0 to 36987\n",
      "Data columns (total 12 columns):\n",
      "tweet_id          36988 non-null float64\n",
      "user              36988 non-null object\n",
      "timestamp         36988 non-null object\n",
      "date              36988 non-null object\n",
      "events            36988 non-null object\n",
      "text              36988 non-null object\n",
      "processed_text    36988 non-null object\n",
      "likes             36988 non-null int64\n",
      "replies           36988 non-null int64\n",
      "retweets          36988 non-null int64\n",
      "url               36988 non-null object\n",
      "disaster_flag     36988 non-null int64\n",
      "dtypes: float64(1), int64(4), object(7)\n",
      "memory usage: 3.4+ MB\n"
     ]
    }
   ],
   "source": [
    "df_Japan_floods.reset_index(drop=True).info()"
   ]
  },
  {
   "cell_type": "code",
   "execution_count": 61,
   "metadata": {
    "ExecuteTime": {
     "end_time": "2018-12-24T17:56:03.597866Z",
     "start_time": "2018-12-24T17:56:03.560964Z"
    }
   },
   "outputs": [],
   "source": [
    "## Join the class label into original dataset ##\n",
    "df_Japan_floods_labelled = df_Japan_floods.join(df_predict_ensemble, how='outer')\n",
    "df_Japan_floods_labelled = df_Japan_floods_labelled.rename(columns={'predict_final': 'disaster_phase'})"
   ]
  },
  {
   "cell_type": "code",
   "execution_count": 62,
   "metadata": {
    "ExecuteTime": {
     "end_time": "2018-12-24T17:56:03.621802Z",
     "start_time": "2018-12-24T17:56:03.599861Z"
    }
   },
   "outputs": [
    {
     "data": {
      "text/html": [
       "<div>\n",
       "<style scoped>\n",
       "    .dataframe tbody tr th:only-of-type {\n",
       "        vertical-align: middle;\n",
       "    }\n",
       "\n",
       "    .dataframe tbody tr th {\n",
       "        vertical-align: top;\n",
       "    }\n",
       "\n",
       "    .dataframe thead th {\n",
       "        text-align: right;\n",
       "    }\n",
       "</style>\n",
       "<table border=\"1\" class=\"dataframe\">\n",
       "  <thead>\n",
       "    <tr style=\"text-align: right;\">\n",
       "      <th></th>\n",
       "      <th>tweet_id</th>\n",
       "      <th>user</th>\n",
       "      <th>timestamp</th>\n",
       "      <th>date</th>\n",
       "      <th>events</th>\n",
       "      <th>text</th>\n",
       "      <th>processed_text</th>\n",
       "      <th>likes</th>\n",
       "      <th>replies</th>\n",
       "      <th>retweets</th>\n",
       "      <th>url</th>\n",
       "      <th>disaster_flag</th>\n",
       "      <th>disaster_phase</th>\n",
       "    </tr>\n",
       "  </thead>\n",
       "  <tbody>\n",
       "    <tr>\n",
       "      <th>0</th>\n",
       "      <td>1.005360e+18</td>\n",
       "      <td>@jjwalsh</td>\n",
       "      <td>6/9/2018 7:47</td>\n",
       "      <td>6/9/2018</td>\n",
       "      <td>Japan Floods</td>\n",
       "      <td>Nice day by the river in #Kobe on this beautif...</td>\n",
       "      <td>nice day river kobe beautiful sunny weather sa...</td>\n",
       "      <td>26</td>\n",
       "      <td>3</td>\n",
       "      <td>3</td>\n",
       "      <td>/jjwalsh/status/1005355731665629184</td>\n",
       "      <td>1</td>\n",
       "      <td>3</td>\n",
       "    </tr>\n",
       "    <tr>\n",
       "      <th>1</th>\n",
       "      <td>1.005370e+18</td>\n",
       "      <td>@metalheadbazaar</td>\n",
       "      <td>6/9/2018 8:29</td>\n",
       "      <td>6/9/2018</td>\n",
       "      <td>Japan Floods</td>\n",
       "      <td>Marduk - To Tour Japan In November - Metal Sto...</td>\n",
       "      <td>marduk tour japan november metal storm</td>\n",
       "      <td>0</td>\n",
       "      <td>0</td>\n",
       "      <td>0</td>\n",
       "      <td>/metalheadbazaar/status/1005366203618156546</td>\n",
       "      <td>1</td>\n",
       "      <td>3</td>\n",
       "    </tr>\n",
       "    <tr>\n",
       "      <th>2</th>\n",
       "      <td>1.005370e+18</td>\n",
       "      <td>@wordwidetroll</td>\n",
       "      <td>6/9/2018 8:45</td>\n",
       "      <td>6/9/2018</td>\n",
       "      <td>Japan Floods</td>\n",
       "      <td>Yestarday storm give me http://www.irvinakatec...</td>\n",
       "      <td>yestarday storm give ad adsense money moneygur...</td>\n",
       "      <td>0</td>\n",
       "      <td>0</td>\n",
       "      <td>0</td>\n",
       "      <td>/wordwidetroll/status/1005370364757725184</td>\n",
       "      <td>1</td>\n",
       "      <td>3</td>\n",
       "    </tr>\n",
       "    <tr>\n",
       "      <th>3</th>\n",
       "      <td>1.005370e+18</td>\n",
       "      <td>@kazuotamakashi</td>\n",
       "      <td>6/9/2018 9:00</td>\n",
       "      <td>6/9/2018</td>\n",
       "      <td>Japan Floods</td>\n",
       "      <td>Rain tomorrow, at Nara City, Japan! With a hig...</td>\n",
       "      <td>rain tomorrow nara city japan high 22c low 18c</td>\n",
       "      <td>0</td>\n",
       "      <td>0</td>\n",
       "      <td>0</td>\n",
       "      <td>/kazuotamakashi/status/1005373968650571778</td>\n",
       "      <td>1</td>\n",
       "      <td>1</td>\n",
       "    </tr>\n",
       "    <tr>\n",
       "      <th>4</th>\n",
       "      <td>1.005370e+18</td>\n",
       "      <td>@shukyudo_travel</td>\n",
       "      <td>6/9/2018 9:00</td>\n",
       "      <td>6/9/2018</td>\n",
       "      <td>Japan Floods</td>\n",
       "      <td>Rain tomorrow! With a high of 79F and a low of...</td>\n",
       "      <td>rain tomorrow high 79f low 70f japan osaka tra...</td>\n",
       "      <td>0</td>\n",
       "      <td>0</td>\n",
       "      <td>0</td>\n",
       "      <td>/shukyudo_travel/status/1005373973142622210</td>\n",
       "      <td>1</td>\n",
       "      <td>1</td>\n",
       "    </tr>\n",
       "  </tbody>\n",
       "</table>\n",
       "</div>"
      ],
      "text/plain": [
       "       tweet_id              user      timestamp      date        events  \\\n",
       "0  1.005360e+18          @jjwalsh  6/9/2018 7:47  6/9/2018  Japan Floods   \n",
       "1  1.005370e+18  @metalheadbazaar  6/9/2018 8:29  6/9/2018  Japan Floods   \n",
       "2  1.005370e+18    @wordwidetroll  6/9/2018 8:45  6/9/2018  Japan Floods   \n",
       "3  1.005370e+18   @kazuotamakashi  6/9/2018 9:00  6/9/2018  Japan Floods   \n",
       "4  1.005370e+18  @shukyudo_travel  6/9/2018 9:00  6/9/2018  Japan Floods   \n",
       "\n",
       "                                                text  \\\n",
       "0  Nice day by the river in #Kobe on this beautif...   \n",
       "1  Marduk - To Tour Japan In November - Metal Sto...   \n",
       "2  Yestarday storm give me http://www.irvinakatec...   \n",
       "3  Rain tomorrow, at Nara City, Japan! With a hig...   \n",
       "4  Rain tomorrow! With a high of 79F and a low of...   \n",
       "\n",
       "                                      processed_text  likes  replies  \\\n",
       "0  nice day river kobe beautiful sunny weather sa...     26        3   \n",
       "1             marduk tour japan november metal storm      0        0   \n",
       "2  yestarday storm give ad adsense money moneygur...      0        0   \n",
       "3     rain tomorrow nara city japan high 22c low 18c      0        0   \n",
       "4  rain tomorrow high 79f low 70f japan osaka tra...      0        0   \n",
       "\n",
       "   retweets                                          url  disaster_flag  \\\n",
       "0         3          /jjwalsh/status/1005355731665629184              1   \n",
       "1         0  /metalheadbazaar/status/1005366203618156546              1   \n",
       "2         0    /wordwidetroll/status/1005370364757725184              1   \n",
       "3         0   /kazuotamakashi/status/1005373968650571778              1   \n",
       "4         0  /shukyudo_travel/status/1005373973142622210              1   \n",
       "\n",
       "   disaster_phase  \n",
       "0               3  \n",
       "1               3  \n",
       "2               3  \n",
       "3               1  \n",
       "4               1  "
      ]
     },
     "execution_count": 62,
     "metadata": {},
     "output_type": "execute_result"
    }
   ],
   "source": [
    "df_Japan_floods_labelled.head()"
   ]
  },
  {
   "cell_type": "code",
   "execution_count": 63,
   "metadata": {
    "ExecuteTime": {
     "end_time": "2018-12-24T17:56:04.151397Z",
     "start_time": "2018-12-24T17:56:03.623803Z"
    }
   },
   "outputs": [],
   "source": [
    "## Data Storage ##\n",
    "df_Japan_floods_labelled.to_csv(OUTPUT_PATH + 'df_Japan_floods_phase_labelled.csv')"
   ]
  },
  {
   "cell_type": "markdown",
   "metadata": {},
   "source": [
    "## Typhoon Jebi"
   ]
  },
  {
   "cell_type": "code",
   "execution_count": 64,
   "metadata": {
    "ExecuteTime": {
     "end_time": "2018-12-24T17:56:04.493470Z",
     "start_time": "2018-12-24T17:56:04.153380Z"
    }
   },
   "outputs": [],
   "source": [
    "## Data Processing ##\n",
    "df_Typhoon_Jebi  = pd.read_csv(INPUT_PATH + 'df_Typhoon_Jebi_disaster_labelled.csv', index_col=0)"
   ]
  },
  {
   "cell_type": "code",
   "execution_count": 65,
   "metadata": {
    "ExecuteTime": {
     "end_time": "2018-12-24T17:56:04.536357Z",
     "start_time": "2018-12-24T17:56:04.495465Z"
    }
   },
   "outputs": [
    {
     "name": "stdout",
     "output_type": "stream",
     "text": [
      "<class 'pandas.core.frame.DataFrame'>\n",
      "Int64Index: 47595 entries, 0 to 47594\n",
      "Data columns (total 12 columns):\n",
      "tweet_id          47595 non-null int64\n",
      "user              47595 non-null object\n",
      "timestamp         47595 non-null object\n",
      "date              47595 non-null object\n",
      "events            47595 non-null object\n",
      "text              47595 non-null object\n",
      "processed_text    47595 non-null object\n",
      "likes             47595 non-null int64\n",
      "replies           47595 non-null int64\n",
      "retweets          47595 non-null int64\n",
      "url               47595 non-null object\n",
      "disaster_flag     47595 non-null int64\n",
      "dtypes: int64(5), object(7)\n",
      "memory usage: 4.7+ MB\n"
     ]
    }
   ],
   "source": [
    "df_Typhoon_Jebi.info()"
   ]
  },
  {
   "cell_type": "code",
   "execution_count": 66,
   "metadata": {
    "ExecuteTime": {
     "end_time": "2018-12-24T17:56:04.595198Z",
     "start_time": "2018-12-24T17:56:04.538352Z"
    }
   },
   "outputs": [],
   "source": [
    "df_Typhoon_Jebi  = df_Typhoon_Jebi.dropna().reset_index(drop=True)"
   ]
  },
  {
   "cell_type": "code",
   "execution_count": 67,
   "metadata": {
    "ExecuteTime": {
     "end_time": "2018-12-24T17:56:04.629108Z",
     "start_time": "2018-12-24T17:56:04.597192Z"
    }
   },
   "outputs": [
    {
     "name": "stdout",
     "output_type": "stream",
     "text": [
      "<class 'pandas.core.frame.DataFrame'>\n",
      "RangeIndex: 47595 entries, 0 to 47594\n",
      "Data columns (total 12 columns):\n",
      "tweet_id          47595 non-null int64\n",
      "user              47595 non-null object\n",
      "timestamp         47595 non-null object\n",
      "date              47595 non-null object\n",
      "events            47595 non-null object\n",
      "text              47595 non-null object\n",
      "processed_text    47595 non-null object\n",
      "likes             47595 non-null int64\n",
      "replies           47595 non-null int64\n",
      "retweets          47595 non-null int64\n",
      "url               47595 non-null object\n",
      "disaster_flag     47595 non-null int64\n",
      "dtypes: int64(5), object(7)\n",
      "memory usage: 4.4+ MB\n"
     ]
    }
   ],
   "source": [
    "df_Typhoon_Jebi .info()"
   ]
  },
  {
   "cell_type": "code",
   "execution_count": 68,
   "metadata": {
    "ExecuteTime": {
     "end_time": "2018-12-24T17:56:04.636091Z",
     "start_time": "2018-12-24T17:56:04.631102Z"
    }
   },
   "outputs": [],
   "source": [
    "Typhoon_Jebi_unlabel  = pd.Series(df_Typhoon_Jebi['processed_text'])"
   ]
  },
  {
   "cell_type": "code",
   "execution_count": 69,
   "metadata": {
    "ExecuteTime": {
     "end_time": "2018-12-24T17:56:10.575207Z",
     "start_time": "2018-12-24T17:56:04.638084Z"
    }
   },
   "outputs": [],
   "source": [
    "## Feature Engineering ##\n",
    "Typhoon_Jebi_unlabel_count =  count_vect.transform(Typhoon_Jebi_unlabel)\n",
    "Typhoon_Jebi_unlabel_tfidf =  tfidf_vect.transform(Typhoon_Jebi_unlabel)\n",
    "Typhoon_Jebi_unlabel_tfidf_ngram =  tfidf_vect_ngram.transform(Typhoon_Jebi_unlabel)\n",
    "Typhoon_Jebi_unlabel_tfidf_ngram_chars =  tfidf_vect_ngram_chars.transform(Typhoon_Jebi_unlabel)"
   ]
  },
  {
   "cell_type": "code",
   "execution_count": 70,
   "metadata": {
    "ExecuteTime": {
     "end_time": "2018-12-24T17:56:11.221478Z",
     "start_time": "2018-12-24T17:56:10.576207Z"
    }
   },
   "outputs": [],
   "source": [
    "## Classify disaster phase ##\n",
    "df_Typhoon_Jebi_predictions_1 = classifier_1.predict(Typhoon_Jebi_unlabel_count)\n",
    "df_Typhoon_Jebi_predictions_2 = classifier_2.predict(Typhoon_Jebi_unlabel_tfidf)\n",
    "df_Typhoon_Jebi_predictions_3 = classifier_3.predict(Typhoon_Jebi_unlabel_tfidf_ngram)\n",
    "df_Typhoon_Jebi_predictions_4 = classifier_4.predict(Typhoon_Jebi_unlabel_tfidf_ngram_chars)\n",
    "df_Typhoon_Jebi_predictions_5 = classifier_5.predict(Typhoon_Jebi_unlabel_count)\n",
    "df_Typhoon_Jebi_predictions_6 = classifier_6.predict(Typhoon_Jebi_unlabel_tfidf)\n",
    "df_Typhoon_Jebi_predictions_7 = classifier_7.predict(Typhoon_Jebi_unlabel_tfidf_ngram)\n",
    "df_Typhoon_Jebi_predictions_8 = classifier_8.predict(Typhoon_Jebi_unlabel_tfidf_ngram_chars)\n",
    "df_Typhoon_Jebi_predictions_9 = classifier_9.predict(Typhoon_Jebi_unlabel_count)\n",
    "df_Typhoon_Jebi_predictions_10 = classifier_10.predict(Typhoon_Jebi_unlabel_tfidf)\n",
    "df_Typhoon_Jebi_predictions_11 = classifier_11.predict(Typhoon_Jebi_unlabel_tfidf_ngram_chars)"
   ]
  },
  {
   "cell_type": "code",
   "execution_count": 71,
   "metadata": {
    "ExecuteTime": {
     "end_time": "2018-12-24T17:56:11.245415Z",
     "start_time": "2018-12-24T17:56:11.222476Z"
    }
   },
   "outputs": [],
   "source": [
    "df_predict_1 = pd.DataFrame(df_Typhoon_Jebi_predictions_1).rename(columns={0: 'predict_1'})\n",
    "df_predict_2 = pd.DataFrame(df_Typhoon_Jebi_predictions_2).rename(columns={0: 'predict_2'})\n",
    "df_predict_3 = pd.DataFrame(df_Typhoon_Jebi_predictions_3).rename(columns={0: 'predict_3'})\n",
    "df_predict_4 = pd.DataFrame(df_Typhoon_Jebi_predictions_4).rename(columns={0: 'predict_4'})\n",
    "df_predict_5 = pd.DataFrame(df_Typhoon_Jebi_predictions_5).rename(columns={0: 'predict_5'})\n",
    "df_predict_6 = pd.DataFrame(df_Typhoon_Jebi_predictions_6).rename(columns={0: 'predict_6'})\n",
    "df_predict_7 = pd.DataFrame(df_Typhoon_Jebi_predictions_7).rename(columns={0: 'predict_7'})\n",
    "df_predict_8 = pd.DataFrame(df_Typhoon_Jebi_predictions_8).rename(columns={0: 'predict_8'})\n",
    "df_predict_9 = pd.DataFrame(df_Typhoon_Jebi_predictions_9).rename(columns={0: 'predict_9'})\n",
    "df_predict_10 = pd.DataFrame(df_Typhoon_Jebi_predictions_10).rename(columns={0: 'predict_10'})\n",
    "df_predict_11 = pd.DataFrame(df_Typhoon_Jebi_predictions_11).rename(columns={0: 'predict_11'})"
   ]
  },
  {
   "cell_type": "code",
   "execution_count": 72,
   "metadata": {
    "ExecuteTime": {
     "end_time": "2018-12-24T17:56:11.251399Z",
     "start_time": "2018-12-24T17:56:11.246411Z"
    }
   },
   "outputs": [],
   "source": [
    "## Ensemble Model ##\n",
    "frames = [df_predict_1, df_predict_2, df_predict_4, df_predict_6, df_predict_7]"
   ]
  },
  {
   "cell_type": "code",
   "execution_count": 73,
   "metadata": {
    "ExecuteTime": {
     "end_time": "2018-12-24T17:56:23.799841Z",
     "start_time": "2018-12-24T17:56:11.253394Z"
    }
   },
   "outputs": [],
   "source": [
    "df_predict_ensemble = pd.concat(frames, axis=1)\n",
    "df_predict_ensemble['predict_ensemble']  = \"\"\n",
    "col = df_predict_ensemble.loc[: , :]\n",
    "df_predict_ensemble['predict_ensemble'] = col.mode(axis=1)\n",
    "df_predict_ensemble['predict_ensemble'] = df_predict_ensemble['predict_ensemble'].astype('int')\n",
    "df_predict_ensemble['predict_final'] = df_predict_ensemble['predict_ensemble']"
   ]
  },
  {
   "cell_type": "code",
   "execution_count": 74,
   "metadata": {
    "ExecuteTime": {
     "end_time": "2018-12-24T17:56:23.807822Z",
     "start_time": "2018-12-24T17:56:23.801850Z"
    }
   },
   "outputs": [],
   "source": [
    "df_predict_ensemble = df_predict_ensemble[['predict_final']]"
   ]
  },
  {
   "cell_type": "code",
   "execution_count": 75,
   "metadata": {
    "ExecuteTime": {
     "end_time": "2018-12-24T17:56:23.863699Z",
     "start_time": "2018-12-24T17:56:23.810813Z"
    }
   },
   "outputs": [],
   "source": [
    "## Join the class label into original dataset ##\n",
    "df_Typhoon_Jebi_labelled = df_Typhoon_Jebi.join(df_predict_ensemble, how='outer')\n",
    "df_Typhoon_Jebi_labelled = df_Typhoon_Jebi_labelled.rename(columns={'predict_final': 'disaster_phase'})"
   ]
  },
  {
   "cell_type": "code",
   "execution_count": 76,
   "metadata": {
    "ExecuteTime": {
     "end_time": "2018-12-24T17:56:23.879631Z",
     "start_time": "2018-12-24T17:56:23.864669Z"
    }
   },
   "outputs": [
    {
     "data": {
      "text/html": [
       "<div>\n",
       "<style scoped>\n",
       "    .dataframe tbody tr th:only-of-type {\n",
       "        vertical-align: middle;\n",
       "    }\n",
       "\n",
       "    .dataframe tbody tr th {\n",
       "        vertical-align: top;\n",
       "    }\n",
       "\n",
       "    .dataframe thead th {\n",
       "        text-align: right;\n",
       "    }\n",
       "</style>\n",
       "<table border=\"1\" class=\"dataframe\">\n",
       "  <thead>\n",
       "    <tr style=\"text-align: right;\">\n",
       "      <th></th>\n",
       "      <th>tweet_id</th>\n",
       "      <th>user</th>\n",
       "      <th>timestamp</th>\n",
       "      <th>date</th>\n",
       "      <th>events</th>\n",
       "      <th>text</th>\n",
       "      <th>processed_text</th>\n",
       "      <th>likes</th>\n",
       "      <th>replies</th>\n",
       "      <th>retweets</th>\n",
       "      <th>url</th>\n",
       "      <th>disaster_flag</th>\n",
       "      <th>disaster_phase</th>\n",
       "    </tr>\n",
       "  </thead>\n",
       "  <tbody>\n",
       "    <tr>\n",
       "      <th>0</th>\n",
       "      <td>1022400668013744128</td>\n",
       "      <td>@pedromj</td>\n",
       "      <td>2018-07-26 08:38:09</td>\n",
       "      <td>2018-07-26</td>\n",
       "      <td>Typhoon Jebi</td>\n",
       "      <td>Typhoon Jongdari remains on course to hit Japa...</td>\n",
       "      <td>typhoon jongdari remains course hit japan's ma...</td>\n",
       "      <td>0</td>\n",
       "      <td>0</td>\n",
       "      <td>0</td>\n",
       "      <td>/pedromj/status/1022400668013744128</td>\n",
       "      <td>1</td>\n",
       "      <td>1</td>\n",
       "    </tr>\n",
       "    <tr>\n",
       "      <th>1</th>\n",
       "      <td>1022398649526112256</td>\n",
       "      <td>@breakingweather</td>\n",
       "      <td>2018-07-26 08:30:07</td>\n",
       "      <td>2018-07-26</td>\n",
       "      <td>Typhoon Jebi</td>\n",
       "      <td>#Jongdari is nearing typhoon strength in the W...</td>\n",
       "      <td>jongdari nearing typhoon strength west pacific...</td>\n",
       "      <td>25</td>\n",
       "      <td>2</td>\n",
       "      <td>46</td>\n",
       "      <td>/breakingweather/status/1022398649526112256</td>\n",
       "      <td>1</td>\n",
       "      <td>1</td>\n",
       "    </tr>\n",
       "    <tr>\n",
       "      <th>2</th>\n",
       "      <td>1022398159580880896</td>\n",
       "      <td>@Somnium410</td>\n",
       "      <td>2018-07-26 08:28:11</td>\n",
       "      <td>2018-07-26</td>\n",
       "      <td>Typhoon Jebi</td>\n",
       "      <td>Marco, buenas tardes!\\r\\r\\nLike you said, a ty...</td>\n",
       "      <td>marco buenas tardes like said typhoon coming j...</td>\n",
       "      <td>0</td>\n",
       "      <td>0</td>\n",
       "      <td>0</td>\n",
       "      <td>/Somnium410/status/1022398159580880896</td>\n",
       "      <td>1</td>\n",
       "      <td>3</td>\n",
       "    </tr>\n",
       "    <tr>\n",
       "      <th>3</th>\n",
       "      <td>1022398059630579712</td>\n",
       "      <td>@SaraFujimura</td>\n",
       "      <td>2018-07-26 08:27:47</td>\n",
       "      <td>2018-07-26</td>\n",
       "      <td>Typhoon Jebi</td>\n",
       "      <td>Aaand a taifu (typhoon) is headed toward Japan...</td>\n",
       "      <td>aaand taifu typhoon headed toward japan much e...</td>\n",
       "      <td>1</td>\n",
       "      <td>1</td>\n",
       "      <td>0</td>\n",
       "      <td>/SaraFujimura/status/1022398059630579712</td>\n",
       "      <td>1</td>\n",
       "      <td>3</td>\n",
       "    </tr>\n",
       "    <tr>\n",
       "      <th>4</th>\n",
       "      <td>1022396408190578689</td>\n",
       "      <td>@sasucce</td>\n",
       "      <td>2018-07-26 08:21:13</td>\n",
       "      <td>2018-07-26</td>\n",
       "      <td>Typhoon Jebi</td>\n",
       "      <td>there was all the flooding when i first arrive...</td>\n",
       "      <td>flooding first arrived japan record breaking h...</td>\n",
       "      <td>1</td>\n",
       "      <td>0</td>\n",
       "      <td>0</td>\n",
       "      <td>/sasucce/status/1022396408190578689</td>\n",
       "      <td>1</td>\n",
       "      <td>2</td>\n",
       "    </tr>\n",
       "  </tbody>\n",
       "</table>\n",
       "</div>"
      ],
      "text/plain": [
       "              tweet_id              user            timestamp        date  \\\n",
       "0  1022400668013744128          @pedromj  2018-07-26 08:38:09  2018-07-26   \n",
       "1  1022398649526112256  @breakingweather  2018-07-26 08:30:07  2018-07-26   \n",
       "2  1022398159580880896       @Somnium410  2018-07-26 08:28:11  2018-07-26   \n",
       "3  1022398059630579712     @SaraFujimura  2018-07-26 08:27:47  2018-07-26   \n",
       "4  1022396408190578689          @sasucce  2018-07-26 08:21:13  2018-07-26   \n",
       "\n",
       "         events                                               text  \\\n",
       "0  Typhoon Jebi  Typhoon Jongdari remains on course to hit Japa...   \n",
       "1  Typhoon Jebi  #Jongdari is nearing typhoon strength in the W...   \n",
       "2  Typhoon Jebi  Marco, buenas tardes!\\r\\r\\nLike you said, a ty...   \n",
       "3  Typhoon Jebi  Aaand a taifu (typhoon) is headed toward Japan...   \n",
       "4  Typhoon Jebi  there was all the flooding when i first arrive...   \n",
       "\n",
       "                                      processed_text  likes  replies  \\\n",
       "0  typhoon jongdari remains course hit japan's ma...      0        0   \n",
       "1  jongdari nearing typhoon strength west pacific...     25        2   \n",
       "2  marco buenas tardes like said typhoon coming j...      0        0   \n",
       "3  aaand taifu typhoon headed toward japan much e...      1        1   \n",
       "4  flooding first arrived japan record breaking h...      1        0   \n",
       "\n",
       "   retweets                                          url  disaster_flag  \\\n",
       "0         0          /pedromj/status/1022400668013744128              1   \n",
       "1        46  /breakingweather/status/1022398649526112256              1   \n",
       "2         0       /Somnium410/status/1022398159580880896              1   \n",
       "3         0     /SaraFujimura/status/1022398059630579712              1   \n",
       "4         0          /sasucce/status/1022396408190578689              1   \n",
       "\n",
       "   disaster_phase  \n",
       "0               1  \n",
       "1               1  \n",
       "2               3  \n",
       "3               3  \n",
       "4               2  "
      ]
     },
     "execution_count": 76,
     "metadata": {},
     "output_type": "execute_result"
    }
   ],
   "source": [
    "df_Typhoon_Jebi_labelled.head()"
   ]
  },
  {
   "cell_type": "code",
   "execution_count": 77,
   "metadata": {
    "ExecuteTime": {
     "end_time": "2018-12-24T17:56:24.513932Z",
     "start_time": "2018-12-24T17:56:23.881626Z"
    }
   },
   "outputs": [],
   "source": [
    "## Data Storage ##\n",
    "df_Typhoon_Jebi_labelled.to_csv(OUTPUT_PATH + 'df_Typhoon_Jebi_phase_labelled.csv')"
   ]
  },
  {
   "cell_type": "markdown",
   "metadata": {},
   "source": [
    "## Typhoon Mangkhut"
   ]
  },
  {
   "cell_type": "code",
   "execution_count": 78,
   "metadata": {
    "ExecuteTime": {
     "end_time": "2018-12-24T17:56:24.949768Z",
     "start_time": "2018-12-24T17:56:24.514930Z"
    }
   },
   "outputs": [],
   "source": [
    "## Data Processing ##\n",
    "df_Typhoon_Mangkhut = pd.read_csv(INPUT_PATH + 'df_Typhoon_Mangkhut_disaster_labelled.csv', index_col=0)"
   ]
  },
  {
   "cell_type": "code",
   "execution_count": 79,
   "metadata": {
    "ExecuteTime": {
     "end_time": "2018-12-24T17:56:24.987670Z",
     "start_time": "2018-12-24T17:56:24.950765Z"
    }
   },
   "outputs": [
    {
     "name": "stdout",
     "output_type": "stream",
     "text": [
      "<class 'pandas.core.frame.DataFrame'>\n",
      "Int64Index: 65164 entries, 0 to 65163\n",
      "Data columns (total 12 columns):\n",
      "tweet_id          65164 non-null float64\n",
      "user              65164 non-null object\n",
      "timestamp         65164 non-null object\n",
      "date              65164 non-null object\n",
      "events            65164 non-null object\n",
      "text              65164 non-null object\n",
      "processed_text    65164 non-null object\n",
      "likes             65164 non-null float64\n",
      "replies           65164 non-null int64\n",
      "retweets          65164 non-null int64\n",
      "url               65164 non-null object\n",
      "disaster_flag     65164 non-null int64\n",
      "dtypes: float64(2), int64(3), object(7)\n",
      "memory usage: 6.5+ MB\n"
     ]
    }
   ],
   "source": [
    "df_Typhoon_Mangkhut.info()"
   ]
  },
  {
   "cell_type": "code",
   "execution_count": 80,
   "metadata": {
    "ExecuteTime": {
     "end_time": "2018-12-24T17:56:25.055485Z",
     "start_time": "2018-12-24T17:56:24.989661Z"
    }
   },
   "outputs": [],
   "source": [
    "df_Typhoon_Mangkhut = df_Typhoon_Mangkhut.dropna().reset_index(drop=True)"
   ]
  },
  {
   "cell_type": "code",
   "execution_count": 81,
   "metadata": {
    "ExecuteTime": {
     "end_time": "2018-12-24T17:56:25.094414Z",
     "start_time": "2018-12-24T17:56:25.057480Z"
    }
   },
   "outputs": [
    {
     "name": "stdout",
     "output_type": "stream",
     "text": [
      "<class 'pandas.core.frame.DataFrame'>\n",
      "RangeIndex: 65164 entries, 0 to 65163\n",
      "Data columns (total 12 columns):\n",
      "tweet_id          65164 non-null float64\n",
      "user              65164 non-null object\n",
      "timestamp         65164 non-null object\n",
      "date              65164 non-null object\n",
      "events            65164 non-null object\n",
      "text              65164 non-null object\n",
      "processed_text    65164 non-null object\n",
      "likes             65164 non-null float64\n",
      "replies           65164 non-null int64\n",
      "retweets          65164 non-null int64\n",
      "url               65164 non-null object\n",
      "disaster_flag     65164 non-null int64\n",
      "dtypes: float64(2), int64(3), object(7)\n",
      "memory usage: 6.0+ MB\n"
     ]
    }
   ],
   "source": [
    "df_Typhoon_Mangkhut.info()"
   ]
  },
  {
   "cell_type": "code",
   "execution_count": 82,
   "metadata": {
    "ExecuteTime": {
     "end_time": "2018-12-24T17:56:25.100365Z",
     "start_time": "2018-12-24T17:56:25.096376Z"
    }
   },
   "outputs": [],
   "source": [
    "Typhoon_Mangkhut_unlabel = pd.Series(df_Typhoon_Mangkhut['processed_text'])"
   ]
  },
  {
   "cell_type": "code",
   "execution_count": 83,
   "metadata": {
    "ExecuteTime": {
     "end_time": "2018-12-24T17:56:33.738298Z",
     "start_time": "2018-12-24T17:56:25.102360Z"
    }
   },
   "outputs": [],
   "source": [
    "## Feature Engineering ##\n",
    "Typhoon_Mangkhut_unlabel_count =  count_vect.transform(Typhoon_Mangkhut_unlabel)\n",
    "Typhoon_Mangkhut_unlabel_tfidf =  tfidf_vect.transform(Typhoon_Mangkhut_unlabel)\n",
    "Typhoon_Mangkhut_unlabel_tfidf_ngram =  tfidf_vect_ngram.transform(Typhoon_Mangkhut_unlabel)\n",
    "Typhoon_Mangkhut_unlabel_tfidf_ngram_chars =  tfidf_vect_ngram_chars.transform(Typhoon_Mangkhut_unlabel)"
   ]
  },
  {
   "cell_type": "code",
   "execution_count": 84,
   "metadata": {
    "ExecuteTime": {
     "end_time": "2018-12-24T17:56:34.614921Z",
     "start_time": "2018-12-24T17:56:33.740261Z"
    }
   },
   "outputs": [],
   "source": [
    "## Classify disaster phase ##\n",
    "df_Typhoon_Mangkhut_predictions_1 = classifier_1.predict(Typhoon_Mangkhut_unlabel_count)\n",
    "df_Typhoon_Mangkhut_predictions_2 = classifier_2.predict(Typhoon_Mangkhut_unlabel_tfidf)\n",
    "df_Typhoon_Mangkhut_predictions_3 = classifier_3.predict(Typhoon_Mangkhut_unlabel_tfidf_ngram)\n",
    "df_Typhoon_Mangkhut_predictions_4 = classifier_4.predict(Typhoon_Mangkhut_unlabel_tfidf_ngram_chars)\n",
    "df_Typhoon_Mangkhut_predictions_5 = classifier_5.predict(Typhoon_Mangkhut_unlabel_count)\n",
    "df_Typhoon_Mangkhut_predictions_6 = classifier_6.predict(Typhoon_Mangkhut_unlabel_tfidf)\n",
    "df_Typhoon_Mangkhut_predictions_7 = classifier_7.predict(Typhoon_Mangkhut_unlabel_tfidf_ngram)\n",
    "df_Typhoon_Mangkhut_predictions_8 = classifier_8.predict(Typhoon_Mangkhut_unlabel_tfidf_ngram_chars)\n",
    "df_Typhoon_Mangkhut_predictions_9 = classifier_9.predict(Typhoon_Mangkhut_unlabel_count)\n",
    "df_Typhoon_Mangkhut_predictions_10 = classifier_10.predict(Typhoon_Mangkhut_unlabel_tfidf)\n",
    "df_Typhoon_Mangkhut_predictions_11 = classifier_11.predict(Typhoon_Mangkhut_unlabel_tfidf_ngram_chars)"
   ]
  },
  {
   "cell_type": "code",
   "execution_count": 85,
   "metadata": {
    "ExecuteTime": {
     "end_time": "2018-12-24T17:56:34.641852Z",
     "start_time": "2018-12-24T17:56:34.615928Z"
    }
   },
   "outputs": [],
   "source": [
    "df_predict_1 = pd.DataFrame(df_Typhoon_Mangkhut_predictions_1).rename(columns={0: 'predict_1'})\n",
    "df_predict_2 = pd.DataFrame(df_Typhoon_Mangkhut_predictions_2).rename(columns={0: 'predict_2'})\n",
    "df_predict_3 = pd.DataFrame(df_Typhoon_Mangkhut_predictions_3).rename(columns={0: 'predict_3'})\n",
    "df_predict_4 = pd.DataFrame(df_Typhoon_Mangkhut_predictions_4).rename(columns={0: 'predict_4'})\n",
    "df_predict_5 = pd.DataFrame(df_Typhoon_Mangkhut_predictions_5).rename(columns={0: 'predict_5'})\n",
    "df_predict_6 = pd.DataFrame(df_Typhoon_Mangkhut_predictions_6).rename(columns={0: 'predict_6'})\n",
    "df_predict_7 = pd.DataFrame(df_Typhoon_Mangkhut_predictions_7).rename(columns={0: 'predict_7'})\n",
    "df_predict_8 = pd.DataFrame(df_Typhoon_Mangkhut_predictions_8).rename(columns={0: 'predict_8'})\n",
    "df_predict_9 = pd.DataFrame(df_Typhoon_Mangkhut_predictions_9).rename(columns={0: 'predict_9'})\n",
    "df_predict_10 = pd.DataFrame(df_Typhoon_Mangkhut_predictions_10).rename(columns={0: 'predict_10'})\n",
    "df_predict_11 = pd.DataFrame(df_Typhoon_Mangkhut_predictions_11).rename(columns={0: 'predict_11'})"
   ]
  },
  {
   "cell_type": "code",
   "execution_count": 86,
   "metadata": {
    "ExecuteTime": {
     "end_time": "2018-12-24T17:56:52.914016Z",
     "start_time": "2018-12-24T17:56:34.642847Z"
    }
   },
   "outputs": [],
   "source": [
    "## Ensemble Model ##\n",
    "frames = [df_predict_1, df_predict_2, df_predict_4, df_predict_6, df_predict_7]\n",
    "\n",
    "df_predict_ensemble = pd.concat(frames, axis=1)\n",
    "df_predict_ensemble['predict_ensemble']  = \"\"\n",
    "col = df_predict_ensemble.loc[: , :]\n",
    "df_predict_ensemble['predict_ensemble'] = col.mode(axis=1)\n",
    "df_predict_ensemble['predict_ensemble'] = df_predict_ensemble['predict_ensemble'].astype('int')\n",
    "df_predict_ensemble['predict_final'] = df_predict_ensemble['predict_ensemble']"
   ]
  },
  {
   "cell_type": "code",
   "execution_count": 87,
   "metadata": {
    "ExecuteTime": {
     "end_time": "2018-12-24T17:56:52.919994Z",
     "start_time": "2018-12-24T17:56:52.914985Z"
    }
   },
   "outputs": [],
   "source": [
    "df_predict_ensemble = df_predict_ensemble[['predict_final']]"
   ]
  },
  {
   "cell_type": "code",
   "execution_count": 88,
   "metadata": {
    "ExecuteTime": {
     "end_time": "2018-12-24T17:56:52.986867Z",
     "start_time": "2018-12-24T17:56:52.921968Z"
    }
   },
   "outputs": [],
   "source": [
    "## Join the class label into original dataset ##\n",
    "df_Typhoon_Mangkhut_labelled = df_Typhoon_Mangkhut.join(df_predict_ensemble, how='outer')\n",
    "df_Typhoon_Mangkhut_labelled = df_Typhoon_Mangkhut_labelled.rename(columns={'predict_final': 'disaster_phase'})"
   ]
  },
  {
   "cell_type": "code",
   "execution_count": 89,
   "metadata": {
    "ExecuteTime": {
     "end_time": "2018-12-24T17:56:53.006742Z",
     "start_time": "2018-12-24T17:56:52.989786Z"
    }
   },
   "outputs": [
    {
     "data": {
      "text/html": [
       "<div>\n",
       "<style scoped>\n",
       "    .dataframe tbody tr th:only-of-type {\n",
       "        vertical-align: middle;\n",
       "    }\n",
       "\n",
       "    .dataframe tbody tr th {\n",
       "        vertical-align: top;\n",
       "    }\n",
       "\n",
       "    .dataframe thead th {\n",
       "        text-align: right;\n",
       "    }\n",
       "</style>\n",
       "<table border=\"1\" class=\"dataframe\">\n",
       "  <thead>\n",
       "    <tr style=\"text-align: right;\">\n",
       "      <th></th>\n",
       "      <th>tweet_id</th>\n",
       "      <th>user</th>\n",
       "      <th>timestamp</th>\n",
       "      <th>date</th>\n",
       "      <th>events</th>\n",
       "      <th>text</th>\n",
       "      <th>processed_text</th>\n",
       "      <th>likes</th>\n",
       "      <th>replies</th>\n",
       "      <th>retweets</th>\n",
       "      <th>url</th>\n",
       "      <th>disaster_flag</th>\n",
       "      <th>disaster_phase</th>\n",
       "    </tr>\n",
       "  </thead>\n",
       "  <tbody>\n",
       "    <tr>\n",
       "      <th>0</th>\n",
       "      <td>1.026975e+18</td>\n",
       "      <td>@Kuwago68</td>\n",
       "      <td>2018-08-07 23:35:23</td>\n",
       "      <td>2018-08-07</td>\n",
       "      <td>Typhoon Mangkhut</td>\n",
       "      <td>Ummm...Well...Ummm...To Late. He'd already mad...</td>\n",
       "      <td>ummm ... well ... ummm ... late he'd already m...</td>\n",
       "      <td>1.0</td>\n",
       "      <td>1</td>\n",
       "      <td>0</td>\n",
       "      <td>/Kuwago68/status/1026975117950107648</td>\n",
       "      <td>1</td>\n",
       "      <td>3</td>\n",
       "    </tr>\n",
       "    <tr>\n",
       "      <th>1</th>\n",
       "      <td>1.026712e+18</td>\n",
       "      <td>@catcoco2011</td>\n",
       "      <td>2018-08-07 06:07:53</td>\n",
       "      <td>2018-08-07</td>\n",
       "      <td>Typhoon Mangkhut</td>\n",
       "      <td>@29rain \\r\\r\\n[2018 RAIN JUSTÂ  FOR YOU]\\r\\r\\n...</td>\n",
       "      <td>2018 rain hong kong rain fanmeeting hall 11 ra...</td>\n",
       "      <td>6.0</td>\n",
       "      <td>0</td>\n",
       "      <td>3</td>\n",
       "      <td>/catcoco2011/status/1026711509093810176</td>\n",
       "      <td>1</td>\n",
       "      <td>2</td>\n",
       "    </tr>\n",
       "    <tr>\n",
       "      <th>2</th>\n",
       "      <td>1.027117e+18</td>\n",
       "      <td>@hongkonginforme</td>\n",
       "      <td>2018-08-08 09:00:01</td>\n",
       "      <td>2018-08-08</td>\n",
       "      <td>Typhoon Mangkhut</td>\n",
       "      <td>Bird in the Rain â€“ Hong KongÂ Picture https:...</td>\n",
       "      <td>bird rain hong kongpicture</td>\n",
       "      <td>0.0</td>\n",
       "      <td>0</td>\n",
       "      <td>0</td>\n",
       "      <td>/hongkonginforme/status/1027117212782473216</td>\n",
       "      <td>1</td>\n",
       "      <td>1</td>\n",
       "    </tr>\n",
       "    <tr>\n",
       "      <th>3</th>\n",
       "      <td>1.026987e+18</td>\n",
       "      <td>@CloudThai</td>\n",
       "      <td>2018-08-08 00:22:14</td>\n",
       "      <td>2018-08-08</td>\n",
       "      <td>Typhoon Mangkhut</td>\n",
       "      <td>D-80\\r\\r\\nRAIN Asian Fan Meeting Tour \"Just Fo...</td>\n",
       "      <td>D-8 0 rain asian fan meeting tour schedule ann...</td>\n",
       "      <td>7.0</td>\n",
       "      <td>0</td>\n",
       "      <td>3</td>\n",
       "      <td>/CloudThai/status/1026986910659489792</td>\n",
       "      <td>1</td>\n",
       "      <td>1</td>\n",
       "    </tr>\n",
       "    <tr>\n",
       "      <th>4</th>\n",
       "      <td>1.027045e+18</td>\n",
       "      <td>@rthk_enews</td>\n",
       "      <td>2018-08-08 04:13:40</td>\n",
       "      <td>2018-08-08</td>\n",
       "      <td>Typhoon Mangkhut</td>\n",
       "      <td>The ANA group scraps flights from Narita to Sh...</td>\n",
       "      <td>ana group scrap flight narita shanghai hong ko...</td>\n",
       "      <td>0.0</td>\n",
       "      <td>0</td>\n",
       "      <td>0</td>\n",
       "      <td>/rthk_enews/status/1027045152466989057</td>\n",
       "      <td>1</td>\n",
       "      <td>1</td>\n",
       "    </tr>\n",
       "  </tbody>\n",
       "</table>\n",
       "</div>"
      ],
      "text/plain": [
       "       tweet_id              user            timestamp        date  \\\n",
       "0  1.026975e+18         @Kuwago68  2018-08-07 23:35:23  2018-08-07   \n",
       "1  1.026712e+18      @catcoco2011  2018-08-07 06:07:53  2018-08-07   \n",
       "2  1.027117e+18  @hongkonginforme  2018-08-08 09:00:01  2018-08-08   \n",
       "3  1.026987e+18        @CloudThai  2018-08-08 00:22:14  2018-08-08   \n",
       "4  1.027045e+18       @rthk_enews  2018-08-08 04:13:40  2018-08-08   \n",
       "\n",
       "             events                                               text  \\\n",
       "0  Typhoon Mangkhut  Ummm...Well...Ummm...To Late. He'd already mad...   \n",
       "1  Typhoon Mangkhut  @29rain \\r\\r\\n[2018 RAIN JUSTÂ  FOR YOU]\\r\\r\\n...   \n",
       "2  Typhoon Mangkhut  Bird in the Rain â€“ Hong KongÂ Picture https:...   \n",
       "3  Typhoon Mangkhut  D-80\\r\\r\\nRAIN Asian Fan Meeting Tour \"Just Fo...   \n",
       "4  Typhoon Mangkhut  The ANA group scraps flights from Narita to Sh...   \n",
       "\n",
       "                                      processed_text  likes  replies  \\\n",
       "0  ummm ... well ... ummm ... late he'd already m...    1.0        1   \n",
       "1  2018 rain hong kong rain fanmeeting hall 11 ra...    6.0        0   \n",
       "2                         bird rain hong kongpicture    0.0        0   \n",
       "3  D-8 0 rain asian fan meeting tour schedule ann...    7.0        0   \n",
       "4  ana group scrap flight narita shanghai hong ko...    0.0        0   \n",
       "\n",
       "   retweets                                          url  disaster_flag  \\\n",
       "0         0         /Kuwago68/status/1026975117950107648              1   \n",
       "1         3      /catcoco2011/status/1026711509093810176              1   \n",
       "2         0  /hongkonginforme/status/1027117212782473216              1   \n",
       "3         3        /CloudThai/status/1026986910659489792              1   \n",
       "4         0       /rthk_enews/status/1027045152466989057              1   \n",
       "\n",
       "   disaster_phase  \n",
       "0               3  \n",
       "1               2  \n",
       "2               1  \n",
       "3               1  \n",
       "4               1  "
      ]
     },
     "execution_count": 89,
     "metadata": {},
     "output_type": "execute_result"
    }
   ],
   "source": [
    "df_Typhoon_Mangkhut_labelled.head()"
   ]
  },
  {
   "cell_type": "code",
   "execution_count": 90,
   "metadata": {
    "ExecuteTime": {
     "end_time": "2018-12-24T17:56:53.998091Z",
     "start_time": "2018-12-24T17:56:53.008738Z"
    }
   },
   "outputs": [],
   "source": [
    "## Data Storage ##\n",
    "df_Typhoon_Mangkhut_labelled.to_csv(OUTPUT_PATH + 'df_Typhoon_Mangkhut_phase_labelled.csv')"
   ]
  }
 ],
 "metadata": {
  "kernelspec": {
   "display_name": "Python 3",
   "language": "python",
   "name": "python3"
  },
  "language_info": {
   "codemirror_mode": {
    "name": "ipython",
    "version": 3
   },
   "file_extension": ".py",
   "mimetype": "text/x-python",
   "name": "python",
   "nbconvert_exporter": "python",
   "pygments_lexer": "ipython3",
   "version": "3.6.3"
  },
  "toc": {
   "nav_menu": {},
   "number_sections": true,
   "sideBar": true,
   "skip_h1_title": false,
   "title_cell": "Table of Contents",
   "title_sidebar": "Contents",
   "toc_cell": false,
   "toc_position": {},
   "toc_section_display": true,
   "toc_window_display": true
  }
 },
 "nbformat": 4,
 "nbformat_minor": 2
}
