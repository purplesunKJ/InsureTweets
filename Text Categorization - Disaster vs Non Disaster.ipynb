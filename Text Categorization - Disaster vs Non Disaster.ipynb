{
 "cells": [
  {
   "cell_type": "markdown",
   "metadata": {},
   "source": [
    "# Initialization"
   ]
  },
  {
   "cell_type": "code",
   "execution_count": 1,
   "metadata": {
    "ExecuteTime": {
     "end_time": "2018-12-24T09:15:06.182999Z",
     "start_time": "2018-12-24T09:15:05.275395Z"
    }
   },
   "outputs": [],
   "source": [
    "## Import Libraries and Dependencies ##\n",
    "from sklearn import model_selection, preprocessing, linear_model, naive_bayes, metrics, svm\n",
    "from sklearn.feature_extraction.text import TfidfVectorizer, CountVectorizer\n",
    "from sklearn import decomposition, ensemble\n",
    "\n",
    "import pandas as pd\n",
    "import numpy as np\n",
    "\n",
    "import random"
   ]
  },
  {
   "cell_type": "markdown",
   "metadata": {},
   "source": [
    "# Dataset Preparation"
   ]
  },
  {
   "cell_type": "markdown",
   "metadata": {},
   "source": [
    "## Sample Data Testing"
   ]
  },
  {
   "cell_type": "code",
   "execution_count": 2,
   "metadata": {
    "ExecuteTime": {
     "end_time": "2018-12-24T09:15:06.189949Z",
     "start_time": "2018-12-24T09:15:06.184960Z"
    }
   },
   "outputs": [],
   "source": [
    "# DATA_PATH = \"D:/OneDrive - National University of Singapore/NUS MTech KE/MTech KE - FYP - InsureSense/Kang Jiang/Phase 3/System Implementation/scripts/Data Mining & Machine Learning/dataset/amazon_review_full_csv/\""
   ]
  },
  {
   "cell_type": "code",
   "execution_count": 3,
   "metadata": {
    "ExecuteTime": {
     "end_time": "2018-12-24T09:15:06.197957Z",
     "start_time": "2018-12-24T09:15:06.191957Z"
    }
   },
   "outputs": [],
   "source": [
    "# # load the dataset\n",
    "# data = open(DATA_PATH + 'corpus', encoding=\"utf8\").read()\n",
    "# labels, texts = [], []\n",
    "# for i, line in enumerate(data.split(\"\\n\")):\n",
    "#     content = line.split()\n",
    "#     labels.append(content[0])\n",
    "#     texts.append(\" \".join(content[1:]))"
   ]
  },
  {
   "cell_type": "code",
   "execution_count": 4,
   "metadata": {
    "ExecuteTime": {
     "end_time": "2018-12-24T09:15:06.204918Z",
     "start_time": "2018-12-24T09:15:06.199921Z"
    }
   },
   "outputs": [],
   "source": [
    "# # create a dataframe using texts and lables\n",
    "# trainDF = pandas.DataFrame()\n",
    "# trainDF['text'] = texts\n",
    "# trainDF['label'] = labels"
   ]
  },
  {
   "cell_type": "markdown",
   "metadata": {},
   "source": [
    "## Tweets data"
   ]
  },
  {
   "cell_type": "code",
   "execution_count": 5,
   "metadata": {
    "ExecuteTime": {
     "end_time": "2018-12-24T09:15:06.213911Z",
     "start_time": "2018-12-24T09:15:06.208925Z"
    }
   },
   "outputs": [],
   "source": [
    "# Path for raw tweets input data\n",
    "DATA_PATH = \"D:/OneDrive - National University of Singapore/NUS MTech KE/MTech KE - FYP - InsureSense/Kang Jiang/Phase 3/System Implementation/scripts/Data Mining & Machine Learning/dataset/disaster_text_classification/self/\""
   ]
  },
  {
   "cell_type": "code",
   "execution_count": 6,
   "metadata": {
    "ExecuteTime": {
     "end_time": "2018-12-24T09:15:06.360519Z",
     "start_time": "2018-12-24T09:15:06.215879Z"
    }
   },
   "outputs": [],
   "source": [
    "df = pd.read_excel(DATA_PATH + 'disaster_labelled.xlsx', index_col=0).reset_index(drop=True)"
   ]
  },
  {
   "cell_type": "code",
   "execution_count": 7,
   "metadata": {
    "ExecuteTime": {
     "end_time": "2018-12-24T09:15:06.387424Z",
     "start_time": "2018-12-24T09:15:06.361489Z"
    }
   },
   "outputs": [
    {
     "data": {
      "text/html": [
       "<div>\n",
       "<style scoped>\n",
       "    .dataframe tbody tr th:only-of-type {\n",
       "        vertical-align: middle;\n",
       "    }\n",
       "\n",
       "    .dataframe tbody tr th {\n",
       "        vertical-align: top;\n",
       "    }\n",
       "\n",
       "    .dataframe thead th {\n",
       "        text-align: right;\n",
       "    }\n",
       "</style>\n",
       "<table border=\"1\" class=\"dataframe\">\n",
       "  <thead>\n",
       "    <tr style=\"text-align: right;\">\n",
       "      <th></th>\n",
       "      <th>tweet_id</th>\n",
       "      <th>user</th>\n",
       "      <th>timestamp</th>\n",
       "      <th>date</th>\n",
       "      <th>events</th>\n",
       "      <th>text</th>\n",
       "      <th>disaster_flag</th>\n",
       "      <th>processed_text</th>\n",
       "      <th>likes</th>\n",
       "      <th>replies</th>\n",
       "      <th>retweets</th>\n",
       "      <th>url</th>\n",
       "    </tr>\n",
       "  </thead>\n",
       "  <tbody>\n",
       "    <tr>\n",
       "      <th>0</th>\n",
       "      <td>1022630000000000000</td>\n",
       "      <td>@EqualizerSoccer</td>\n",
       "      <td>2018-07-26 23:58:00</td>\n",
       "      <td>2018-07-26</td>\n",
       "      <td>Typhoon Jebi</td>\n",
       "      <td>42' - Ertz gets wide open inside Japan's box b...</td>\n",
       "      <td>0</td>\n",
       "      <td>42 ertz get wide open inside japan's box keepe...</td>\n",
       "      <td>7</td>\n",
       "      <td>0</td>\n",
       "      <td>1</td>\n",
       "      <td>/EqualizerSoccer/status/1022632341351669760</td>\n",
       "    </tr>\n",
       "    <tr>\n",
       "      <th>1</th>\n",
       "      <td>1022400000000000000</td>\n",
       "      <td>@tokyostyle_no1</td>\n",
       "      <td>2018-07-26 08:37:00</td>\n",
       "      <td>2018-07-26</td>\n",
       "      <td>Typhoon Jebi</td>\n",
       "      <td>I'm Satomi\\r\\nYou can shake off the fatigue of...</td>\n",
       "      <td>0</td>\n",
       "      <td>i'm satomi shake fatigue traveling japan happy...</td>\n",
       "      <td>0</td>\n",
       "      <td>0</td>\n",
       "      <td>0</td>\n",
       "      <td>/tokyostyle_no1/status/1022400406066872320</td>\n",
       "    </tr>\n",
       "    <tr>\n",
       "      <th>2</th>\n",
       "      <td>1022400000000000000</td>\n",
       "      <td>@HongKongFP</td>\n",
       "      <td>2018-07-26 08:36:00</td>\n",
       "      <td>2018-07-26</td>\n",
       "      <td>Typhoon Jebi</td>\n",
       "      <td>Palau seeks help from US and Japan to counter ...</td>\n",
       "      <td>0</td>\n",
       "      <td>palau seek help u japan counter china's touris...</td>\n",
       "      <td>5</td>\n",
       "      <td>1</td>\n",
       "      <td>3</td>\n",
       "      <td>/HongKongFP/status/1022400138122211328</td>\n",
       "    </tr>\n",
       "    <tr>\n",
       "      <th>3</th>\n",
       "      <td>1022400000000000000</td>\n",
       "      <td>@dwnreport</td>\n",
       "      <td>2018-07-26 08:35:00</td>\n",
       "      <td>2018-07-26</td>\n",
       "      <td>Typhoon Jebi</td>\n",
       "      <td>Palau asks US and Japan for help after China i...</td>\n",
       "      <td>0</td>\n",
       "      <td>palau asks u japan help china imposes tourist ...</td>\n",
       "      <td>0</td>\n",
       "      <td>0</td>\n",
       "      <td>0</td>\n",
       "      <td>/dwnreport/status/1022399914645639173</td>\n",
       "    </tr>\n",
       "    <tr>\n",
       "      <th>4</th>\n",
       "      <td>1022400000000000000</td>\n",
       "      <td>@10pollock</td>\n",
       "      <td>2018-07-26 08:32:00</td>\n",
       "      <td>2018-07-26</td>\n",
       "      <td>Typhoon Jebi</td>\n",
       "      <td>Check out The Stalin Live 83 Japan MINI LP CD ...</td>\n",
       "      <td>0</td>\n",
       "      <td>check stalin live 83 japan mini lp cd w obi de...</td>\n",
       "      <td>0</td>\n",
       "      <td>0</td>\n",
       "      <td>0</td>\n",
       "      <td>/10pollock/status/1022399283088113664</td>\n",
       "    </tr>\n",
       "  </tbody>\n",
       "</table>\n",
       "</div>"
      ],
      "text/plain": [
       "              tweet_id              user           timestamp       date  \\\n",
       "0  1022630000000000000  @EqualizerSoccer 2018-07-26 23:58:00 2018-07-26   \n",
       "1  1022400000000000000   @tokyostyle_no1 2018-07-26 08:37:00 2018-07-26   \n",
       "2  1022400000000000000       @HongKongFP 2018-07-26 08:36:00 2018-07-26   \n",
       "3  1022400000000000000        @dwnreport 2018-07-26 08:35:00 2018-07-26   \n",
       "4  1022400000000000000        @10pollock 2018-07-26 08:32:00 2018-07-26   \n",
       "\n",
       "         events                                               text  \\\n",
       "0  Typhoon Jebi  42' - Ertz gets wide open inside Japan's box b...   \n",
       "1  Typhoon Jebi  I'm Satomi\\r\\nYou can shake off the fatigue of...   \n",
       "2  Typhoon Jebi  Palau seeks help from US and Japan to counter ...   \n",
       "3  Typhoon Jebi  Palau asks US and Japan for help after China i...   \n",
       "4  Typhoon Jebi  Check out The Stalin Live 83 Japan MINI LP CD ...   \n",
       "\n",
       "   disaster_flag                                     processed_text  likes  \\\n",
       "0              0  42 ertz get wide open inside japan's box keepe...      7   \n",
       "1              0  i'm satomi shake fatigue traveling japan happy...      0   \n",
       "2              0  palau seek help u japan counter china's touris...      5   \n",
       "3              0  palau asks u japan help china imposes tourist ...      0   \n",
       "4              0  check stalin live 83 japan mini lp cd w obi de...      0   \n",
       "\n",
       "   replies  retweets                                          url  \n",
       "0        0         1  /EqualizerSoccer/status/1022632341351669760  \n",
       "1        0         0   /tokyostyle_no1/status/1022400406066872320  \n",
       "2        1         3       /HongKongFP/status/1022400138122211328  \n",
       "3        0         0        /dwnreport/status/1022399914645639173  \n",
       "4        0         0        /10pollock/status/1022399283088113664  "
      ]
     },
     "execution_count": 7,
     "metadata": {},
     "output_type": "execute_result"
    }
   ],
   "source": [
    "df.head()"
   ]
  },
  {
   "cell_type": "code",
   "execution_count": 8,
   "metadata": {
    "ExecuteTime": {
     "end_time": "2018-12-24T09:15:06.398419Z",
     "start_time": "2018-12-24T09:15:06.390412Z"
    }
   },
   "outputs": [],
   "source": [
    "# Extract processed text and disaster label\n",
    "df = df[['processed_text','disaster_flag']]"
   ]
  },
  {
   "cell_type": "code",
   "execution_count": 9,
   "metadata": {
    "ExecuteTime": {
     "end_time": "2018-12-24T09:15:06.409390Z",
     "start_time": "2018-12-24T09:15:06.400385Z"
    }
   },
   "outputs": [],
   "source": [
    "df = df.rename(columns={'processed_text': 'text', 'disaster_flag': 'label'})"
   ]
  },
  {
   "cell_type": "code",
   "execution_count": 10,
   "metadata": {
    "ExecuteTime": {
     "end_time": "2018-12-24T09:15:06.416342Z",
     "start_time": "2018-12-24T09:15:06.411355Z"
    }
   },
   "outputs": [],
   "source": [
    "trainDF = df"
   ]
  },
  {
   "cell_type": "code",
   "execution_count": 11,
   "metadata": {
    "ExecuteTime": {
     "end_time": "2018-12-24T09:15:06.426315Z",
     "start_time": "2018-12-24T09:15:06.419335Z"
    }
   },
   "outputs": [],
   "source": [
    "# remove blank text\n",
    "trainDF = trainDF.dropna()"
   ]
  },
  {
   "cell_type": "code",
   "execution_count": 12,
   "metadata": {
    "ExecuteTime": {
     "end_time": "2018-12-24T09:15:06.437286Z",
     "start_time": "2018-12-24T09:15:06.428312Z"
    }
   },
   "outputs": [
    {
     "data": {
      "text/html": [
       "<div>\n",
       "<style scoped>\n",
       "    .dataframe tbody tr th:only-of-type {\n",
       "        vertical-align: middle;\n",
       "    }\n",
       "\n",
       "    .dataframe tbody tr th {\n",
       "        vertical-align: top;\n",
       "    }\n",
       "\n",
       "    .dataframe thead th {\n",
       "        text-align: right;\n",
       "    }\n",
       "</style>\n",
       "<table border=\"1\" class=\"dataframe\">\n",
       "  <thead>\n",
       "    <tr style=\"text-align: right;\">\n",
       "      <th></th>\n",
       "      <th>text</th>\n",
       "      <th>label</th>\n",
       "    </tr>\n",
       "  </thead>\n",
       "  <tbody>\n",
       "    <tr>\n",
       "      <th>0</th>\n",
       "      <td>42 ertz get wide open inside japan's box keepe...</td>\n",
       "      <td>0</td>\n",
       "    </tr>\n",
       "    <tr>\n",
       "      <th>1</th>\n",
       "      <td>i'm satomi shake fatigue traveling japan happy...</td>\n",
       "      <td>0</td>\n",
       "    </tr>\n",
       "    <tr>\n",
       "      <th>2</th>\n",
       "      <td>palau seek help u japan counter china's touris...</td>\n",
       "      <td>0</td>\n",
       "    </tr>\n",
       "    <tr>\n",
       "      <th>3</th>\n",
       "      <td>palau asks u japan help china imposes tourist ...</td>\n",
       "      <td>0</td>\n",
       "    </tr>\n",
       "    <tr>\n",
       "      <th>4</th>\n",
       "      <td>check stalin live 83 japan mini lp cd w obi de...</td>\n",
       "      <td>0</td>\n",
       "    </tr>\n",
       "  </tbody>\n",
       "</table>\n",
       "</div>"
      ],
      "text/plain": [
       "                                                text  label\n",
       "0  42 ertz get wide open inside japan's box keepe...      0\n",
       "1  i'm satomi shake fatigue traveling japan happy...      0\n",
       "2  palau seek help u japan counter china's touris...      0\n",
       "3  palau asks u japan help china imposes tourist ...      0\n",
       "4  check stalin live 83 japan mini lp cd w obi de...      0"
      ]
     },
     "execution_count": 12,
     "metadata": {},
     "output_type": "execute_result"
    }
   ],
   "source": [
    "df.head()"
   ]
  },
  {
   "cell_type": "markdown",
   "metadata": {},
   "source": [
    "# Train Test Split (0.7 vs 0.3)"
   ]
  },
  {
   "cell_type": "code",
   "execution_count": 13,
   "metadata": {
    "ExecuteTime": {
     "end_time": "2018-12-24T09:15:06.447259Z",
     "start_time": "2018-12-24T09:15:06.439281Z"
    }
   },
   "outputs": [],
   "source": [
    "# split the dataset into training and testing se with 0.7 vs 0.3 proportion\n",
    "train_x, test_x, train_y, test_y = model_selection.train_test_split(trainDF['text'], trainDF['label'], test_size=0.30, random_state=123)"
   ]
  },
  {
   "cell_type": "code",
   "execution_count": 14,
   "metadata": {
    "ExecuteTime": {
     "end_time": "2018-12-24T09:15:06.458230Z",
     "start_time": "2018-12-24T09:15:06.449255Z"
    }
   },
   "outputs": [],
   "source": [
    "# label and encode the target variable \n",
    "encoder = preprocessing.LabelEncoder()\n",
    "train_y = encoder.fit_transform(train_y)\n",
    "test_y = encoder.fit_transform(test_y)"
   ]
  },
  {
   "cell_type": "markdown",
   "metadata": {},
   "source": [
    "# Feature Engineering"
   ]
  },
  {
   "cell_type": "markdown",
   "metadata": {},
   "source": [
    "## Count Vectors as features"
   ]
  },
  {
   "cell_type": "markdown",
   "metadata": {},
   "source": [
    "Count Vector is a matrix notation of the dataset in which every row represents a tweet from the dataset, every column represents a term from the dataset, and every cell represents the frequency count of a particular term in a particular tweet"
   ]
  },
  {
   "cell_type": "code",
   "execution_count": 15,
   "metadata": {
    "ExecuteTime": {
     "end_time": "2018-12-24T09:15:06.490145Z",
     "start_time": "2018-12-24T09:15:06.460226Z"
    }
   },
   "outputs": [
    {
     "data": {
      "text/plain": [
       "CountVectorizer(analyzer='word', binary=False, decode_error='strict',\n",
       "        dtype=<class 'numpy.int64'>, encoding='utf-8', input='content',\n",
       "        lowercase=True, max_df=1.0, max_features=None, min_df=1,\n",
       "        ngram_range=(1, 1), preprocessor=None, stop_words=None,\n",
       "        strip_accents=None, token_pattern='(?u)\\\\b\\\\w\\\\w+\\\\b',\n",
       "        tokenizer=None, vocabulary=None)"
      ]
     },
     "execution_count": 15,
     "metadata": {},
     "output_type": "execute_result"
    }
   ],
   "source": [
    "# create a count vectorizer object \n",
    "count_vect = CountVectorizer(analyzer='word')\n",
    "count_vect.fit(trainDF['text'])"
   ]
  },
  {
   "cell_type": "code",
   "execution_count": 16,
   "metadata": {
    "ExecuteTime": {
     "end_time": "2018-12-24T09:15:06.510091Z",
     "start_time": "2018-12-24T09:15:06.492142Z"
    }
   },
   "outputs": [],
   "source": [
    "# transform the training and testing data using count vectorizer object\n",
    "xtrain_count =  count_vect.transform(train_x)\n",
    "xtest_count =  count_vect.transform(test_x)"
   ]
  },
  {
   "cell_type": "markdown",
   "metadata": {},
   "source": [
    "## TF-IDF Vectors as features"
   ]
  },
  {
   "cell_type": "markdown",
   "metadata": {},
   "source": [
    "This matrix representing tf-idf scores of every term in different tweet"
   ]
  },
  {
   "cell_type": "code",
   "execution_count": 17,
   "metadata": {
    "ExecuteTime": {
     "end_time": "2018-12-24T09:15:06.552008Z",
     "start_time": "2018-12-24T09:15:06.511089Z"
    }
   },
   "outputs": [],
   "source": [
    "# derive the word level tf-idf\n",
    "tfidf_vect = TfidfVectorizer(analyzer='word', token_pattern=r'\\w{1,}', max_features=5000)\n",
    "tfidf_vect.fit(trainDF['text'])\n",
    "xtrain_tfidf =  tfidf_vect.transform(train_x)\n",
    "xtest_tfidf =  tfidf_vect.transform(test_x)"
   ]
  },
  {
   "cell_type": "markdown",
   "metadata": {},
   "source": [
    "N-grams are the combination of N terms together. This Matrix representing tf-idf scores of N-grams in different tweet\n",
    "minimum 2 words-grams and maximum 3 words-gram"
   ]
  },
  {
   "cell_type": "code",
   "execution_count": 18,
   "metadata": {
    "ExecuteTime": {
     "end_time": "2018-12-24T09:15:06.656727Z",
     "start_time": "2018-12-24T09:15:06.553976Z"
    }
   },
   "outputs": [],
   "source": [
    "# derive the ngram level tf-idf \n",
    "tfidf_vect_ngram = TfidfVectorizer(analyzer='word', token_pattern=r'\\w{1,}', ngram_range=(2,3), max_features=5000)\n",
    "tfidf_vect_ngram.fit(trainDF['text'])\n",
    "xtrain_tfidf_ngram =  tfidf_vect_ngram.transform(train_x)\n",
    "xtest_tfidf_ngram =  tfidf_vect_ngram.transform(test_x)"
   ]
  },
  {
   "cell_type": "markdown",
   "metadata": {},
   "source": [
    "This matrix representing tf-idf scores of character level n-grams in the tweet"
   ]
  },
  {
   "cell_type": "code",
   "execution_count": 19,
   "metadata": {
    "ExecuteTime": {
     "end_time": "2018-12-24T09:15:06.867168Z",
     "start_time": "2018-12-24T09:15:06.657696Z"
    }
   },
   "outputs": [],
   "source": [
    "# derive the characters level tf-idf\n",
    "tfidf_vect_ngram_chars = TfidfVectorizer(analyzer='char', token_pattern=r'\\w{1,}', ngram_range=(2,3), max_features=5000)\n",
    "tfidf_vect_ngram_chars.fit(trainDF['text'])\n",
    "xtrain_tfidf_ngram_chars =  tfidf_vect_ngram_chars.transform(train_x) \n",
    "xtest_tfidf_ngram_chars =  tfidf_vect_ngram_chars.transform(test_x) "
   ]
  },
  {
   "cell_type": "markdown",
   "metadata": {},
   "source": [
    "# Model Building"
   ]
  },
  {
   "cell_type": "markdown",
   "metadata": {},
   "source": [
    "## Naive Bayes"
   ]
  },
  {
   "cell_type": "code",
   "execution_count": 20,
   "metadata": {
    "ExecuteTime": {
     "end_time": "2018-12-24T09:15:06.879110Z",
     "start_time": "2018-12-24T09:15:06.869132Z"
    }
   },
   "outputs": [
    {
     "data": {
      "text/plain": [
       "0.953125"
      ]
     },
     "execution_count": 20,
     "metadata": {},
     "output_type": "execute_result"
    }
   ],
   "source": [
    "# Naive Bayes on Count Vectors\n",
    "classifier_1 = naive_bayes.MultinomialNB()\n",
    "classifier_1.fit(xtrain_count, train_y)\n",
    "predictions_1 = classifier_1.predict(xtest_count)\n",
    "metrics.accuracy_score(predictions_1, test_y)"
   ]
  },
  {
   "cell_type": "code",
   "execution_count": 21,
   "metadata": {
    "ExecuteTime": {
     "end_time": "2018-12-24T09:15:06.886087Z",
     "start_time": "2018-12-24T09:15:06.881100Z"
    }
   },
   "outputs": [],
   "source": [
    "df_predict_1 = pd.DataFrame(predictions_1).rename(columns={0: 'predict_1'})"
   ]
  },
  {
   "cell_type": "code",
   "execution_count": 22,
   "metadata": {
    "ExecuteTime": {
     "end_time": "2018-12-24T09:15:06.897072Z",
     "start_time": "2018-12-24T09:15:06.888085Z"
    }
   },
   "outputs": [
    {
     "data": {
      "text/plain": [
       "0.87890625"
      ]
     },
     "execution_count": 22,
     "metadata": {},
     "output_type": "execute_result"
    }
   ],
   "source": [
    "# Naive Bayes on Word Level TF-IDF Vectors\n",
    "classifier_2 = naive_bayes.MultinomialNB()\n",
    "classifier_2.fit(xtrain_tfidf, train_y)\n",
    "predictions_2 = classifier_2.predict(xtest_tfidf)\n",
    "metrics.accuracy_score(predictions_2, test_y)"
   ]
  },
  {
   "cell_type": "code",
   "execution_count": 23,
   "metadata": {
    "ExecuteTime": {
     "end_time": "2018-12-24T09:15:06.904041Z",
     "start_time": "2018-12-24T09:15:06.899055Z"
    }
   },
   "outputs": [],
   "source": [
    "df_predict_2 = pd.DataFrame(predictions_2).rename(columns={0: 'predict_2'})"
   ]
  },
  {
   "cell_type": "code",
   "execution_count": 24,
   "metadata": {
    "ExecuteTime": {
     "end_time": "2018-12-24T09:15:06.918035Z",
     "start_time": "2018-12-24T09:15:06.907033Z"
    }
   },
   "outputs": [
    {
     "data": {
      "text/plain": [
       "0.79296875"
      ]
     },
     "execution_count": 24,
     "metadata": {},
     "output_type": "execute_result"
    }
   ],
   "source": [
    "# Naive Bayes on Ngram Level TF-IDF Vectors\n",
    "classifier_3 = naive_bayes.MultinomialNB()\n",
    "classifier_3.fit(xtrain_tfidf_ngram, train_y)\n",
    "predictions_3 = classifier_3.predict(xtest_tfidf_ngram)\n",
    "metrics.accuracy_score(predictions_3, test_y)"
   ]
  },
  {
   "cell_type": "code",
   "execution_count": 25,
   "metadata": {
    "ExecuteTime": {
     "end_time": "2018-12-24T09:15:06.927005Z",
     "start_time": "2018-12-24T09:15:06.919997Z"
    }
   },
   "outputs": [],
   "source": [
    "df_predict_3 = pd.DataFrame(predictions_3).rename(columns={0: 'predict_3'})"
   ]
  },
  {
   "cell_type": "code",
   "execution_count": 26,
   "metadata": {
    "ExecuteTime": {
     "end_time": "2018-12-24T09:15:06.943959Z",
     "start_time": "2018-12-24T09:15:06.927973Z"
    }
   },
   "outputs": [
    {
     "data": {
      "text/plain": [
       "0.89453125"
      ]
     },
     "execution_count": 26,
     "metadata": {},
     "output_type": "execute_result"
    }
   ],
   "source": [
    "# Naive Bayes on Character Level TF-IDF Vectors\n",
    "classifier_4 = naive_bayes.MultinomialNB()\n",
    "classifier_4.fit(xtrain_tfidf_ngram_chars, train_y)\n",
    "predictions_4 = classifier_4.predict(xtest_tfidf_ngram_chars)\n",
    "metrics.accuracy_score(predictions_4, test_y)"
   ]
  },
  {
   "cell_type": "code",
   "execution_count": 27,
   "metadata": {
    "ExecuteTime": {
     "end_time": "2018-12-24T09:15:06.951939Z",
     "start_time": "2018-12-24T09:15:06.945935Z"
    }
   },
   "outputs": [],
   "source": [
    "df_predict_4 = pd.DataFrame(predictions_4).rename(columns={0: 'predict_4'})"
   ]
  },
  {
   "cell_type": "markdown",
   "metadata": {},
   "source": [
    "## Linear Regression"
   ]
  },
  {
   "cell_type": "code",
   "execution_count": 28,
   "metadata": {
    "ExecuteTime": {
     "end_time": "2018-12-24T09:15:06.968893Z",
     "start_time": "2018-12-24T09:15:06.953906Z"
    }
   },
   "outputs": [
    {
     "data": {
      "text/plain": [
       "0.953125"
      ]
     },
     "execution_count": 28,
     "metadata": {},
     "output_type": "execute_result"
    }
   ],
   "source": [
    "# Linear Classifier on Count Vectors\n",
    "classifier_5 = linear_model.LogisticRegression()\n",
    "classifier_5.fit(xtrain_count, train_y)\n",
    "predictions_5 = classifier_5.predict(xtest_count)\n",
    "metrics.accuracy_score(predictions_5, test_y)"
   ]
  },
  {
   "cell_type": "code",
   "execution_count": 29,
   "metadata": {
    "ExecuteTime": {
     "end_time": "2018-12-24T09:15:06.975846Z",
     "start_time": "2018-12-24T09:15:06.971858Z"
    }
   },
   "outputs": [],
   "source": [
    "df_predict_5 = pd.DataFrame(predictions_5).rename(columns={0: 'predict_5'})"
   ]
  },
  {
   "cell_type": "code",
   "execution_count": 30,
   "metadata": {
    "ExecuteTime": {
     "end_time": "2018-12-24T09:15:06.986818Z",
     "start_time": "2018-12-24T09:15:06.977842Z"
    }
   },
   "outputs": [
    {
     "data": {
      "text/plain": [
       "0.953125"
      ]
     },
     "execution_count": 30,
     "metadata": {},
     "output_type": "execute_result"
    }
   ],
   "source": [
    "# Linear Classifier on Word Level TF-IDF Vectors\n",
    "classifier_6 = linear_model.LogisticRegression()\n",
    "classifier_6.fit(xtrain_tfidf, train_y)\n",
    "predictions_6 = classifier_6.predict(xtest_tfidf)\n",
    "metrics.accuracy_score(predictions_6, test_y)"
   ]
  },
  {
   "cell_type": "code",
   "execution_count": 31,
   "metadata": {
    "ExecuteTime": {
     "end_time": "2018-12-24T09:15:06.993798Z",
     "start_time": "2018-12-24T09:15:06.988813Z"
    }
   },
   "outputs": [],
   "source": [
    "df_predict_6 = pd.DataFrame(predictions_6).rename(columns={0: 'predict_6'})"
   ]
  },
  {
   "cell_type": "code",
   "execution_count": 32,
   "metadata": {
    "ExecuteTime": {
     "end_time": "2018-12-24T09:15:07.012747Z",
     "start_time": "2018-12-24T09:15:06.995794Z"
    }
   },
   "outputs": [
    {
     "data": {
      "text/plain": [
       "0.74609375"
      ]
     },
     "execution_count": 32,
     "metadata": {},
     "output_type": "execute_result"
    }
   ],
   "source": [
    "# Linear Classifier on Ngram Level TF-IDF Vectors\n",
    "classifier_7 = linear_model.LogisticRegression()\n",
    "classifier_7.fit(xtrain_tfidf_ngram, train_y)\n",
    "predictions_7 = classifier_7.predict(xtest_tfidf_ngram)\n",
    "metrics.accuracy_score(predictions_7, test_y)"
   ]
  },
  {
   "cell_type": "code",
   "execution_count": 33,
   "metadata": {
    "ExecuteTime": {
     "end_time": "2018-12-24T09:15:07.019731Z",
     "start_time": "2018-12-24T09:15:07.014742Z"
    }
   },
   "outputs": [],
   "source": [
    "df_predict_7 = pd.DataFrame(predictions_7).rename(columns={0: 'predict_7'})"
   ]
  },
  {
   "cell_type": "code",
   "execution_count": 34,
   "metadata": {
    "ExecuteTime": {
     "end_time": "2018-12-24T09:15:07.044662Z",
     "start_time": "2018-12-24T09:15:07.022721Z"
    }
   },
   "outputs": [
    {
     "data": {
      "text/plain": [
       "0.95703125"
      ]
     },
     "execution_count": 34,
     "metadata": {},
     "output_type": "execute_result"
    }
   ],
   "source": [
    "# Linear Classifier on Character Level TF-IDF Vectors\n",
    "classifier_8 = linear_model.LogisticRegression()\n",
    "classifier_8.fit(xtrain_tfidf_ngram_chars, train_y)\n",
    "predictions_8 = classifier_8.predict(xtest_tfidf_ngram_chars)\n",
    "metrics.accuracy_score(predictions_8, test_y)"
   ]
  },
  {
   "cell_type": "code",
   "execution_count": 35,
   "metadata": {
    "ExecuteTime": {
     "end_time": "2018-12-24T09:15:07.052640Z",
     "start_time": "2018-12-24T09:15:07.046657Z"
    }
   },
   "outputs": [],
   "source": [
    "df_predict_8 = pd.DataFrame(predictions_8).rename(columns={0: 'predict_8'})"
   ]
  },
  {
   "cell_type": "markdown",
   "metadata": {},
   "source": [
    "## Random Forest"
   ]
  },
  {
   "cell_type": "code",
   "execution_count": 36,
   "metadata": {
    "ExecuteTime": {
     "end_time": "2018-12-24T09:15:07.101510Z",
     "start_time": "2018-12-24T09:15:07.055633Z"
    }
   },
   "outputs": [
    {
     "data": {
      "text/plain": [
       "0.9453125"
      ]
     },
     "execution_count": 36,
     "metadata": {},
     "output_type": "execute_result"
    }
   ],
   "source": [
    "# Random Forest on Count Vectors\n",
    "classifier_9 = ensemble.RandomForestClassifier()\n",
    "classifier_9.fit(xtrain_count, train_y)\n",
    "predictions_9 = classifier_9.predict(xtest_count)\n",
    "metrics.accuracy_score(predictions_9, test_y)"
   ]
  },
  {
   "cell_type": "code",
   "execution_count": 37,
   "metadata": {
    "ExecuteTime": {
     "end_time": "2018-12-24T09:15:07.109489Z",
     "start_time": "2018-12-24T09:15:07.103504Z"
    }
   },
   "outputs": [],
   "source": [
    "df_predict_9 = pd.DataFrame(predictions_9).rename(columns={0: 'predict_9'})"
   ]
  },
  {
   "cell_type": "code",
   "execution_count": 38,
   "metadata": {
    "ExecuteTime": {
     "end_time": "2018-12-24T09:15:07.170326Z",
     "start_time": "2018-12-24T09:15:07.111483Z"
    }
   },
   "outputs": [
    {
     "data": {
      "text/plain": [
       "0.9453125"
      ]
     },
     "execution_count": 38,
     "metadata": {},
     "output_type": "execute_result"
    }
   ],
   "source": [
    "# Random Forest on Word Level TF-IDF Vectors\n",
    "classifier_10 = ensemble.RandomForestClassifier()\n",
    "classifier_10.fit(xtrain_tfidf, train_y)\n",
    "predictions_10 = classifier_10.predict(xtest_tfidf)\n",
    "metrics.accuracy_score(predictions_10, test_y)"
   ]
  },
  {
   "cell_type": "code",
   "execution_count": 39,
   "metadata": {
    "ExecuteTime": {
     "end_time": "2018-12-24T09:15:07.177308Z",
     "start_time": "2018-12-24T09:15:07.172321Z"
    }
   },
   "outputs": [],
   "source": [
    "df_predict_10 = pd.DataFrame(predictions_10).rename(columns={0: 'predict_10'})"
   ]
  },
  {
   "cell_type": "code",
   "execution_count": 40,
   "metadata": {
    "ExecuteTime": {
     "end_time": "2018-12-24T09:15:07.242134Z",
     "start_time": "2018-12-24T09:15:07.179304Z"
    }
   },
   "outputs": [
    {
     "data": {
      "text/plain": [
       "0.94921875"
      ]
     },
     "execution_count": 40,
     "metadata": {},
     "output_type": "execute_result"
    }
   ],
   "source": [
    "# Random Forest on Character Level TF-IDF Vectors\n",
    "classifier_11 = ensemble.RandomForestClassifier()\n",
    "classifier_11.fit(xtrain_tfidf_ngram_chars, train_y)\n",
    "predictions_11 = classifier_11.predict(xtest_tfidf_ngram_chars)\n",
    "metrics.accuracy_score(predictions_11, test_y)"
   ]
  },
  {
   "cell_type": "code",
   "execution_count": 41,
   "metadata": {
    "ExecuteTime": {
     "end_time": "2018-12-24T09:15:07.248133Z",
     "start_time": "2018-12-24T09:15:07.243144Z"
    }
   },
   "outputs": [],
   "source": [
    "df_predict_11 = pd.DataFrame(predictions_11).rename(columns={0: 'predict_11'})"
   ]
  },
  {
   "cell_type": "markdown",
   "metadata": {},
   "source": [
    "## Ensemble Models"
   ]
  },
  {
   "cell_type": "code",
   "execution_count": 42,
   "metadata": {
    "ExecuteTime": {
     "end_time": "2018-12-24T09:15:07.261083Z",
     "start_time": "2018-12-24T09:15:07.250114Z"
    }
   },
   "outputs": [],
   "source": [
    "frames = [df_predict_1, df_predict_2, df_predict_3, df_predict_4, df_predict_5, df_predict_6, df_predict_7, df_predict_8, df_predict_9, df_predict_10, df_predict_11]"
   ]
  },
  {
   "cell_type": "code",
   "execution_count": 43,
   "metadata": {
    "ExecuteTime": {
     "end_time": "2018-12-24T09:15:07.273051Z",
     "start_time": "2018-12-24T09:15:07.263079Z"
    }
   },
   "outputs": [],
   "source": [
    "df_predict_ensemble = pd.concat(frames, axis=1)\n",
    "df_predict_ensemble['predict_ensemble'] = df_predict_ensemble.sum(axis=1)\n",
    "df_predict_ensemble['predict_final']  = np.where(df_predict_ensemble['predict_ensemble'] > 5, 1, 0)"
   ]
  },
  {
   "cell_type": "code",
   "execution_count": 44,
   "metadata": {
    "ExecuteTime": {
     "end_time": "2018-12-24T09:15:07.289009Z",
     "start_time": "2018-12-24T09:15:07.275047Z"
    }
   },
   "outputs": [
    {
     "data": {
      "text/html": [
       "<div>\n",
       "<style scoped>\n",
       "    .dataframe tbody tr th:only-of-type {\n",
       "        vertical-align: middle;\n",
       "    }\n",
       "\n",
       "    .dataframe tbody tr th {\n",
       "        vertical-align: top;\n",
       "    }\n",
       "\n",
       "    .dataframe thead th {\n",
       "        text-align: right;\n",
       "    }\n",
       "</style>\n",
       "<table border=\"1\" class=\"dataframe\">\n",
       "  <thead>\n",
       "    <tr style=\"text-align: right;\">\n",
       "      <th></th>\n",
       "      <th>predict_1</th>\n",
       "      <th>predict_2</th>\n",
       "      <th>predict_3</th>\n",
       "      <th>predict_4</th>\n",
       "      <th>predict_5</th>\n",
       "      <th>predict_6</th>\n",
       "      <th>predict_7</th>\n",
       "      <th>predict_8</th>\n",
       "      <th>predict_9</th>\n",
       "      <th>predict_10</th>\n",
       "      <th>predict_11</th>\n",
       "      <th>predict_ensemble</th>\n",
       "      <th>predict_final</th>\n",
       "    </tr>\n",
       "  </thead>\n",
       "  <tbody>\n",
       "    <tr>\n",
       "      <th>0</th>\n",
       "      <td>0</td>\n",
       "      <td>0</td>\n",
       "      <td>1</td>\n",
       "      <td>0</td>\n",
       "      <td>0</td>\n",
       "      <td>0</td>\n",
       "      <td>1</td>\n",
       "      <td>0</td>\n",
       "      <td>0</td>\n",
       "      <td>0</td>\n",
       "      <td>0</td>\n",
       "      <td>2</td>\n",
       "      <td>0</td>\n",
       "    </tr>\n",
       "    <tr>\n",
       "      <th>1</th>\n",
       "      <td>1</td>\n",
       "      <td>1</td>\n",
       "      <td>1</td>\n",
       "      <td>1</td>\n",
       "      <td>1</td>\n",
       "      <td>1</td>\n",
       "      <td>1</td>\n",
       "      <td>1</td>\n",
       "      <td>1</td>\n",
       "      <td>1</td>\n",
       "      <td>1</td>\n",
       "      <td>11</td>\n",
       "      <td>1</td>\n",
       "    </tr>\n",
       "    <tr>\n",
       "      <th>2</th>\n",
       "      <td>0</td>\n",
       "      <td>0</td>\n",
       "      <td>0</td>\n",
       "      <td>0</td>\n",
       "      <td>0</td>\n",
       "      <td>0</td>\n",
       "      <td>0</td>\n",
       "      <td>0</td>\n",
       "      <td>0</td>\n",
       "      <td>0</td>\n",
       "      <td>0</td>\n",
       "      <td>0</td>\n",
       "      <td>0</td>\n",
       "    </tr>\n",
       "    <tr>\n",
       "      <th>3</th>\n",
       "      <td>1</td>\n",
       "      <td>1</td>\n",
       "      <td>1</td>\n",
       "      <td>1</td>\n",
       "      <td>1</td>\n",
       "      <td>1</td>\n",
       "      <td>1</td>\n",
       "      <td>1</td>\n",
       "      <td>1</td>\n",
       "      <td>1</td>\n",
       "      <td>1</td>\n",
       "      <td>11</td>\n",
       "      <td>1</td>\n",
       "    </tr>\n",
       "    <tr>\n",
       "      <th>4</th>\n",
       "      <td>1</td>\n",
       "      <td>1</td>\n",
       "      <td>1</td>\n",
       "      <td>1</td>\n",
       "      <td>1</td>\n",
       "      <td>1</td>\n",
       "      <td>1</td>\n",
       "      <td>1</td>\n",
       "      <td>1</td>\n",
       "      <td>1</td>\n",
       "      <td>1</td>\n",
       "      <td>11</td>\n",
       "      <td>1</td>\n",
       "    </tr>\n",
       "  </tbody>\n",
       "</table>\n",
       "</div>"
      ],
      "text/plain": [
       "   predict_1  predict_2  predict_3  predict_4  predict_5  predict_6  \\\n",
       "0          0          0          1          0          0          0   \n",
       "1          1          1          1          1          1          1   \n",
       "2          0          0          0          0          0          0   \n",
       "3          1          1          1          1          1          1   \n",
       "4          1          1          1          1          1          1   \n",
       "\n",
       "   predict_7  predict_8  predict_9  predict_10  predict_11  predict_ensemble  \\\n",
       "0          1          0          0           0           0                 2   \n",
       "1          1          1          1           1           1                11   \n",
       "2          0          0          0           0           0                 0   \n",
       "3          1          1          1           1           1                11   \n",
       "4          1          1          1           1           1                11   \n",
       "\n",
       "   predict_final  \n",
       "0              0  \n",
       "1              1  \n",
       "2              0  \n",
       "3              1  \n",
       "4              1  "
      ]
     },
     "execution_count": 44,
     "metadata": {},
     "output_type": "execute_result"
    }
   ],
   "source": [
    "df_predict_ensemble.head()"
   ]
  },
  {
   "cell_type": "code",
   "execution_count": 45,
   "metadata": {
    "ExecuteTime": {
     "end_time": "2018-12-24T09:15:07.295991Z",
     "start_time": "2018-12-24T09:15:07.291003Z"
    }
   },
   "outputs": [],
   "source": [
    "predictions_final = df_predict_ensemble['predict_final'].values"
   ]
  },
  {
   "cell_type": "code",
   "execution_count": 46,
   "metadata": {
    "ExecuteTime": {
     "end_time": "2018-12-24T09:15:07.306961Z",
     "start_time": "2018-12-24T09:15:07.296988Z"
    }
   },
   "outputs": [
    {
     "data": {
      "text/plain": [
       "0.953125"
      ]
     },
     "execution_count": 46,
     "metadata": {},
     "output_type": "execute_result"
    }
   ],
   "source": [
    "metrics.accuracy_score(predictions_final, test_y)"
   ]
  },
  {
   "cell_type": "markdown",
   "metadata": {},
   "source": [
    "# Model Validation"
   ]
  },
  {
   "cell_type": "code",
   "execution_count": 47,
   "metadata": {
    "ExecuteTime": {
     "end_time": "2018-12-24T09:15:07.744789Z",
     "start_time": "2018-12-24T09:15:07.308956Z"
    },
    "code_folding": []
   },
   "outputs": [],
   "source": [
    "# import libraries for performance validation  \n",
    "from sklearn.metrics import confusion_matrix, classification_report\n",
    "\n",
    "# Function to plot Confusion Matrix\n",
    "import itertools\n",
    "import matplotlib.pyplot as plt\n",
    "import seaborn as sns\n",
    "\n",
    "\n",
    "\n",
    "def plot_confusion_matrix(cm, classes,\n",
    "                          normalize=False,\n",
    "                          title='Confusion matrix',\n",
    "                          cmap=plt.cm.Blues):\n",
    "    \"\"\"\n",
    "    This function prints and plots the confusion matrix.\n",
    "    Normalization can be applied by setting `normalize=True`.\n",
    "    \"\"\"\n",
    "    if normalize:\n",
    "        cm = cm.astype('float') / cm.sum(axis=1)[:, np.newaxis]\n",
    "        print(\"Normalized confusion matrix\")\n",
    "    else:\n",
    "        print('Confusion matrix, without normalization')\n",
    "\n",
    "#     print(cm)\n",
    "\n",
    "    plt.imshow(cm, interpolation='nearest', cmap=cmap)\n",
    "    plt.title(title)\n",
    "    plt.colorbar()\n",
    "    tick_marks = np.arange(len(classes))\n",
    "    plt.xticks(tick_marks, classes, rotation=45)\n",
    "    plt.yticks(tick_marks, classes)\n",
    "\n",
    "    fmt = '.2f' if normalize else 'd'\n",
    "    thresh = cm.max() / 2.\n",
    "    for i, j in itertools.product(range(cm.shape[0]), range(cm.shape[1])):\n",
    "        plt.text(j, i, format(cm[i, j], fmt),\n",
    "                 horizontalalignment=\"center\",\n",
    "                 color=\"white\" if cm[i, j] > thresh else \"black\")\n",
    "\n",
    "    plt.tight_layout()\n",
    "    plt.ylabel('True label')\n",
    "    plt.xlabel('Predicted label')"
   ]
  },
  {
   "cell_type": "code",
   "execution_count": 48,
   "metadata": {
    "ExecuteTime": {
     "end_time": "2018-12-24T09:15:07.967202Z",
     "start_time": "2018-12-24T09:15:07.746785Z"
    }
   },
   "outputs": [
    {
     "name": "stdout",
     "output_type": "stream",
     "text": [
      "Confusion matrix, without normalization\n"
     ]
    },
    {
     "data": {
      "image/png": "[encoded data removed]",
      "text/plain": [
       "<matplotlib.figure.Figure at 0x1c65896a358>"
      ]
     },
     "metadata": {},
     "output_type": "display_data"
    },
    {
     "data": {
      "text/plain": [
       "<matplotlib.figure.Figure at 0x1c65896a9b0>"
      ]
     },
     "metadata": {},
     "output_type": "display_data"
    }
   ],
   "source": [
    "# plot the confusion matrix of classification model\n",
    "sns.set(style=\"whitegrid\", font_scale=1)\n",
    "cnf_matrix = confusion_matrix(test_y, predictions_final)\n",
    "plot_confusion_matrix(cnf_matrix, classes=[],\n",
    "                      title='Confusion Matrix of Naive Bayes Classification Model Without Normalization')\n",
    "plt.figure()\n",
    "plt.show()"
   ]
  },
  {
   "cell_type": "code",
   "execution_count": 49,
   "metadata": {
    "ExecuteTime": {
     "end_time": "2018-12-24T09:15:07.976172Z",
     "start_time": "2018-12-24T09:15:07.969190Z"
    }
   },
   "outputs": [
    {
     "name": "stdout",
     "output_type": "stream",
     "text": [
      "             precision    recall  f1-score   support\n",
      "\n",
      "          0       0.94      0.94      0.94       109\n",
      "          1       0.96      0.96      0.96       147\n",
      "\n",
      "avg / total       0.95      0.95      0.95       256\n",
      "\n"
     ]
    }
   ],
   "source": [
    "print(classification_report(test_y, predictions_final))"
   ]
  },
  {
   "cell_type": "markdown",
   "metadata": {},
   "source": [
    "# Disaster vs Non Disaster Tweets Classification"
   ]
  },
  {
   "cell_type": "code",
   "execution_count": 50,
   "metadata": {
    "ExecuteTime": {
     "end_time": "2018-12-24T09:15:07.982155Z",
     "start_time": "2018-12-24T09:15:07.978168Z"
    }
   },
   "outputs": [],
   "source": [
    "INPUT_PATH = (\"D:/OneDrive - National University of Singapore/NUS MTech KE/MTech KE - FYP - InsureSense/Kang Jiang/Phase 3/System Implementation/scripts/Data Mining & Machine Learning/dataset/raw_tweets/\")"
   ]
  },
  {
   "cell_type": "code",
   "execution_count": 51,
   "metadata": {
    "ExecuteTime": {
     "end_time": "2018-12-24T09:15:07.990162Z",
     "start_time": "2018-12-24T09:15:07.984150Z"
    }
   },
   "outputs": [],
   "source": [
    "OUTPUT_PATH = (\"D:/OneDrive - National University of Singapore/NUS MTech KE/MTech KE - FYP - InsureSense/Kang Jiang/Phase 3/System Implementation/scripts/Data Mining & Machine Learning/dataset/disaster_text_classification/model/\")"
   ]
  },
  {
   "cell_type": "markdown",
   "metadata": {},
   "source": [
    "## Japan Floods"
   ]
  },
  {
   "cell_type": "code",
   "execution_count": 52,
   "metadata": {
    "ExecuteTime": {
     "end_time": "2018-12-24T09:15:08.519717Z",
     "start_time": "2018-12-24T09:15:07.992159Z"
    }
   },
   "outputs": [],
   "source": [
    "## Data Processing ##\n",
    "df_Japan_floods = pd.read_csv(INPUT_PATH + 'df_Japan_Floods_full.csv', index_col=0, encoding = \"ISO-8859-1\")"
   ]
  },
  {
   "cell_type": "code",
   "execution_count": 53,
   "metadata": {
    "ExecuteTime": {
     "end_time": "2018-12-24T09:15:08.561692Z",
     "start_time": "2018-12-24T09:15:08.521712Z"
    }
   },
   "outputs": [
    {
     "name": "stdout",
     "output_type": "stream",
     "text": [
      "<class 'pandas.core.frame.DataFrame'>\n",
      "Int64Index: 81335 entries, 0 to 81334\n",
      "Data columns (total 11 columns):\n",
      "tweet_id          81335 non-null float64\n",
      "user              81335 non-null object\n",
      "timestamp         81335 non-null object\n",
      "date              81335 non-null object\n",
      "events            81335 non-null object\n",
      "text              81335 non-null object\n",
      "processed_text    81084 non-null object\n",
      "likes             81335 non-null int64\n",
      "replies           81335 non-null int64\n",
      "retweets          81335 non-null int64\n",
      "url               81335 non-null object\n",
      "dtypes: float64(1), int64(3), object(7)\n",
      "memory usage: 7.4+ MB\n"
     ]
    }
   ],
   "source": [
    "df_Japan_floods.info()"
   ]
  },
  {
   "cell_type": "code",
   "execution_count": 54,
   "metadata": {
    "ExecuteTime": {
     "end_time": "2018-12-24T09:15:08.631418Z",
     "start_time": "2018-12-24T09:15:08.562638Z"
    }
   },
   "outputs": [],
   "source": [
    "df_Japan_floods = df_Japan_floods.dropna().reset_index(drop=True)"
   ]
  },
  {
   "cell_type": "code",
   "execution_count": 55,
   "metadata": {
    "ExecuteTime": {
     "end_time": "2018-12-24T09:15:08.672341Z",
     "start_time": "2018-12-24T09:15:08.633414Z"
    }
   },
   "outputs": [
    {
     "name": "stdout",
     "output_type": "stream",
     "text": [
      "<class 'pandas.core.frame.DataFrame'>\n",
      "RangeIndex: 81084 entries, 0 to 81083\n",
      "Data columns (total 11 columns):\n",
      "tweet_id          81084 non-null float64\n",
      "user              81084 non-null object\n",
      "timestamp         81084 non-null object\n",
      "date              81084 non-null object\n",
      "events            81084 non-null object\n",
      "text              81084 non-null object\n",
      "processed_text    81084 non-null object\n",
      "likes             81084 non-null int64\n",
      "replies           81084 non-null int64\n",
      "retweets          81084 non-null int64\n",
      "url               81084 non-null object\n",
      "dtypes: float64(1), int64(3), object(7)\n",
      "memory usage: 6.8+ MB\n"
     ]
    }
   ],
   "source": [
    "df_Japan_floods.info()"
   ]
  },
  {
   "cell_type": "code",
   "execution_count": 56,
   "metadata": {
    "ExecuteTime": {
     "end_time": "2018-12-24T09:15:08.678309Z",
     "start_time": "2018-12-24T09:15:08.674306Z"
    }
   },
   "outputs": [],
   "source": [
    "Japan_floods_unlabel = pd.Series(df_Japan_floods['processed_text'])"
   ]
  },
  {
   "cell_type": "code",
   "execution_count": 57,
   "metadata": {
    "ExecuteTime": {
     "end_time": "2018-12-24T09:15:22.235042Z",
     "start_time": "2018-12-24T09:15:08.681287Z"
    }
   },
   "outputs": [],
   "source": [
    "## Feature Engineering ##\n",
    "Japan_floods_unlabel_count =  count_vect.transform(Japan_floods_unlabel)\n",
    "Japan_floods_unlabel_tfidf =  tfidf_vect.transform(Japan_floods_unlabel)\n",
    "Japan_floods_unlabel_tfidf_ngram =  tfidf_vect_ngram.transform(Japan_floods_unlabel)\n",
    "Japan_floods_unlabel_tfidf_ngram_chars =  tfidf_vect_ngram_chars.transform(Japan_floods_unlabel) "
   ]
  },
  {
   "cell_type": "code",
   "execution_count": 58,
   "metadata": {
    "ExecuteTime": {
     "end_time": "2018-12-24T09:15:23.241349Z",
     "start_time": "2018-12-24T09:15:22.236038Z"
    }
   },
   "outputs": [],
   "source": [
    "## Classify disaster text ##\n",
    "df_Japan_floods_predictions_1 = classifier_1.predict(Japan_floods_unlabel_count)\n",
    "df_Japan_floods_predictions_2 = classifier_2.predict(Japan_floods_unlabel_tfidf)\n",
    "df_Japan_floods_predictions_3 = classifier_3.predict(Japan_floods_unlabel_tfidf_ngram)\n",
    "df_Japan_floods_predictions_4 = classifier_4.predict(Japan_floods_unlabel_tfidf_ngram_chars)\n",
    "df_Japan_floods_predictions_5 = classifier_5.predict(Japan_floods_unlabel_count)\n",
    "df_Japan_floods_predictions_6 = classifier_6.predict(Japan_floods_unlabel_tfidf)\n",
    "df_Japan_floods_predictions_7 = classifier_7.predict(Japan_floods_unlabel_tfidf_ngram)\n",
    "df_Japan_floods_predictions_8 = classifier_8.predict(Japan_floods_unlabel_tfidf_ngram_chars)\n",
    "df_Japan_floods_predictions_9 = classifier_9.predict(Japan_floods_unlabel_count)\n",
    "df_Japan_floods_predictions_10 = classifier_10.predict(Japan_floods_unlabel_tfidf)\n",
    "df_Japan_floods_predictions_11 = classifier_11.predict(Japan_floods_unlabel_tfidf_ngram_chars)"
   ]
  },
  {
   "cell_type": "code",
   "execution_count": 59,
   "metadata": {
    "ExecuteTime": {
     "end_time": "2018-12-24T09:15:23.267280Z",
     "start_time": "2018-12-24T09:15:23.243344Z"
    }
   },
   "outputs": [],
   "source": [
    "df_predict_1 = pd.DataFrame(df_Japan_floods_predictions_1).rename(columns={0: 'predict_1'})\n",
    "df_predict_2 = pd.DataFrame(df_Japan_floods_predictions_2).rename(columns={0: 'predict_2'})\n",
    "df_predict_3 = pd.DataFrame(df_Japan_floods_predictions_3).rename(columns={0: 'predict_3'})\n",
    "df_predict_4 = pd.DataFrame(df_Japan_floods_predictions_4).rename(columns={0: 'predict_4'})\n",
    "df_predict_5 = pd.DataFrame(df_Japan_floods_predictions_5).rename(columns={0: 'predict_5'})\n",
    "df_predict_6 = pd.DataFrame(df_Japan_floods_predictions_6).rename(columns={0: 'predict_6'})\n",
    "df_predict_7 = pd.DataFrame(df_Japan_floods_predictions_7).rename(columns={0: 'predict_7'})\n",
    "df_predict_8 = pd.DataFrame(df_Japan_floods_predictions_8).rename(columns={0: 'predict_8'})\n",
    "df_predict_9 = pd.DataFrame(df_Japan_floods_predictions_9).rename(columns={0: 'predict_9'})\n",
    "df_predict_10 = pd.DataFrame(df_Japan_floods_predictions_10).rename(columns={0: 'predict_10'})\n",
    "df_predict_11 = pd.DataFrame(df_Japan_floods_predictions_11).rename(columns={0: 'predict_11'})"
   ]
  },
  {
   "cell_type": "code",
   "execution_count": 60,
   "metadata": {
    "ExecuteTime": {
     "end_time": "2018-12-24T09:15:23.273265Z",
     "start_time": "2018-12-24T09:15:23.268278Z"
    }
   },
   "outputs": [],
   "source": [
    "## Ensemble Model ##\n",
    "frames = [df_predict_1, df_predict_2, df_predict_3, df_predict_4, df_predict_5, df_predict_6, df_predict_7, df_predict_8, df_predict_9, df_predict_10, df_predict_11]"
   ]
  },
  {
   "cell_type": "code",
   "execution_count": 61,
   "metadata": {
    "ExecuteTime": {
     "end_time": "2018-12-24T09:15:23.307174Z",
     "start_time": "2018-12-24T09:15:23.275261Z"
    }
   },
   "outputs": [],
   "source": [
    "df_predict_ensemble = pd.concat(frames, axis=1)\n",
    "df_predict_ensemble['predict_ensemble'] = df_predict_ensemble.sum(axis=1)\n",
    "df_predict_ensemble['predict_final']  = np.where(df_predict_ensemble['predict_ensemble'] > 5, 1, 0)"
   ]
  },
  {
   "cell_type": "code",
   "execution_count": 62,
   "metadata": {
    "ExecuteTime": {
     "end_time": "2018-12-24T09:15:23.324132Z",
     "start_time": "2018-12-24T09:15:23.309169Z"
    }
   },
   "outputs": [
    {
     "data": {
      "text/html": [
       "<div>\n",
       "<style scoped>\n",
       "    .dataframe tbody tr th:only-of-type {\n",
       "        vertical-align: middle;\n",
       "    }\n",
       "\n",
       "    .dataframe tbody tr th {\n",
       "        vertical-align: top;\n",
       "    }\n",
       "\n",
       "    .dataframe thead th {\n",
       "        text-align: right;\n",
       "    }\n",
       "</style>\n",
       "<table border=\"1\" class=\"dataframe\">\n",
       "  <thead>\n",
       "    <tr style=\"text-align: right;\">\n",
       "      <th></th>\n",
       "      <th>predict_1</th>\n",
       "      <th>predict_2</th>\n",
       "      <th>predict_3</th>\n",
       "      <th>predict_4</th>\n",
       "      <th>predict_5</th>\n",
       "      <th>predict_6</th>\n",
       "      <th>predict_7</th>\n",
       "      <th>predict_8</th>\n",
       "      <th>predict_9</th>\n",
       "      <th>predict_10</th>\n",
       "      <th>predict_11</th>\n",
       "      <th>predict_ensemble</th>\n",
       "      <th>predict_final</th>\n",
       "    </tr>\n",
       "  </thead>\n",
       "  <tbody>\n",
       "    <tr>\n",
       "      <th>0</th>\n",
       "      <td>0</td>\n",
       "      <td>0</td>\n",
       "      <td>0</td>\n",
       "      <td>0</td>\n",
       "      <td>0</td>\n",
       "      <td>0</td>\n",
       "      <td>0</td>\n",
       "      <td>0</td>\n",
       "      <td>0</td>\n",
       "      <td>0</td>\n",
       "      <td>0</td>\n",
       "      <td>0</td>\n",
       "      <td>0</td>\n",
       "    </tr>\n",
       "    <tr>\n",
       "      <th>1</th>\n",
       "      <td>1</td>\n",
       "      <td>1</td>\n",
       "      <td>1</td>\n",
       "      <td>1</td>\n",
       "      <td>0</td>\n",
       "      <td>0</td>\n",
       "      <td>1</td>\n",
       "      <td>0</td>\n",
       "      <td>0</td>\n",
       "      <td>0</td>\n",
       "      <td>1</td>\n",
       "      <td>6</td>\n",
       "      <td>1</td>\n",
       "    </tr>\n",
       "    <tr>\n",
       "      <th>2</th>\n",
       "      <td>1</td>\n",
       "      <td>1</td>\n",
       "      <td>1</td>\n",
       "      <td>1</td>\n",
       "      <td>0</td>\n",
       "      <td>0</td>\n",
       "      <td>1</td>\n",
       "      <td>0</td>\n",
       "      <td>0</td>\n",
       "      <td>0</td>\n",
       "      <td>0</td>\n",
       "      <td>5</td>\n",
       "      <td>0</td>\n",
       "    </tr>\n",
       "    <tr>\n",
       "      <th>3</th>\n",
       "      <td>0</td>\n",
       "      <td>0</td>\n",
       "      <td>0</td>\n",
       "      <td>1</td>\n",
       "      <td>0</td>\n",
       "      <td>0</td>\n",
       "      <td>0</td>\n",
       "      <td>0</td>\n",
       "      <td>0</td>\n",
       "      <td>0</td>\n",
       "      <td>0</td>\n",
       "      <td>1</td>\n",
       "      <td>0</td>\n",
       "    </tr>\n",
       "    <tr>\n",
       "      <th>4</th>\n",
       "      <td>0</td>\n",
       "      <td>0</td>\n",
       "      <td>0</td>\n",
       "      <td>1</td>\n",
       "      <td>0</td>\n",
       "      <td>0</td>\n",
       "      <td>0</td>\n",
       "      <td>0</td>\n",
       "      <td>0</td>\n",
       "      <td>0</td>\n",
       "      <td>0</td>\n",
       "      <td>1</td>\n",
       "      <td>0</td>\n",
       "    </tr>\n",
       "  </tbody>\n",
       "</table>\n",
       "</div>"
      ],
      "text/plain": [
       "   predict_1  predict_2  predict_3  predict_4  predict_5  predict_6  \\\n",
       "0          0          0          0          0          0          0   \n",
       "1          1          1          1          1          0          0   \n",
       "2          1          1          1          1          0          0   \n",
       "3          0          0          0          1          0          0   \n",
       "4          0          0          0          1          0          0   \n",
       "\n",
       "   predict_7  predict_8  predict_9  predict_10  predict_11  predict_ensemble  \\\n",
       "0          0          0          0           0           0                 0   \n",
       "1          1          0          0           0           1                 6   \n",
       "2          1          0          0           0           0                 5   \n",
       "3          0          0          0           0           0                 1   \n",
       "4          0          0          0           0           0                 1   \n",
       "\n",
       "   predict_final  \n",
       "0              0  \n",
       "1              1  \n",
       "2              0  \n",
       "3              0  \n",
       "4              0  "
      ]
     },
     "execution_count": 62,
     "metadata": {},
     "output_type": "execute_result"
    }
   ],
   "source": [
    "df_predict_ensemble.head()"
   ]
  },
  {
   "cell_type": "code",
   "execution_count": 63,
   "metadata": {
    "ExecuteTime": {
     "end_time": "2018-12-24T09:15:23.346070Z",
     "start_time": "2018-12-24T09:15:23.326123Z"
    }
   },
   "outputs": [],
   "source": [
    "df_predict_ensemble = df_predict_ensemble[['predict_final']]"
   ]
  },
  {
   "cell_type": "code",
   "execution_count": 64,
   "metadata": {
    "ExecuteTime": {
     "end_time": "2018-12-24T09:15:23.421868Z",
     "start_time": "2018-12-24T09:15:23.348065Z"
    }
   },
   "outputs": [],
   "source": [
    "## Join the class label into original dataset ##\n",
    "df_Japan_floods_labelled = df_Japan_floods.join(df_predict_ensemble, how='outer')\n",
    "df_Japan_floods_labelled = df_Japan_floods_labelled.rename(columns={'predict_final': 'disaster_flag'})"
   ]
  },
  {
   "cell_type": "code",
   "execution_count": 65,
   "metadata": {
    "ExecuteTime": {
     "end_time": "2018-12-24T09:15:23.446800Z",
     "start_time": "2018-12-24T09:15:23.422864Z"
    }
   },
   "outputs": [],
   "source": [
    "## Extract disaster text ##\n",
    "df_Japan_floods_labelled = df_Japan_floods_labelled[df_Japan_floods_labelled['disaster_flag'] == 1].reset_index(drop=True)"
   ]
  },
  {
   "cell_type": "code",
   "execution_count": 66,
   "metadata": {
    "ExecuteTime": {
     "end_time": "2018-12-24T09:15:23.478716Z",
     "start_time": "2018-12-24T09:15:23.448797Z"
    }
   },
   "outputs": [
    {
     "name": "stdout",
     "output_type": "stream",
     "text": [
      "<class 'pandas.core.frame.DataFrame'>\n",
      "RangeIndex: 36672 entries, 0 to 36671\n",
      "Data columns (total 12 columns):\n",
      "tweet_id          36672 non-null float64\n",
      "user              36672 non-null object\n",
      "timestamp         36672 non-null object\n",
      "date              36672 non-null object\n",
      "events            36672 non-null object\n",
      "text              36672 non-null object\n",
      "processed_text    36672 non-null object\n",
      "likes             36672 non-null int64\n",
      "replies           36672 non-null int64\n",
      "retweets          36672 non-null int64\n",
      "url               36672 non-null object\n",
      "disaster_flag     36672 non-null int32\n",
      "dtypes: float64(1), int32(1), int64(3), object(7)\n",
      "memory usage: 3.2+ MB\n"
     ]
    }
   ],
   "source": [
    "df_Japan_floods_labelled.info()"
   ]
  },
  {
   "cell_type": "code",
   "execution_count": 67,
   "metadata": {
    "ExecuteTime": {
     "end_time": "2018-12-24T09:15:23.520604Z",
     "start_time": "2018-12-24T09:15:23.480713Z"
    }
   },
   "outputs": [
    {
     "data": {
      "text/html": [
       "<div>\n",
       "<style scoped>\n",
       "    .dataframe tbody tr th:only-of-type {\n",
       "        vertical-align: middle;\n",
       "    }\n",
       "\n",
       "    .dataframe tbody tr th {\n",
       "        vertical-align: top;\n",
       "    }\n",
       "\n",
       "    .dataframe thead th {\n",
       "        text-align: right;\n",
       "    }\n",
       "</style>\n",
       "<table border=\"1\" class=\"dataframe\">\n",
       "  <thead>\n",
       "    <tr style=\"text-align: right;\">\n",
       "      <th></th>\n",
       "      <th>tweet_id</th>\n",
       "      <th>user</th>\n",
       "      <th>timestamp</th>\n",
       "      <th>date</th>\n",
       "      <th>events</th>\n",
       "      <th>text</th>\n",
       "      <th>processed_text</th>\n",
       "      <th>likes</th>\n",
       "      <th>replies</th>\n",
       "      <th>retweets</th>\n",
       "      <th>url</th>\n",
       "      <th>disaster_flag</th>\n",
       "    </tr>\n",
       "  </thead>\n",
       "  <tbody>\n",
       "    <tr>\n",
       "      <th>0</th>\n",
       "      <td>1.005350e+18</td>\n",
       "      <td>@TokyoAdultGuide</td>\n",
       "      <td>6/9/2018 7:40</td>\n",
       "      <td>6/9/2018</td>\n",
       "      <td>Japan Floods</td>\n",
       "      <td>New entry in Q&amp;A has been added... Choosing be...</td>\n",
       "      <td>new entry q added ... choosing threesome two h...</td>\n",
       "      <td>1</td>\n",
       "      <td>0</td>\n",
       "      <td>0</td>\n",
       "      <td>/TokyoAdultGuide/status/1005353978069209088</td>\n",
       "      <td>1</td>\n",
       "    </tr>\n",
       "    <tr>\n",
       "      <th>1</th>\n",
       "      <td>1.005370e+18</td>\n",
       "      <td>@metalheadbazaar</td>\n",
       "      <td>6/9/2018 8:29</td>\n",
       "      <td>6/9/2018</td>\n",
       "      <td>Japan Floods</td>\n",
       "      <td>Marduk - To Tour Japan In November - Metal Sto...</td>\n",
       "      <td>marduk tour japan november metal storm</td>\n",
       "      <td>0</td>\n",
       "      <td>0</td>\n",
       "      <td>0</td>\n",
       "      <td>/metalheadbazaar/status/1005366203618156546</td>\n",
       "      <td>1</td>\n",
       "    </tr>\n",
       "    <tr>\n",
       "      <th>2</th>\n",
       "      <td>1.005370e+18</td>\n",
       "      <td>@wordwidetroll</td>\n",
       "      <td>6/9/2018 8:45</td>\n",
       "      <td>6/9/2018</td>\n",
       "      <td>Japan Floods</td>\n",
       "      <td>Yestarday storm give me http://www.irvinakatec...</td>\n",
       "      <td>yestarday storm give ad adsense money moneygur...</td>\n",
       "      <td>0</td>\n",
       "      <td>0</td>\n",
       "      <td>0</td>\n",
       "      <td>/wordwidetroll/status/1005370364757725184</td>\n",
       "      <td>1</td>\n",
       "    </tr>\n",
       "    <tr>\n",
       "      <th>3</th>\n",
       "      <td>1.005370e+18</td>\n",
       "      <td>@kazuotamakashi</td>\n",
       "      <td>6/9/2018 9:00</td>\n",
       "      <td>6/9/2018</td>\n",
       "      <td>Japan Floods</td>\n",
       "      <td>Rain tomorrow, at Nara City, Japan! With a hig...</td>\n",
       "      <td>rain tomorrow nara city japan high 22c low 18c</td>\n",
       "      <td>0</td>\n",
       "      <td>0</td>\n",
       "      <td>0</td>\n",
       "      <td>/kazuotamakashi/status/1005373968650571778</td>\n",
       "      <td>1</td>\n",
       "    </tr>\n",
       "    <tr>\n",
       "      <th>4</th>\n",
       "      <td>1.005370e+18</td>\n",
       "      <td>@shukyudo_travel</td>\n",
       "      <td>6/9/2018 9:00</td>\n",
       "      <td>6/9/2018</td>\n",
       "      <td>Japan Floods</td>\n",
       "      <td>Rain tomorrow! With a high of 79F and a low of...</td>\n",
       "      <td>rain tomorrow high 79f low 70f japan osaka tra...</td>\n",
       "      <td>0</td>\n",
       "      <td>0</td>\n",
       "      <td>0</td>\n",
       "      <td>/shukyudo_travel/status/1005373973142622210</td>\n",
       "      <td>1</td>\n",
       "    </tr>\n",
       "    <tr>\n",
       "      <th>5</th>\n",
       "      <td>1.005350e+18</td>\n",
       "      <td>@sarahmldnenbr</td>\n",
       "      <td>6/9/2018 7:19</td>\n",
       "      <td>6/9/2018</td>\n",
       "      <td>Japan Floods</td>\n",
       "      <td>Typical tourists style?! Don't miss some fine...</td>\n",
       "      <td>typical tourist style don't miss fine day rain...</td>\n",
       "      <td>3</td>\n",
       "      <td>0</td>\n",
       "      <td>0</td>\n",
       "      <td>/sarahmldnenbr/status/1005348620235706368</td>\n",
       "      <td>1</td>\n",
       "    </tr>\n",
       "    <tr>\n",
       "      <th>6</th>\n",
       "      <td>1.005350e+18</td>\n",
       "      <td>@Stratus_Fire</td>\n",
       "      <td>6/9/2018 7:18</td>\n",
       "      <td>6/9/2018</td>\n",
       "      <td>Japan Floods</td>\n",
       "      <td>#LateNightThoughts the cities ravaged in the 2...</td>\n",
       "      <td>latenightthoughts city ravaged 2011 japan tsun...</td>\n",
       "      <td>1</td>\n",
       "      <td>0</td>\n",
       "      <td>0</td>\n",
       "      <td>/Stratus_Fire/status/1005348268522594305</td>\n",
       "      <td>1</td>\n",
       "    </tr>\n",
       "    <tr>\n",
       "      <th>7</th>\n",
       "      <td>1.005400e+18</td>\n",
       "      <td>@espgws</td>\n",
       "      <td>6/9/2018 10:49</td>\n",
       "      <td>6/9/2018</td>\n",
       "      <td>Japan Floods</td>\n",
       "      <td>Ã£â¬ï¿½GWS TVÃ£â¬â Highly Recommended!! BA...</td>\n",
       "      <td>gws tv highly recommended babymetal rain rainbow</td>\n",
       "      <td>17</td>\n",
       "      <td>0</td>\n",
       "      <td>6</td>\n",
       "      <td>/espgws/status/1005401381086248960</td>\n",
       "      <td>1</td>\n",
       "    </tr>\n",
       "    <tr>\n",
       "      <th>8</th>\n",
       "      <td>1.005390e+18</td>\n",
       "      <td>@Rainolaguer</td>\n",
       "      <td>6/9/2018 9:56</td>\n",
       "      <td>6/9/2018</td>\n",
       "      <td>Japan Floods</td>\n",
       "      <td>There's no free livestream for Aqours 3rd live...</td>\n",
       "      <td>there's free livestream aqours 3rd live way st...</td>\n",
       "      <td>4</td>\n",
       "      <td>0</td>\n",
       "      <td>0</td>\n",
       "      <td>/Rainolaguer/status/1005388064506535938</td>\n",
       "      <td>1</td>\n",
       "    </tr>\n",
       "    <tr>\n",
       "      <th>9</th>\n",
       "      <td>1.005260e+18</td>\n",
       "      <td>@okthunderkgirl</td>\n",
       "      <td>6/9/2018 1:22</td>\n",
       "      <td>6/9/2018</td>\n",
       "      <td>Japan Floods</td>\n",
       "      <td>This is amazing! So much love from our thunder...</td>\n",
       "      <td>amazing much love thunder brother sister japan</td>\n",
       "      <td>0</td>\n",
       "      <td>0</td>\n",
       "      <td>0</td>\n",
       "      <td>/okthunderkgirl/status/1005258757692121088</td>\n",
       "      <td>1</td>\n",
       "    </tr>\n",
       "    <tr>\n",
       "      <th>10</th>\n",
       "      <td>1.005270e+18</td>\n",
       "      <td>@mars_on_world</td>\n",
       "      <td>6/9/2018 2:07</td>\n",
       "      <td>6/9/2018</td>\n",
       "      <td>Japan Floods</td>\n",
       "      <td>MASAKI YODA -Summer Wind- on #Apple music http...</td>\n",
       "      <td>masaki yoda summer wind apple music</td>\n",
       "      <td>0</td>\n",
       "      <td>0</td>\n",
       "      <td>0</td>\n",
       "      <td>/mars_on_world/status/1005270073022377986</td>\n",
       "      <td>1</td>\n",
       "    </tr>\n",
       "    <tr>\n",
       "      <th>11</th>\n",
       "      <td>1.005280e+18</td>\n",
       "      <td>@fpwarena</td>\n",
       "      <td>6/9/2018 2:29</td>\n",
       "      <td>6/9/2018</td>\n",
       "      <td>Japan Floods</td>\n",
       "      <td>TheDenizen presents ZIP JAPAN Storm of Darknes...</td>\n",
       "      <td>thedenizen present zip japan storm darkness</td>\n",
       "      <td>1</td>\n",
       "      <td>0</td>\n",
       "      <td>0</td>\n",
       "      <td>/fpwarena/status/1005275675132121088</td>\n",
       "      <td>1</td>\n",
       "    </tr>\n",
       "    <tr>\n",
       "      <th>12</th>\n",
       "      <td>1.005280e+18</td>\n",
       "      <td>@Themebar</td>\n",
       "      <td>6/9/2018 2:33</td>\n",
       "      <td>6/9/2018</td>\n",
       "      <td>Japan Floods</td>\n",
       "      <td>A massive earthquake predicted to occur in Jap...</td>\n",
       "      <td>massive earthquake predicted occur japan withi...</td>\n",
       "      <td>0</td>\n",
       "      <td>0</td>\n",
       "      <td>0</td>\n",
       "      <td>/Themebar/status/1005276560738353152</td>\n",
       "      <td>1</td>\n",
       "    </tr>\n",
       "    <tr>\n",
       "      <th>13</th>\n",
       "      <td>1.005390e+18</td>\n",
       "      <td>@Rainolaguer</td>\n",
       "      <td>6/9/2018 9:56</td>\n",
       "      <td>6/9/2018</td>\n",
       "      <td>Japan Floods</td>\n",
       "      <td>There's no free livestream for Aqours 3rd live...</td>\n",
       "      <td>there's free livestream aqours 3rd live way st...</td>\n",
       "      <td>4</td>\n",
       "      <td>0</td>\n",
       "      <td>0</td>\n",
       "      <td>/Rainolaguer/status/1005388064506535938</td>\n",
       "      <td>1</td>\n",
       "    </tr>\n",
       "    <tr>\n",
       "      <th>14</th>\n",
       "      <td>1.005240e+18</td>\n",
       "      <td>@BruhItsTheoRBLX</td>\n",
       "      <td>6/9/2018 0:09</td>\n",
       "      <td>6/9/2018</td>\n",
       "      <td>Japan Floods</td>\n",
       "      <td>Hi Landon! It's rainy season here in the Phili...</td>\n",
       "      <td>hi landon it's rainy season philippine tropica...</td>\n",
       "      <td>1</td>\n",
       "      <td>1</td>\n",
       "      <td>0</td>\n",
       "      <td>/BruhItsTheoRBLX/status/1005240452893872128</td>\n",
       "      <td>1</td>\n",
       "    </tr>\n",
       "    <tr>\n",
       "      <th>15</th>\n",
       "      <td>1.005250e+18</td>\n",
       "      <td>@xjapandougalove</td>\n",
       "      <td>6/9/2018 0:31</td>\n",
       "      <td>6/9/2018</td>\n",
       "      <td>Japan Floods</td>\n",
       "      <td>X Japan Ã¢â¬â Endless Rain Ã¢â¬â Live in...</td>\n",
       "      <td>x japan endless rain live bangkok 2011 4</td>\n",
       "      <td>0</td>\n",
       "      <td>0</td>\n",
       "      <td>0</td>\n",
       "      <td>/xjapandougalove/status/1005245971465494530</td>\n",
       "      <td>1</td>\n",
       "    </tr>\n",
       "    <tr>\n",
       "      <th>16</th>\n",
       "      <td>1.005320e+18</td>\n",
       "      <td>@Themebar</td>\n",
       "      <td>6/9/2018 5:35</td>\n",
       "      <td>6/9/2018</td>\n",
       "      <td>Japan Floods</td>\n",
       "      <td>A massive earthquake predicted to occur in Jap...</td>\n",
       "      <td>massive earthquake predicted occur japan withi...</td>\n",
       "      <td>0</td>\n",
       "      <td>0</td>\n",
       "      <td>0</td>\n",
       "      <td>/Themebar/status/1005322360918929409</td>\n",
       "      <td>1</td>\n",
       "    </tr>\n",
       "    <tr>\n",
       "      <th>17</th>\n",
       "      <td>1.005330e+18</td>\n",
       "      <td>@pockiyrj</td>\n",
       "      <td>6/9/2018 5:46</td>\n",
       "      <td>6/9/2018</td>\n",
       "      <td>Japan Floods</td>\n",
       "      <td>Nuest love without love\\r\\nNuest eternity afte...</td>\n",
       "      <td>nuest love without love nuest eternity rain ja...</td>\n",
       "      <td>0</td>\n",
       "      <td>0</td>\n",
       "      <td>0</td>\n",
       "      <td>/pockiyrj/status/1005325239100641282</td>\n",
       "      <td>1</td>\n",
       "    </tr>\n",
       "    <tr>\n",
       "      <th>18</th>\n",
       "      <td>1.005330e+18</td>\n",
       "      <td>@ikkei228</td>\n",
       "      <td>6/9/2018 5:59</td>\n",
       "      <td>6/9/2018</td>\n",
       "      <td>Japan Floods</td>\n",
       "      <td>THUNDERÃâEMPEROR\\r\\nJAPAN TOURROAD UP Ã¥Â¥Ë...</td>\n",
       "      <td>thunderemperor japan tourroad pic.twitter.com/...</td>\n",
       "      <td>0</td>\n",
       "      <td>0</td>\n",
       "      <td>0</td>\n",
       "      <td>/ikkei228/status/1005328603100221440</td>\n",
       "      <td>1</td>\n",
       "    </tr>\n",
       "    <tr>\n",
       "      <th>19</th>\n",
       "      <td>1.005330e+18</td>\n",
       "      <td>@nanairomiso</td>\n",
       "      <td>6/9/2018 6:03</td>\n",
       "      <td>6/9/2018</td>\n",
       "      <td>Japan Floods</td>\n",
       "      <td>buying sunscreen in japan:\\r\\nSUPER SUN TAN WA...</td>\n",
       "      <td>buying sunscreen japan super sun tan water spf...</td>\n",
       "      <td>3</td>\n",
       "      <td>0</td>\n",
       "      <td>0</td>\n",
       "      <td>/nanairomiso/status/1005329522089123840</td>\n",
       "      <td>1</td>\n",
       "    </tr>\n",
       "    <tr>\n",
       "      <th>20</th>\n",
       "      <td>1.005280e+18</td>\n",
       "      <td>@crossbowpig</td>\n",
       "      <td>6/9/2018 2:46</td>\n",
       "      <td>6/9/2018</td>\n",
       "      <td>Japan Floods</td>\n",
       "      <td>the dilemna; bankrupt myself on a school trip ...</td>\n",
       "      <td>dilemna bankrupt school trip japan stay city i...</td>\n",
       "      <td>0</td>\n",
       "      <td>0</td>\n",
       "      <td>0</td>\n",
       "      <td>/crossbowpig/status/1005279987648417792</td>\n",
       "      <td>1</td>\n",
       "    </tr>\n",
       "    <tr>\n",
       "      <th>21</th>\n",
       "      <td>1.005290e+18</td>\n",
       "      <td>@yanderbae_</td>\n",
       "      <td>6/9/2018 3:22</td>\n",
       "      <td>6/9/2018</td>\n",
       "      <td>Japan Floods</td>\n",
       "      <td>the first weeks of july are gonna kill my body...</td>\n",
       "      <td>first week july gonna kill body need prepare j...</td>\n",
       "      <td>4</td>\n",
       "      <td>0</td>\n",
       "      <td>1</td>\n",
       "      <td>/yanderbae_/status/1005289054391300100</td>\n",
       "      <td>1</td>\n",
       "    </tr>\n",
       "    <tr>\n",
       "      <th>22</th>\n",
       "      <td>1.005290e+18</td>\n",
       "      <td>@defndaines</td>\n",
       "      <td>6/9/2018 3:27</td>\n",
       "      <td>6/9/2018</td>\n",
       "      <td>Japan Floods</td>\n",
       "      <td>So a company in Japan is working on umbrella d...</td>\n",
       "      <td>company japan working umbrella drone first tho...</td>\n",
       "      <td>6</td>\n",
       "      <td>1</td>\n",
       "      <td>2</td>\n",
       "      <td>/defndaines/status/1005290225700966400</td>\n",
       "      <td>1</td>\n",
       "    </tr>\n",
       "    <tr>\n",
       "      <th>23</th>\n",
       "      <td>1.005310e+18</td>\n",
       "      <td>@peterkemplawyer</td>\n",
       "      <td>6/9/2018 4:33</td>\n",
       "      <td>6/9/2018</td>\n",
       "      <td>Japan Floods</td>\n",
       "      <td>You have again ignored the facts, this is gett...</td>\n",
       "      <td>ignored fact getting really tedious japan buil...</td>\n",
       "      <td>0</td>\n",
       "      <td>1</td>\n",
       "      <td>0</td>\n",
       "      <td>/peterkemplawyer/status/1005306943924199424</td>\n",
       "      <td>1</td>\n",
       "    </tr>\n",
       "    <tr>\n",
       "      <th>24</th>\n",
       "      <td>1.005530e+18</td>\n",
       "      <td>@56513_sm</td>\n",
       "      <td>6/9/2018 19:27</td>\n",
       "      <td>6/9/2018</td>\n",
       "      <td>Japan Floods</td>\n",
       "      <td>It seems like it will rain and Japan will prob...</td>\n",
       "      <td>seems like rain japan probably start rain soon</td>\n",
       "      <td>1</td>\n",
       "      <td>1</td>\n",
       "      <td>0</td>\n",
       "      <td>/56513_sm/status/1005531790419771392</td>\n",
       "      <td>1</td>\n",
       "    </tr>\n",
       "    <tr>\n",
       "      <th>25</th>\n",
       "      <td>1.005530e+18</td>\n",
       "      <td>@56513_sm</td>\n",
       "      <td>6/9/2018 19:35</td>\n",
       "      <td>6/9/2018</td>\n",
       "      <td>Japan Floods</td>\n",
       "      <td>The present time in Japan is the rainy season ...</td>\n",
       "      <td>present time japan rainy season rain june</td>\n",
       "      <td>1</td>\n",
       "      <td>1</td>\n",
       "      <td>0</td>\n",
       "      <td>/56513_sm/status/1005533934090719232</td>\n",
       "      <td>1</td>\n",
       "    </tr>\n",
       "    <tr>\n",
       "      <th>26</th>\n",
       "      <td>1.005530e+18</td>\n",
       "      <td>@Themebar</td>\n",
       "      <td>6/9/2018 19:38</td>\n",
       "      <td>6/9/2018</td>\n",
       "      <td>Japan Floods</td>\n",
       "      <td>* #TropicalStorm Maliksi to threaten Philippin...</td>\n",
       "      <td>tropicalstorm maliksi threaten philippine japa...</td>\n",
       "      <td>0</td>\n",
       "      <td>0</td>\n",
       "      <td>0</td>\n",
       "      <td>/Themebar/status/1005534500451840000</td>\n",
       "      <td>1</td>\n",
       "    </tr>\n",
       "    <tr>\n",
       "      <th>27</th>\n",
       "      <td>1.005550e+18</td>\n",
       "      <td>@farawayplanets</td>\n",
       "      <td>6/9/2018 20:27</td>\n",
       "      <td>6/9/2018</td>\n",
       "      <td>Japan Floods</td>\n",
       "      <td>Today on HIP 57050 b: Heavy rain causes a muds...</td>\n",
       "      <td>today hip 57050 b heavy rain cause mudslide de...</td>\n",
       "      <td>0</td>\n",
       "      <td>0</td>\n",
       "      <td>0</td>\n",
       "      <td>/farawayplanets/status/1005546834125729792</td>\n",
       "      <td>1</td>\n",
       "    </tr>\n",
       "    <tr>\n",
       "      <th>28</th>\n",
       "      <td>1.005500e+18</td>\n",
       "      <td>@ajwamood</td>\n",
       "      <td>6/9/2018 17:24</td>\n",
       "      <td>6/9/2018</td>\n",
       "      <td>Japan Floods</td>\n",
       "      <td>#ajwamood : Severe Tropical Storm #Maliksi to ...</td>\n",
       "      <td>ajwamood severe tropical storm maliksi threate...</td>\n",
       "      <td>0</td>\n",
       "      <td>0</td>\n",
       "      <td>0</td>\n",
       "      <td>/ajwamood/status/1005500926659059713</td>\n",
       "      <td>1</td>\n",
       "    </tr>\n",
       "    <tr>\n",
       "      <th>29</th>\n",
       "      <td>1.005510e+18</td>\n",
       "      <td>@willvo2maxout</td>\n",
       "      <td>6/9/2018 17:45</td>\n",
       "      <td>6/9/2018</td>\n",
       "      <td>Japan Floods</td>\n",
       "      <td>CYCLE AROUND JAPAN - Autumn ~ Riding with the ...</td>\n",
       "      <td>cycle around japan autumn riding wind toyama 1...</td>\n",
       "      <td>0</td>\n",
       "      <td>0</td>\n",
       "      <td>0</td>\n",
       "      <td>/willvo2maxout/status/1005506111573655557</td>\n",
       "      <td>1</td>\n",
       "    </tr>\n",
       "    <tr>\n",
       "      <th>...</th>\n",
       "      <td>...</td>\n",
       "      <td>...</td>\n",
       "      <td>...</td>\n",
       "      <td>...</td>\n",
       "      <td>...</td>\n",
       "      <td>...</td>\n",
       "      <td>...</td>\n",
       "      <td>...</td>\n",
       "      <td>...</td>\n",
       "      <td>...</td>\n",
       "      <td>...</td>\n",
       "      <td>...</td>\n",
       "    </tr>\n",
       "    <tr>\n",
       "      <th>36642</th>\n",
       "      <td>1.027510e+18</td>\n",
       "      <td>@turin2tokyo</td>\n",
       "      <td>8/9/2018 11:02</td>\n",
       "      <td>8/9/2018</td>\n",
       "      <td>Japan Floods</td>\n",
       "      <td>After the stormÃ¢â¬Â¦. #turin2tokyo #tokyo #t...</td>\n",
       "      <td>storm turin 2tokyo tokyo tokyolifestyle tokyol...</td>\n",
       "      <td>0</td>\n",
       "      <td>0</td>\n",
       "      <td>0</td>\n",
       "      <td>/turin2tokyo/status/1027510438622359552</td>\n",
       "      <td>1</td>\n",
       "    </tr>\n",
       "    <tr>\n",
       "      <th>36643</th>\n",
       "      <td>1.027530e+18</td>\n",
       "      <td>@ToothAndrew</td>\n",
       "      <td>8/9/2018 12:23</td>\n",
       "      <td>8/9/2018</td>\n",
       "      <td>Japan Floods</td>\n",
       "      <td>How about David Sylvian , Steve Jansen , Mick ...</td>\n",
       "      <td>david sylvian steve jansen mick karn richard b...</td>\n",
       "      <td>0</td>\n",
       "      <td>0</td>\n",
       "      <td>0</td>\n",
       "      <td>/ToothAndrew/status/1027530793495814144</td>\n",
       "      <td>1</td>\n",
       "    </tr>\n",
       "    <tr>\n",
       "      <th>36644</th>\n",
       "      <td>1.027530e+18</td>\n",
       "      <td>@hiosikj</td>\n",
       "      <td>8/9/2018 12:11</td>\n",
       "      <td>8/9/2018</td>\n",
       "      <td>Japan Floods</td>\n",
       "      <td>Konbanwa, we made it to Japan. Seeing everyone...</td>\n",
       "      <td>konbanwa made japan seeing everyone's jehgos p...</td>\n",
       "      <td>1</td>\n",
       "      <td>0</td>\n",
       "      <td>0</td>\n",
       "      <td>/hiosikj/status/1027527710422138880</td>\n",
       "      <td>1</td>\n",
       "    </tr>\n",
       "    <tr>\n",
       "      <th>36645</th>\n",
       "      <td>1.027520e+18</td>\n",
       "      <td>@wageslaverouge3</td>\n",
       "      <td>8/9/2018 11:59</td>\n",
       "      <td>8/9/2018</td>\n",
       "      <td>Japan Floods</td>\n",
       "      <td>After tropical storm went away, #Tokyo has tak...</td>\n",
       "      <td>tropical storm went away tokyo taken sky back ...</td>\n",
       "      <td>0</td>\n",
       "      <td>0</td>\n",
       "      <td>0</td>\n",
       "      <td>/wageslaverouge3/status/1027524670667612161</td>\n",
       "      <td>1</td>\n",
       "    </tr>\n",
       "    <tr>\n",
       "      <th>36646</th>\n",
       "      <td>1.027510e+18</td>\n",
       "      <td>@kenduraghav</td>\n",
       "      <td>8/9/2018 10:56</td>\n",
       "      <td>8/9/2018</td>\n",
       "      <td>Japan Floods</td>\n",
       "      <td>Wildfire in California, Portugal\\r\\nLandslide ...</td>\n",
       "      <td>wildfire california portugal landslide switzer...</td>\n",
       "      <td>1</td>\n",
       "      <td>0</td>\n",
       "      <td>0</td>\n",
       "      <td>/kenduraghav/status/1027508841368309760</td>\n",
       "      <td>1</td>\n",
       "    </tr>\n",
       "    <tr>\n",
       "      <th>36647</th>\n",
       "      <td>1.027490e+18</td>\n",
       "      <td>@fukkou_311</td>\n",
       "      <td>8/9/2018 9:41</td>\n",
       "      <td>8/9/2018</td>\n",
       "      <td>Japan Floods</td>\n",
       "      <td>Ã¢âÂ NHK WORLDÃ¯Â½ÅSevere tropical storm he...</td>\n",
       "      <td>nhk worldsevere tropical storm heading north a...</td>\n",
       "      <td>0</td>\n",
       "      <td>0</td>\n",
       "      <td>0</td>\n",
       "      <td>/fukkou_311/status/1027489942459441153</td>\n",
       "      <td>1</td>\n",
       "    </tr>\n",
       "    <tr>\n",
       "      <th>36648</th>\n",
       "      <td>1.027490e+18</td>\n",
       "      <td>@NHKWORLD_News</td>\n",
       "      <td>8/9/2018 9:39</td>\n",
       "      <td>8/9/2018</td>\n",
       "      <td>Japan Floods</td>\n",
       "      <td>Severe tropical storm heading north along Japa...</td>\n",
       "      <td>severe tropical storm heading north along japan</td>\n",
       "      <td>4</td>\n",
       "      <td>0</td>\n",
       "      <td>6</td>\n",
       "      <td>/NHKWORLD_News/status/1027489625357471744</td>\n",
       "      <td>1</td>\n",
       "    </tr>\n",
       "    <tr>\n",
       "      <th>36649</th>\n",
       "      <td>1.027490e+18</td>\n",
       "      <td>@SpeakerWorld</td>\n",
       "      <td>8/9/2018 9:36</td>\n",
       "      <td>8/9/2018</td>\n",
       "      <td>Japan Floods</td>\n",
       "      <td>#100YearLife, co-authored by Andrew Scott, is ...</td>\n",
       "      <td>100yearlife co-authored andrew scott taking ja...</td>\n",
       "      <td>0</td>\n",
       "      <td>0</td>\n",
       "      <td>0</td>\n",
       "      <td>/SpeakerWorld/status/1027488743824011264</td>\n",
       "      <td>1</td>\n",
       "    </tr>\n",
       "    <tr>\n",
       "      <th>36650</th>\n",
       "      <td>1.027490e+18</td>\n",
       "      <td>@lausericsw</td>\n",
       "      <td>8/9/2018 9:34</td>\n",
       "      <td>8/9/2018</td>\n",
       "      <td>Japan Floods</td>\n",
       "      <td>Japan to be hit by second storm (Typhoon Yagi)...</td>\n",
       "      <td>japan hit second storm typhoon yagi day typhoo...</td>\n",
       "      <td>0</td>\n",
       "      <td>0</td>\n",
       "      <td>0</td>\n",
       "      <td>/lausericsw/status/1027488270123323392</td>\n",
       "      <td>1</td>\n",
       "    </tr>\n",
       "    <tr>\n",
       "      <th>36651</th>\n",
       "      <td>1.027490e+18</td>\n",
       "      <td>@Themebar</td>\n",
       "      <td>8/9/2018 9:48</td>\n",
       "      <td>8/9/2018</td>\n",
       "      <td>Japan Floods</td>\n",
       "      <td>* #Tropicalstorm heads north along Japan east ...</td>\n",
       "      <td>tropicalstorm head north along japan east coas...</td>\n",
       "      <td>1</td>\n",
       "      <td>0</td>\n",
       "      <td>2</td>\n",
       "      <td>/Themebar/status/1027491719514742786</td>\n",
       "      <td>1</td>\n",
       "    </tr>\n",
       "    <tr>\n",
       "      <th>36652</th>\n",
       "      <td>1.027510e+18</td>\n",
       "      <td>@KoltovskoyYakov</td>\n",
       "      <td>8/9/2018 10:51</td>\n",
       "      <td>8/9/2018</td>\n",
       "      <td>Japan Floods</td>\n",
       "      <td>Severe tropical storm heading north along Japa...</td>\n",
       "      <td>severe tropical storm heading north along japa...</td>\n",
       "      <td>0</td>\n",
       "      <td>0</td>\n",
       "      <td>0</td>\n",
       "      <td>/KoltovskoyYakov/status/1027507554946109441</td>\n",
       "      <td>1</td>\n",
       "    </tr>\n",
       "    <tr>\n",
       "      <th>36653</th>\n",
       "      <td>1.027510e+18</td>\n",
       "      <td>@pops131</td>\n",
       "      <td>8/9/2018 10:46</td>\n",
       "      <td>8/9/2018</td>\n",
       "      <td>Japan Floods</td>\n",
       "      <td>Drought, wildfire, and flood images from the U...</td>\n",
       "      <td>drought wildfire flood image uk japan arctic q...</td>\n",
       "      <td>0</td>\n",
       "      <td>0</td>\n",
       "      <td>0</td>\n",
       "      <td>/pops131/status/1027506418822393856</td>\n",
       "      <td>1</td>\n",
       "    </tr>\n",
       "    <tr>\n",
       "      <th>36654</th>\n",
       "      <td>1.027500e+18</td>\n",
       "      <td>@pedrorichter</td>\n",
       "      <td>8/9/2018 10:09</td>\n",
       "      <td>8/9/2018</td>\n",
       "      <td>Japan Floods</td>\n",
       "      <td>Flights canceled but no major damage as typhoo...</td>\n",
       "      <td>flight canceled major damage typhoon soak japa...</td>\n",
       "      <td>0</td>\n",
       "      <td>0</td>\n",
       "      <td>0</td>\n",
       "      <td>/pedrorichter/status/1027497043659567104</td>\n",
       "      <td>1</td>\n",
       "    </tr>\n",
       "    <tr>\n",
       "      <th>36655</th>\n",
       "      <td>1.027500e+18</td>\n",
       "      <td>@Gate_15_Analyst</td>\n",
       "      <td>8/9/2018 10:05</td>\n",
       "      <td>8/9/2018</td>\n",
       "      <td>Japan Floods</td>\n",
       "      <td>#Japan to be hit by second storm days after #T...</td>\n",
       "      <td>japan hit second storm day typhoon shanshan br...</td>\n",
       "      <td>0</td>\n",
       "      <td>0</td>\n",
       "      <td>0</td>\n",
       "      <td>/Gate_15_Analyst/status/1027495986732695553</td>\n",
       "      <td>1</td>\n",
       "    </tr>\n",
       "    <tr>\n",
       "      <th>36656</th>\n",
       "      <td>1.027530e+18</td>\n",
       "      <td>@newsonjapan</td>\n",
       "      <td>8/9/2018 12:27</td>\n",
       "      <td>8/9/2018</td>\n",
       "      <td>Japan Floods</td>\n",
       "      <td>Severe tropical storm heading north along Japa...</td>\n",
       "      <td>severe tropical storm heading north along japan</td>\n",
       "      <td>0</td>\n",
       "      <td>0</td>\n",
       "      <td>0</td>\n",
       "      <td>/newsonjapan/status/1027531709074399232</td>\n",
       "      <td>1</td>\n",
       "    </tr>\n",
       "    <tr>\n",
       "      <th>36657</th>\n",
       "      <td>1.027560e+18</td>\n",
       "      <td>@Yelly_yel</td>\n",
       "      <td>8/9/2018 14:22</td>\n",
       "      <td>8/9/2018</td>\n",
       "      <td>Japan Floods</td>\n",
       "      <td>The rain can be so beautiful at times, reflect...</td>\n",
       "      <td>rain beautiful time reflection city light beau...</td>\n",
       "      <td>0</td>\n",
       "      <td>0</td>\n",
       "      <td>0</td>\n",
       "      <td>/Yelly_yel/status/1027560878999252993</td>\n",
       "      <td>1</td>\n",
       "    </tr>\n",
       "    <tr>\n",
       "      <th>36658</th>\n",
       "      <td>1.027560e+18</td>\n",
       "      <td>@w36500days</td>\n",
       "      <td>8/9/2018 14:00</td>\n",
       "      <td>8/9/2018</td>\n",
       "      <td>Japan Floods</td>\n",
       "      <td>Fukuroda Falls after a rain. There was so much...</td>\n",
       "      <td>fukuroda fall rain much water power getting so...</td>\n",
       "      <td>0</td>\n",
       "      <td>0</td>\n",
       "      <td>0</td>\n",
       "      <td>/w36500days/status/1027555201207562241</td>\n",
       "      <td>1</td>\n",
       "    </tr>\n",
       "    <tr>\n",
       "      <th>36659</th>\n",
       "      <td>1.027550e+18</td>\n",
       "      <td>@Goatys_News</td>\n",
       "      <td>8/9/2018 13:53</td>\n",
       "      <td>8/9/2018</td>\n",
       "      <td>Japan Floods</td>\n",
       "      <td>#Okinawa #Japan #China #SouthKorea #Maritime #...</td>\n",
       "      <td>okinawa japan china southkorea maritime shippi...</td>\n",
       "      <td>1</td>\n",
       "      <td>0</td>\n",
       "      <td>3</td>\n",
       "      <td>/Goatys_News/status/1027553552263208960</td>\n",
       "      <td>1</td>\n",
       "    </tr>\n",
       "    <tr>\n",
       "      <th>36660</th>\n",
       "      <td>1.027570e+18</td>\n",
       "      <td>@UWCIMSS</td>\n",
       "      <td>8/9/2018 15:09</td>\n",
       "      <td>8/9/2018</td>\n",
       "      <td>Japan Floods</td>\n",
       "      <td>MIMIC storm-centered path shows how Typhoon #S...</td>\n",
       "      <td>mimic storm-centered path show typhoon shansha...</td>\n",
       "      <td>5</td>\n",
       "      <td>0</td>\n",
       "      <td>2</td>\n",
       "      <td>/UWCIMSS/status/1027572580390064128</td>\n",
       "      <td>1</td>\n",
       "    </tr>\n",
       "    <tr>\n",
       "      <th>36661</th>\n",
       "      <td>1.027570e+18</td>\n",
       "      <td>@mamin_official</td>\n",
       "      <td>8/9/2018 14:53</td>\n",
       "      <td>8/9/2018</td>\n",
       "      <td>Japan Floods</td>\n",
       "      <td>To @YoshikiOfficial @Toshlofficial \\r\\nDiffere...</td>\n",
       "      <td>different country sang endless rain together x...</td>\n",
       "      <td>0</td>\n",
       "      <td>0</td>\n",
       "      <td>0</td>\n",
       "      <td>/mamin_official/status/1027568641745641472</td>\n",
       "      <td>1</td>\n",
       "    </tr>\n",
       "    <tr>\n",
       "      <th>36662</th>\n",
       "      <td>1.027570e+18</td>\n",
       "      <td>@Goatys_News</td>\n",
       "      <td>8/9/2018 14:53</td>\n",
       "      <td>8/9/2018</td>\n",
       "      <td>Japan Floods</td>\n",
       "      <td>#Japan #WestPacific #Maritime #Shipping #Wx #N...</td>\n",
       "      <td>japan westpacific maritime shipping wx news se...</td>\n",
       "      <td>2</td>\n",
       "      <td>0</td>\n",
       "      <td>4</td>\n",
       "      <td>/Goatys_News/status/1027568524196233217</td>\n",
       "      <td>1</td>\n",
       "    </tr>\n",
       "    <tr>\n",
       "      <th>36663</th>\n",
       "      <td>1.027570e+18</td>\n",
       "      <td>@Peckitt</td>\n",
       "      <td>8/9/2018 14:42</td>\n",
       "      <td>8/9/2018</td>\n",
       "      <td>Japan Floods</td>\n",
       "      <td>Tropical storm 14 Ã¢â¬ËYagiÃ¢â¬â¢ going to...</td>\n",
       "      <td>tropical storm 14 yagi going skirt japan next ...</td>\n",
       "      <td>0</td>\n",
       "      <td>0</td>\n",
       "      <td>0</td>\n",
       "      <td>/Peckitt/status/1027565840655241223</td>\n",
       "      <td>1</td>\n",
       "    </tr>\n",
       "    <tr>\n",
       "      <th>36664</th>\n",
       "      <td>1.027530e+18</td>\n",
       "      <td>@Indianiasacade</td>\n",
       "      <td>8/9/2018 12:38</td>\n",
       "      <td>8/9/2018</td>\n",
       "      <td>Japan Floods</td>\n",
       "      <td>#IAS #UPSC #TNPSC #AO #BANKING#PCS #Energy #IP...</td>\n",
       "      <td>ia upsc tnpsc ao bankingpcs energy ip civilser...</td>\n",
       "      <td>0</td>\n",
       "      <td>0</td>\n",
       "      <td>0</td>\n",
       "      <td>/Indianiasacade/status/1027534630407294976</td>\n",
       "      <td>1</td>\n",
       "    </tr>\n",
       "    <tr>\n",
       "      <th>36665</th>\n",
       "      <td>1.027530e+18</td>\n",
       "      <td>@epiloguepress</td>\n",
       "      <td>8/9/2018 12:36</td>\n",
       "      <td>8/9/2018</td>\n",
       "      <td>Japan Floods</td>\n",
       "      <td>Flights cancelled but no major damage as typho...</td>\n",
       "      <td>flight cancelled major damage typhoon hitsjapan</td>\n",
       "      <td>0</td>\n",
       "      <td>0</td>\n",
       "      <td>0</td>\n",
       "      <td>/epiloguepress/status/1027534085646962688</td>\n",
       "      <td>1</td>\n",
       "    </tr>\n",
       "    <tr>\n",
       "      <th>36666</th>\n",
       "      <td>1.027540e+18</td>\n",
       "      <td>@xSoloD</td>\n",
       "      <td>8/9/2018 13:15</td>\n",
       "      <td>8/9/2018</td>\n",
       "      <td>Japan Floods</td>\n",
       "      <td>Yeah but itÃ¢â¬â¢s coming in the set after S...</td>\n",
       "      <td>yeah coming set sm8 japan get card missed cele...</td>\n",
       "      <td>0</td>\n",
       "      <td>1</td>\n",
       "      <td>0</td>\n",
       "      <td>/xSoloD/status/1027543926121668614</td>\n",
       "      <td>1</td>\n",
       "    </tr>\n",
       "    <tr>\n",
       "      <th>36667</th>\n",
       "      <td>1.027550e+18</td>\n",
       "      <td>@tamobito123</td>\n",
       "      <td>8/9/2018 13:38</td>\n",
       "      <td>8/9/2018</td>\n",
       "      <td>Japan Floods</td>\n",
       "      <td>It's nice that you and Aya-san and Hitomi-san ...</td>\n",
       "      <td>it's nice aya-san hitomi-san everyone japan af...</td>\n",
       "      <td>0</td>\n",
       "      <td>0</td>\n",
       "      <td>0</td>\n",
       "      <td>/tamobito123/status/1027549738386649088</td>\n",
       "      <td>1</td>\n",
       "    </tr>\n",
       "    <tr>\n",
       "      <th>36668</th>\n",
       "      <td>1.027550e+18</td>\n",
       "      <td>@3q1d</td>\n",
       "      <td>8/9/2018 13:38</td>\n",
       "      <td>8/9/2018</td>\n",
       "      <td>Japan Floods</td>\n",
       "      <td>As the wind blows\\r\\n.\\r\\n.\\r\\n#japan #kyoto #...</td>\n",
       "      <td>wind blow .\\r\\n. japan kyoto illgrammers cityk...</td>\n",
       "      <td>1</td>\n",
       "      <td>0</td>\n",
       "      <td>0</td>\n",
       "      <td>/3q1d/status/1027549691137933312</td>\n",
       "      <td>1</td>\n",
       "    </tr>\n",
       "    <tr>\n",
       "      <th>36669</th>\n",
       "      <td>1.027550e+18</td>\n",
       "      <td>@EcoInternet3</td>\n",
       "      <td>8/9/2018 13:26</td>\n",
       "      <td>8/9/2018</td>\n",
       "      <td>Japan Floods</td>\n",
       "      <td>Flights cancelled but no major damage as typho...</td>\n",
       "      <td>flight cancelled major damage typhoon soak jap...</td>\n",
       "      <td>0</td>\n",
       "      <td>0</td>\n",
       "      <td>0</td>\n",
       "      <td>/EcoInternet3/status/1027546538745065472</td>\n",
       "      <td>1</td>\n",
       "    </tr>\n",
       "    <tr>\n",
       "      <th>36670</th>\n",
       "      <td>1.027550e+18</td>\n",
       "      <td>@AJEWeather</td>\n",
       "      <td>8/9/2018 13:21</td>\n",
       "      <td>8/9/2018</td>\n",
       "      <td>Japan Floods</td>\n",
       "      <td>how much damage did the typhoon do to Japan. @...</td>\n",
       "      <td>much damage typhoon japan detail next al jazee...</td>\n",
       "      <td>1</td>\n",
       "      <td>0</td>\n",
       "      <td>1</td>\n",
       "      <td>/AJEWeather/status/1027545401434550272</td>\n",
       "      <td>1</td>\n",
       "    </tr>\n",
       "    <tr>\n",
       "      <th>36671</th>\n",
       "      <td>1.027370e+18</td>\n",
       "      <td>@rmsjobs</td>\n",
       "      <td>8/9/2018 1:30</td>\n",
       "      <td>8/9/2018</td>\n",
       "      <td>Japan Floods</td>\n",
       "      <td>95% of municipalities in flood prone areas of ...</td>\n",
       "      <td>95 municipality flood prone area japan flood h...</td>\n",
       "      <td>2</td>\n",
       "      <td>0</td>\n",
       "      <td>2</td>\n",
       "      <td>/rmsjobs/status/1027366392222216192</td>\n",
       "      <td>1</td>\n",
       "    </tr>\n",
       "  </tbody>\n",
       "</table>\n",
       "<p>36672 rows × 12 columns</p>\n",
       "</div>"
      ],
      "text/plain": [
       "           tweet_id              user       timestamp      date        events  \\\n",
       "0      1.005350e+18  @TokyoAdultGuide   6/9/2018 7:40  6/9/2018  Japan Floods   \n",
       "1      1.005370e+18  @metalheadbazaar   6/9/2018 8:29  6/9/2018  Japan Floods   \n",
       "2      1.005370e+18    @wordwidetroll   6/9/2018 8:45  6/9/2018  Japan Floods   \n",
       "3      1.005370e+18   @kazuotamakashi   6/9/2018 9:00  6/9/2018  Japan Floods   \n",
       "4      1.005370e+18  @shukyudo_travel   6/9/2018 9:00  6/9/2018  Japan Floods   \n",
       "5      1.005350e+18    @sarahmldnenbr   6/9/2018 7:19  6/9/2018  Japan Floods   \n",
       "6      1.005350e+18     @Stratus_Fire   6/9/2018 7:18  6/9/2018  Japan Floods   \n",
       "7      1.005400e+18           @espgws  6/9/2018 10:49  6/9/2018  Japan Floods   \n",
       "8      1.005390e+18      @Rainolaguer   6/9/2018 9:56  6/9/2018  Japan Floods   \n",
       "9      1.005260e+18   @okthunderkgirl   6/9/2018 1:22  6/9/2018  Japan Floods   \n",
       "10     1.005270e+18    @mars_on_world   6/9/2018 2:07  6/9/2018  Japan Floods   \n",
       "11     1.005280e+18         @fpwarena   6/9/2018 2:29  6/9/2018  Japan Floods   \n",
       "12     1.005280e+18         @Themebar   6/9/2018 2:33  6/9/2018  Japan Floods   \n",
       "13     1.005390e+18      @Rainolaguer   6/9/2018 9:56  6/9/2018  Japan Floods   \n",
       "14     1.005240e+18  @BruhItsTheoRBLX   6/9/2018 0:09  6/9/2018  Japan Floods   \n",
       "15     1.005250e+18  @xjapandougalove   6/9/2018 0:31  6/9/2018  Japan Floods   \n",
       "16     1.005320e+18         @Themebar   6/9/2018 5:35  6/9/2018  Japan Floods   \n",
       "17     1.005330e+18         @pockiyrj   6/9/2018 5:46  6/9/2018  Japan Floods   \n",
       "18     1.005330e+18         @ikkei228   6/9/2018 5:59  6/9/2018  Japan Floods   \n",
       "19     1.005330e+18      @nanairomiso   6/9/2018 6:03  6/9/2018  Japan Floods   \n",
       "20     1.005280e+18      @crossbowpig   6/9/2018 2:46  6/9/2018  Japan Floods   \n",
       "21     1.005290e+18       @yanderbae_   6/9/2018 3:22  6/9/2018  Japan Floods   \n",
       "22     1.005290e+18       @defndaines   6/9/2018 3:27  6/9/2018  Japan Floods   \n",
       "23     1.005310e+18  @peterkemplawyer   6/9/2018 4:33  6/9/2018  Japan Floods   \n",
       "24     1.005530e+18         @56513_sm  6/9/2018 19:27  6/9/2018  Japan Floods   \n",
       "25     1.005530e+18         @56513_sm  6/9/2018 19:35  6/9/2018  Japan Floods   \n",
       "26     1.005530e+18         @Themebar  6/9/2018 19:38  6/9/2018  Japan Floods   \n",
       "27     1.005550e+18   @farawayplanets  6/9/2018 20:27  6/9/2018  Japan Floods   \n",
       "28     1.005500e+18         @ajwamood  6/9/2018 17:24  6/9/2018  Japan Floods   \n",
       "29     1.005510e+18    @willvo2maxout  6/9/2018 17:45  6/9/2018  Japan Floods   \n",
       "...             ...               ...             ...       ...           ...   \n",
       "36642  1.027510e+18      @turin2tokyo  8/9/2018 11:02  8/9/2018  Japan Floods   \n",
       "36643  1.027530e+18      @ToothAndrew  8/9/2018 12:23  8/9/2018  Japan Floods   \n",
       "36644  1.027530e+18          @hiosikj  8/9/2018 12:11  8/9/2018  Japan Floods   \n",
       "36645  1.027520e+18  @wageslaverouge3  8/9/2018 11:59  8/9/2018  Japan Floods   \n",
       "36646  1.027510e+18      @kenduraghav  8/9/2018 10:56  8/9/2018  Japan Floods   \n",
       "36647  1.027490e+18       @fukkou_311   8/9/2018 9:41  8/9/2018  Japan Floods   \n",
       "36648  1.027490e+18    @NHKWORLD_News   8/9/2018 9:39  8/9/2018  Japan Floods   \n",
       "36649  1.027490e+18     @SpeakerWorld   8/9/2018 9:36  8/9/2018  Japan Floods   \n",
       "36650  1.027490e+18       @lausericsw   8/9/2018 9:34  8/9/2018  Japan Floods   \n",
       "36651  1.027490e+18         @Themebar   8/9/2018 9:48  8/9/2018  Japan Floods   \n",
       "36652  1.027510e+18  @KoltovskoyYakov  8/9/2018 10:51  8/9/2018  Japan Floods   \n",
       "36653  1.027510e+18          @pops131  8/9/2018 10:46  8/9/2018  Japan Floods   \n",
       "36654  1.027500e+18     @pedrorichter  8/9/2018 10:09  8/9/2018  Japan Floods   \n",
       "36655  1.027500e+18  @Gate_15_Analyst  8/9/2018 10:05  8/9/2018  Japan Floods   \n",
       "36656  1.027530e+18      @newsonjapan  8/9/2018 12:27  8/9/2018  Japan Floods   \n",
       "36657  1.027560e+18        @Yelly_yel  8/9/2018 14:22  8/9/2018  Japan Floods   \n",
       "36658  1.027560e+18       @w36500days  8/9/2018 14:00  8/9/2018  Japan Floods   \n",
       "36659  1.027550e+18      @Goatys_News  8/9/2018 13:53  8/9/2018  Japan Floods   \n",
       "36660  1.027570e+18          @UWCIMSS  8/9/2018 15:09  8/9/2018  Japan Floods   \n",
       "36661  1.027570e+18   @mamin_official  8/9/2018 14:53  8/9/2018  Japan Floods   \n",
       "36662  1.027570e+18      @Goatys_News  8/9/2018 14:53  8/9/2018  Japan Floods   \n",
       "36663  1.027570e+18          @Peckitt  8/9/2018 14:42  8/9/2018  Japan Floods   \n",
       "36664  1.027530e+18   @Indianiasacade  8/9/2018 12:38  8/9/2018  Japan Floods   \n",
       "36665  1.027530e+18    @epiloguepress  8/9/2018 12:36  8/9/2018  Japan Floods   \n",
       "36666  1.027540e+18           @xSoloD  8/9/2018 13:15  8/9/2018  Japan Floods   \n",
       "36667  1.027550e+18      @tamobito123  8/9/2018 13:38  8/9/2018  Japan Floods   \n",
       "36668  1.027550e+18             @3q1d  8/9/2018 13:38  8/9/2018  Japan Floods   \n",
       "36669  1.027550e+18     @EcoInternet3  8/9/2018 13:26  8/9/2018  Japan Floods   \n",
       "36670  1.027550e+18       @AJEWeather  8/9/2018 13:21  8/9/2018  Japan Floods   \n",
       "36671  1.027370e+18          @rmsjobs   8/9/2018 1:30  8/9/2018  Japan Floods   \n",
       "\n",
       "                                                    text  \\\n",
       "0      New entry in Q&A has been added... Choosing be...   \n",
       "1      Marduk - To Tour Japan In November - Metal Sto...   \n",
       "2      Yestarday storm give me http://www.irvinakatec...   \n",
       "3      Rain tomorrow, at Nara City, Japan! With a hig...   \n",
       "4      Rain tomorrow! With a high of 79F and a low of...   \n",
       "5       Typical tourists style?! Don't miss some fine...   \n",
       "6      #LateNightThoughts the cities ravaged in the 2...   \n",
       "7      Ã£â¬ï¿½GWS TVÃ£â¬â Highly Recommended!! BA...   \n",
       "8      There's no free livestream for Aqours 3rd live...   \n",
       "9      This is amazing! So much love from our thunder...   \n",
       "10     MASAKI YODA -Summer Wind- on #Apple music http...   \n",
       "11     TheDenizen presents ZIP JAPAN Storm of Darknes...   \n",
       "12     A massive earthquake predicted to occur in Jap...   \n",
       "13     There's no free livestream for Aqours 3rd live...   \n",
       "14     Hi Landon! It's rainy season here in the Phili...   \n",
       "15     X Japan Ã¢â¬â Endless Rain Ã¢â¬â Live in...   \n",
       "16     A massive earthquake predicted to occur in Jap...   \n",
       "17     Nuest love without love\\r\\nNuest eternity afte...   \n",
       "18     THUNDERÃâEMPEROR\\r\\nJAPAN TOURROAD UP Ã¥Â¥Ë...   \n",
       "19     buying sunscreen in japan:\\r\\nSUPER SUN TAN WA...   \n",
       "20     the dilemna; bankrupt myself on a school trip ...   \n",
       "21     the first weeks of july are gonna kill my body...   \n",
       "22     So a company in Japan is working on umbrella d...   \n",
       "23     You have again ignored the facts, this is gett...   \n",
       "24     It seems like it will rain and Japan will prob...   \n",
       "25     The present time in Japan is the rainy season ...   \n",
       "26     * #TropicalStorm Maliksi to threaten Philippin...   \n",
       "27     Today on HIP 57050 b: Heavy rain causes a muds...   \n",
       "28     #ajwamood : Severe Tropical Storm #Maliksi to ...   \n",
       "29     CYCLE AROUND JAPAN - Autumn ~ Riding with the ...   \n",
       "...                                                  ...   \n",
       "36642  After the stormÃ¢â¬Â¦. #turin2tokyo #tokyo #t...   \n",
       "36643  How about David Sylvian , Steve Jansen , Mick ...   \n",
       "36644  Konbanwa, we made it to Japan. Seeing everyone...   \n",
       "36645  After tropical storm went away, #Tokyo has tak...   \n",
       "36646  Wildfire in California, Portugal\\r\\nLandslide ...   \n",
       "36647  Ã¢âÂ NHK WORLDÃ¯Â½ÅSevere tropical storm he...   \n",
       "36648  Severe tropical storm heading north along Japa...   \n",
       "36649  #100YearLife, co-authored by Andrew Scott, is ...   \n",
       "36650  Japan to be hit by second storm (Typhoon Yagi)...   \n",
       "36651  * #Tropicalstorm heads north along Japan east ...   \n",
       "36652  Severe tropical storm heading north along Japa...   \n",
       "36653  Drought, wildfire, and flood images from the U...   \n",
       "36654  Flights canceled but no major damage as typhoo...   \n",
       "36655  #Japan to be hit by second storm days after #T...   \n",
       "36656  Severe tropical storm heading north along Japa...   \n",
       "36657  The rain can be so beautiful at times, reflect...   \n",
       "36658  Fukuroda Falls after a rain. There was so much...   \n",
       "36659  #Okinawa #Japan #China #SouthKorea #Maritime #...   \n",
       "36660  MIMIC storm-centered path shows how Typhoon #S...   \n",
       "36661  To @YoshikiOfficial @Toshlofficial \\r\\nDiffere...   \n",
       "36662  #Japan #WestPacific #Maritime #Shipping #Wx #N...   \n",
       "36663  Tropical storm 14 Ã¢â¬ËYagiÃ¢â¬â¢ going to...   \n",
       "36664  #IAS #UPSC #TNPSC #AO #BANKING#PCS #Energy #IP...   \n",
       "36665  Flights cancelled but no major damage as typho...   \n",
       "36666  Yeah but itÃ¢â¬â¢s coming in the set after S...   \n",
       "36667  It's nice that you and Aya-san and Hitomi-san ...   \n",
       "36668  As the wind blows\\r\\n.\\r\\n.\\r\\n#japan #kyoto #...   \n",
       "36669  Flights cancelled but no major damage as typho...   \n",
       "36670  how much damage did the typhoon do to Japan. @...   \n",
       "36671  95% of municipalities in flood prone areas of ...   \n",
       "\n",
       "                                          processed_text  likes  replies  \\\n",
       "0      new entry q added ... choosing threesome two h...      1        0   \n",
       "1                 marduk tour japan november metal storm      0        0   \n",
       "2      yestarday storm give ad adsense money moneygur...      0        0   \n",
       "3         rain tomorrow nara city japan high 22c low 18c      0        0   \n",
       "4      rain tomorrow high 79f low 70f japan osaka tra...      0        0   \n",
       "5      typical tourist style don't miss fine day rain...      3        0   \n",
       "6      latenightthoughts city ravaged 2011 japan tsun...      1        0   \n",
       "7       gws tv highly recommended babymetal rain rainbow     17        0   \n",
       "8      there's free livestream aqours 3rd live way st...      4        0   \n",
       "9         amazing much love thunder brother sister japan      0        0   \n",
       "10                   masaki yoda summer wind apple music      0        0   \n",
       "11           thedenizen present zip japan storm darkness      1        0   \n",
       "12     massive earthquake predicted occur japan withi...      0        0   \n",
       "13     there's free livestream aqours 3rd live way st...      4        0   \n",
       "14     hi landon it's rainy season philippine tropica...      1        1   \n",
       "15              x japan endless rain live bangkok 2011 4      0        0   \n",
       "16     massive earthquake predicted occur japan withi...      0        0   \n",
       "17     nuest love without love nuest eternity rain ja...      0        0   \n",
       "18     thunderemperor japan tourroad pic.twitter.com/...      0        0   \n",
       "19     buying sunscreen japan super sun tan water spf...      3        0   \n",
       "20     dilemna bankrupt school trip japan stay city i...      0        0   \n",
       "21     first week july gonna kill body need prepare j...      4        0   \n",
       "22     company japan working umbrella drone first tho...      6        1   \n",
       "23     ignored fact getting really tedious japan buil...      0        1   \n",
       "24        seems like rain japan probably start rain soon      1        1   \n",
       "25             present time japan rainy season rain june      1        1   \n",
       "26     tropicalstorm maliksi threaten philippine japa...      0        0   \n",
       "27     today hip 57050 b heavy rain cause mudslide de...      0        0   \n",
       "28     ajwamood severe tropical storm maliksi threate...      0        0   \n",
       "29     cycle around japan autumn riding wind toyama 1...      0        0   \n",
       "...                                                  ...    ...      ...   \n",
       "36642  storm turin 2tokyo tokyo tokyolifestyle tokyol...      0        0   \n",
       "36643  david sylvian steve jansen mick karn richard b...      0        0   \n",
       "36644  konbanwa made japan seeing everyone's jehgos p...      1        0   \n",
       "36645  tropical storm went away tokyo taken sky back ...      0        0   \n",
       "36646  wildfire california portugal landslide switzer...      1        0   \n",
       "36647  nhk worldsevere tropical storm heading north a...      0        0   \n",
       "36648    severe tropical storm heading north along japan      4        0   \n",
       "36649  100yearlife co-authored andrew scott taking ja...      0        0   \n",
       "36650  japan hit second storm typhoon yagi day typhoo...      0        0   \n",
       "36651  tropicalstorm head north along japan east coas...      1        0   \n",
       "36652  severe tropical storm heading north along japa...      0        0   \n",
       "36653  drought wildfire flood image uk japan arctic q...      0        0   \n",
       "36654  flight canceled major damage typhoon soak japa...      0        0   \n",
       "36655  japan hit second storm day typhoon shanshan br...      0        0   \n",
       "36656    severe tropical storm heading north along japan      0        0   \n",
       "36657  rain beautiful time reflection city light beau...      0        0   \n",
       "36658  fukuroda fall rain much water power getting so...      0        0   \n",
       "36659  okinawa japan china southkorea maritime shippi...      1        0   \n",
       "36660  mimic storm-centered path show typhoon shansha...      5        0   \n",
       "36661  different country sang endless rain together x...      0        0   \n",
       "36662  japan westpacific maritime shipping wx news se...      2        0   \n",
       "36663  tropical storm 14 yagi going skirt japan next ...      0        0   \n",
       "36664  ia upsc tnpsc ao bankingpcs energy ip civilser...      0        0   \n",
       "36665    flight cancelled major damage typhoon hitsjapan      0        0   \n",
       "36666  yeah coming set sm8 japan get card missed cele...      0        1   \n",
       "36667  it's nice aya-san hitomi-san everyone japan af...      0        0   \n",
       "36668  wind blow .\\r\\n. japan kyoto illgrammers cityk...      1        0   \n",
       "36669  flight cancelled major damage typhoon soak jap...      0        0   \n",
       "36670  much damage typhoon japan detail next al jazee...      1        0   \n",
       "36671  95 municipality flood prone area japan flood h...      2        0   \n",
       "\n",
       "       retweets                                          url  disaster_flag  \n",
       "0             0  /TokyoAdultGuide/status/1005353978069209088              1  \n",
       "1             0  /metalheadbazaar/status/1005366203618156546              1  \n",
       "2             0    /wordwidetroll/status/1005370364757725184              1  \n",
       "3             0   /kazuotamakashi/status/1005373968650571778              1  \n",
       "4             0  /shukyudo_travel/status/1005373973142622210              1  \n",
       "5             0    /sarahmldnenbr/status/1005348620235706368              1  \n",
       "6             0     /Stratus_Fire/status/1005348268522594305              1  \n",
       "7             6           /espgws/status/1005401381086248960              1  \n",
       "8             0      /Rainolaguer/status/1005388064506535938              1  \n",
       "9             0   /okthunderkgirl/status/1005258757692121088              1  \n",
       "10            0    /mars_on_world/status/1005270073022377986              1  \n",
       "11            0         /fpwarena/status/1005275675132121088              1  \n",
       "12            0         /Themebar/status/1005276560738353152              1  \n",
       "13            0      /Rainolaguer/status/1005388064506535938              1  \n",
       "14            0  /BruhItsTheoRBLX/status/1005240452893872128              1  \n",
       "15            0  /xjapandougalove/status/1005245971465494530              1  \n",
       "16            0         /Themebar/status/1005322360918929409              1  \n",
       "17            0         /pockiyrj/status/1005325239100641282              1  \n",
       "18            0         /ikkei228/status/1005328603100221440              1  \n",
       "19            0      /nanairomiso/status/1005329522089123840              1  \n",
       "20            0      /crossbowpig/status/1005279987648417792              1  \n",
       "21            1       /yanderbae_/status/1005289054391300100              1  \n",
       "22            2       /defndaines/status/1005290225700966400              1  \n",
       "23            0  /peterkemplawyer/status/1005306943924199424              1  \n",
       "24            0         /56513_sm/status/1005531790419771392              1  \n",
       "25            0         /56513_sm/status/1005533934090719232              1  \n",
       "26            0         /Themebar/status/1005534500451840000              1  \n",
       "27            0   /farawayplanets/status/1005546834125729792              1  \n",
       "28            0         /ajwamood/status/1005500926659059713              1  \n",
       "29            0    /willvo2maxout/status/1005506111573655557              1  \n",
       "...         ...                                          ...            ...  \n",
       "36642         0      /turin2tokyo/status/1027510438622359552              1  \n",
       "36643         0      /ToothAndrew/status/1027530793495814144              1  \n",
       "36644         0          /hiosikj/status/1027527710422138880              1  \n",
       "36645         0  /wageslaverouge3/status/1027524670667612161              1  \n",
       "36646         0      /kenduraghav/status/1027508841368309760              1  \n",
       "36647         0       /fukkou_311/status/1027489942459441153              1  \n",
       "36648         6    /NHKWORLD_News/status/1027489625357471744              1  \n",
       "36649         0     /SpeakerWorld/status/1027488743824011264              1  \n",
       "36650         0       /lausericsw/status/1027488270123323392              1  \n",
       "36651         2         /Themebar/status/1027491719514742786              1  \n",
       "36652         0  /KoltovskoyYakov/status/1027507554946109441              1  \n",
       "36653         0          /pops131/status/1027506418822393856              1  \n",
       "36654         0     /pedrorichter/status/1027497043659567104              1  \n",
       "36655         0  /Gate_15_Analyst/status/1027495986732695553              1  \n",
       "36656         0      /newsonjapan/status/1027531709074399232              1  \n",
       "36657         0        /Yelly_yel/status/1027560878999252993              1  \n",
       "36658         0       /w36500days/status/1027555201207562241              1  \n",
       "36659         3      /Goatys_News/status/1027553552263208960              1  \n",
       "36660         2          /UWCIMSS/status/1027572580390064128              1  \n",
       "36661         0   /mamin_official/status/1027568641745641472              1  \n",
       "36662         4      /Goatys_News/status/1027568524196233217              1  \n",
       "36663         0          /Peckitt/status/1027565840655241223              1  \n",
       "36664         0   /Indianiasacade/status/1027534630407294976              1  \n",
       "36665         0    /epiloguepress/status/1027534085646962688              1  \n",
       "36666         0           /xSoloD/status/1027543926121668614              1  \n",
       "36667         0      /tamobito123/status/1027549738386649088              1  \n",
       "36668         0             /3q1d/status/1027549691137933312              1  \n",
       "36669         0     /EcoInternet3/status/1027546538745065472              1  \n",
       "36670         1       /AJEWeather/status/1027545401434550272              1  \n",
       "36671         2          /rmsjobs/status/1027366392222216192              1  \n",
       "\n",
       "[36672 rows x 12 columns]"
      ]
     },
     "execution_count": 67,
     "metadata": {},
     "output_type": "execute_result"
    }
   ],
   "source": [
    "df_Japan_floods_labelled"
   ]
  },
  {
   "cell_type": "code",
   "execution_count": 68,
   "metadata": {
    "ExecuteTime": {
     "end_time": "2018-12-24T09:15:23.527585Z",
     "start_time": "2018-12-24T09:15:23.522603Z"
    }
   },
   "outputs": [],
   "source": [
    "## Data Storage ##\n",
    "# df_Japan_floods_labelled.to_csv(OUTPUT_PATH + 'df_Japan_floods_disaster_labelled.csv')"
   ]
  },
  {
   "cell_type": "markdown",
   "metadata": {},
   "source": [
    "##  Typhoon Jebi"
   ]
  },
  {
   "cell_type": "code",
   "execution_count": 69,
   "metadata": {
    "ExecuteTime": {
     "end_time": "2018-12-24T09:15:24.187851Z",
     "start_time": "2018-12-24T09:15:23.529579Z"
    }
   },
   "outputs": [],
   "source": [
    "## Data Processing ##\n",
    "df_Typhoon_Jebi = pd.read_csv(INPUT_PATH + 'df_Typhoon_Jebi_full.csv', index_col=0)"
   ]
  },
  {
   "cell_type": "code",
   "execution_count": 70,
   "metadata": {
    "ExecuteTime": {
     "end_time": "2018-12-24T09:15:24.254641Z",
     "start_time": "2018-12-24T09:15:24.189836Z"
    }
   },
   "outputs": [
    {
     "name": "stdout",
     "output_type": "stream",
     "text": [
      "<class 'pandas.core.frame.DataFrame'>\n",
      "Int64Index: 88160 entries, 0 to 88159\n",
      "Data columns (total 11 columns):\n",
      "tweet_id          88160 non-null int64\n",
      "user              88160 non-null object\n",
      "timestamp         88160 non-null object\n",
      "date              88160 non-null object\n",
      "events            88160 non-null object\n",
      "text              88160 non-null object\n",
      "processed_text    87932 non-null object\n",
      "likes             88160 non-null int64\n",
      "replies           88160 non-null int64\n",
      "retweets          88160 non-null int64\n",
      "url               88160 non-null object\n",
      "dtypes: int64(4), object(7)\n",
      "memory usage: 8.1+ MB\n"
     ]
    }
   ],
   "source": [
    "df_Typhoon_Jebi.info()"
   ]
  },
  {
   "cell_type": "code",
   "execution_count": 71,
   "metadata": {
    "ExecuteTime": {
     "end_time": "2018-12-24T09:15:24.351381Z",
     "start_time": "2018-12-24T09:15:24.255637Z"
    }
   },
   "outputs": [],
   "source": [
    "df_Typhoon_Jebi = df_Typhoon_Jebi.dropna().reset_index(drop=True)"
   ]
  },
  {
   "cell_type": "code",
   "execution_count": 72,
   "metadata": {
    "ExecuteTime": {
     "end_time": "2018-12-24T09:15:24.398257Z",
     "start_time": "2018-12-24T09:15:24.352379Z"
    }
   },
   "outputs": [
    {
     "name": "stdout",
     "output_type": "stream",
     "text": [
      "<class 'pandas.core.frame.DataFrame'>\n",
      "RangeIndex: 87932 entries, 0 to 87931\n",
      "Data columns (total 11 columns):\n",
      "tweet_id          87932 non-null int64\n",
      "user              87932 non-null object\n",
      "timestamp         87932 non-null object\n",
      "date              87932 non-null object\n",
      "events            87932 non-null object\n",
      "text              87932 non-null object\n",
      "processed_text    87932 non-null object\n",
      "likes             87932 non-null int64\n",
      "replies           87932 non-null int64\n",
      "retweets          87932 non-null int64\n",
      "url               87932 non-null object\n",
      "dtypes: int64(4), object(7)\n",
      "memory usage: 7.4+ MB\n"
     ]
    }
   ],
   "source": [
    "df_Typhoon_Jebi.info()"
   ]
  },
  {
   "cell_type": "code",
   "execution_count": 73,
   "metadata": {
    "ExecuteTime": {
     "end_time": "2018-12-24T09:15:24.403243Z",
     "start_time": "2018-12-24T09:15:24.399258Z"
    }
   },
   "outputs": [],
   "source": [
    "Typhoon_Jebi_unlabel = pd.Series(df_Typhoon_Jebi['processed_text'])"
   ]
  },
  {
   "cell_type": "code",
   "execution_count": 74,
   "metadata": {
    "ExecuteTime": {
     "end_time": "2018-12-24T09:15:38.680064Z",
     "start_time": "2018-12-24T09:15:24.406237Z"
    }
   },
   "outputs": [],
   "source": [
    "## Feature Engineering ##\n",
    "Typhoon_Jebi_unlabel_count =  count_vect.transform(Typhoon_Jebi_unlabel)\n",
    "Typhoon_Jebi_unlabel_tfidf =  tfidf_vect.transform(Typhoon_Jebi_unlabel)\n",
    "Typhoon_Jebi_unlabel_tfidf_ngram =  tfidf_vect_ngram.transform(Typhoon_Jebi_unlabel)\n",
    "Typhoon_Jebi_unlabel_tfidf_ngram_chars =  tfidf_vect_ngram_chars.transform(Typhoon_Jebi_unlabel)"
   ]
  },
  {
   "cell_type": "code",
   "execution_count": 75,
   "metadata": {
    "ExecuteTime": {
     "end_time": "2018-12-24T09:15:39.800105Z",
     "start_time": "2018-12-24T09:15:38.681062Z"
    }
   },
   "outputs": [],
   "source": [
    "## Classify disaster text ##\n",
    "df_Typhoon_Jebi_predictions_1 = classifier_1.predict(Typhoon_Jebi_unlabel_count)\n",
    "df_Typhoon_Jebi_predictions_2 = classifier_2.predict(Typhoon_Jebi_unlabel_tfidf)\n",
    "df_Typhoon_Jebi_predictions_3 = classifier_3.predict(Typhoon_Jebi_unlabel_tfidf_ngram)\n",
    "df_Typhoon_Jebi_predictions_4 = classifier_4.predict(Typhoon_Jebi_unlabel_tfidf_ngram_chars)\n",
    "df_Typhoon_Jebi_predictions_5 = classifier_5.predict(Typhoon_Jebi_unlabel_count)\n",
    "df_Typhoon_Jebi_predictions_6 = classifier_6.predict(Typhoon_Jebi_unlabel_tfidf)\n",
    "df_Typhoon_Jebi_predictions_7 = classifier_7.predict(Typhoon_Jebi_unlabel_tfidf_ngram)\n",
    "df_Typhoon_Jebi_predictions_8 = classifier_8.predict(Typhoon_Jebi_unlabel_tfidf_ngram_chars)\n",
    "df_Typhoon_Jebi_predictions_9 = classifier_9.predict(Typhoon_Jebi_unlabel_count)\n",
    "df_Typhoon_Jebi_predictions_10 = classifier_10.predict(Typhoon_Jebi_unlabel_tfidf)\n",
    "df_Typhoon_Jebi_predictions_11 = classifier_11.predict(Typhoon_Jebi_unlabel_tfidf_ngram_chars)"
   ]
  },
  {
   "cell_type": "code",
   "execution_count": 76,
   "metadata": {
    "ExecuteTime": {
     "end_time": "2018-12-24T09:15:39.829020Z",
     "start_time": "2018-12-24T09:15:39.802066Z"
    }
   },
   "outputs": [],
   "source": [
    "df_predict_1 = pd.DataFrame(df_Typhoon_Jebi_predictions_1).rename(columns={0: 'predict_1'})\n",
    "df_predict_2 = pd.DataFrame(df_Typhoon_Jebi_predictions_2).rename(columns={0: 'predict_2'})\n",
    "df_predict_3 = pd.DataFrame(df_Typhoon_Jebi_predictions_3).rename(columns={0: 'predict_3'})\n",
    "df_predict_4 = pd.DataFrame(df_Typhoon_Jebi_predictions_4).rename(columns={0: 'predict_4'})\n",
    "df_predict_5 = pd.DataFrame(df_Typhoon_Jebi_predictions_5).rename(columns={0: 'predict_5'})\n",
    "df_predict_6 = pd.DataFrame(df_Typhoon_Jebi_predictions_6).rename(columns={0: 'predict_6'})\n",
    "df_predict_7 = pd.DataFrame(df_Typhoon_Jebi_predictions_7).rename(columns={0: 'predict_7'})\n",
    "df_predict_8 = pd.DataFrame(df_Typhoon_Jebi_predictions_8).rename(columns={0: 'predict_8'})\n",
    "df_predict_9 = pd.DataFrame(df_Typhoon_Jebi_predictions_9).rename(columns={0: 'predict_9'})\n",
    "df_predict_10 = pd.DataFrame(df_Typhoon_Jebi_predictions_10).rename(columns={0: 'predict_10'})\n",
    "df_predict_11 = pd.DataFrame(df_Typhoon_Jebi_predictions_11).rename(columns={0: 'predict_11'})"
   ]
  },
  {
   "cell_type": "code",
   "execution_count": 77,
   "metadata": {
    "ExecuteTime": {
     "end_time": "2018-12-24T09:15:39.837971Z",
     "start_time": "2018-12-24T09:15:39.831987Z"
    }
   },
   "outputs": [],
   "source": [
    "## Ensemble Model ##\n",
    "frames = [df_predict_1, df_predict_2, df_predict_3, df_predict_4, df_predict_5, df_predict_6, df_predict_7, df_predict_8, df_predict_9, df_predict_10, df_predict_11]"
   ]
  },
  {
   "cell_type": "code",
   "execution_count": 78,
   "metadata": {
    "ExecuteTime": {
     "end_time": "2018-12-24T09:15:39.880854Z",
     "start_time": "2018-12-24T09:15:39.839965Z"
    }
   },
   "outputs": [],
   "source": [
    "df_predict_ensemble = pd.concat(frames, axis=1)\n",
    "df_predict_ensemble['predict_ensemble'] = df_predict_ensemble.sum(axis=1)\n",
    "df_predict_ensemble['predict_final']  = np.where(df_predict_ensemble['predict_ensemble'] > 5, 1, 0)"
   ]
  },
  {
   "cell_type": "code",
   "execution_count": 79,
   "metadata": {
    "ExecuteTime": {
     "end_time": "2018-12-24T09:15:39.898807Z",
     "start_time": "2018-12-24T09:15:39.881851Z"
    }
   },
   "outputs": [
    {
     "data": {
      "text/html": [
       "<div>\n",
       "<style scoped>\n",
       "    .dataframe tbody tr th:only-of-type {\n",
       "        vertical-align: middle;\n",
       "    }\n",
       "\n",
       "    .dataframe tbody tr th {\n",
       "        vertical-align: top;\n",
       "    }\n",
       "\n",
       "    .dataframe thead th {\n",
       "        text-align: right;\n",
       "    }\n",
       "</style>\n",
       "<table border=\"1\" class=\"dataframe\">\n",
       "  <thead>\n",
       "    <tr style=\"text-align: right;\">\n",
       "      <th></th>\n",
       "      <th>predict_1</th>\n",
       "      <th>predict_2</th>\n",
       "      <th>predict_3</th>\n",
       "      <th>predict_4</th>\n",
       "      <th>predict_5</th>\n",
       "      <th>predict_6</th>\n",
       "      <th>predict_7</th>\n",
       "      <th>predict_8</th>\n",
       "      <th>predict_9</th>\n",
       "      <th>predict_10</th>\n",
       "      <th>predict_11</th>\n",
       "      <th>predict_ensemble</th>\n",
       "      <th>predict_final</th>\n",
       "    </tr>\n",
       "  </thead>\n",
       "  <tbody>\n",
       "    <tr>\n",
       "      <th>0</th>\n",
       "      <td>0</td>\n",
       "      <td>0</td>\n",
       "      <td>0</td>\n",
       "      <td>0</td>\n",
       "      <td>0</td>\n",
       "      <td>0</td>\n",
       "      <td>0</td>\n",
       "      <td>0</td>\n",
       "      <td>0</td>\n",
       "      <td>0</td>\n",
       "      <td>0</td>\n",
       "      <td>0</td>\n",
       "      <td>0</td>\n",
       "    </tr>\n",
       "    <tr>\n",
       "      <th>1</th>\n",
       "      <td>1</td>\n",
       "      <td>1</td>\n",
       "      <td>1</td>\n",
       "      <td>1</td>\n",
       "      <td>1</td>\n",
       "      <td>1</td>\n",
       "      <td>1</td>\n",
       "      <td>1</td>\n",
       "      <td>1</td>\n",
       "      <td>1</td>\n",
       "      <td>1</td>\n",
       "      <td>11</td>\n",
       "      <td>1</td>\n",
       "    </tr>\n",
       "    <tr>\n",
       "      <th>2</th>\n",
       "      <td>0</td>\n",
       "      <td>0</td>\n",
       "      <td>0</td>\n",
       "      <td>0</td>\n",
       "      <td>0</td>\n",
       "      <td>0</td>\n",
       "      <td>0</td>\n",
       "      <td>0</td>\n",
       "      <td>0</td>\n",
       "      <td>0</td>\n",
       "      <td>0</td>\n",
       "      <td>0</td>\n",
       "      <td>0</td>\n",
       "    </tr>\n",
       "    <tr>\n",
       "      <th>3</th>\n",
       "      <td>0</td>\n",
       "      <td>0</td>\n",
       "      <td>0</td>\n",
       "      <td>0</td>\n",
       "      <td>0</td>\n",
       "      <td>0</td>\n",
       "      <td>0</td>\n",
       "      <td>0</td>\n",
       "      <td>0</td>\n",
       "      <td>0</td>\n",
       "      <td>0</td>\n",
       "      <td>0</td>\n",
       "      <td>0</td>\n",
       "    </tr>\n",
       "    <tr>\n",
       "      <th>4</th>\n",
       "      <td>0</td>\n",
       "      <td>0</td>\n",
       "      <td>0</td>\n",
       "      <td>0</td>\n",
       "      <td>0</td>\n",
       "      <td>0</td>\n",
       "      <td>0</td>\n",
       "      <td>0</td>\n",
       "      <td>0</td>\n",
       "      <td>0</td>\n",
       "      <td>0</td>\n",
       "      <td>0</td>\n",
       "      <td>0</td>\n",
       "    </tr>\n",
       "  </tbody>\n",
       "</table>\n",
       "</div>"
      ],
      "text/plain": [
       "   predict_1  predict_2  predict_3  predict_4  predict_5  predict_6  \\\n",
       "0          0          0          0          0          0          0   \n",
       "1          1          1          1          1          1          1   \n",
       "2          0          0          0          0          0          0   \n",
       "3          0          0          0          0          0          0   \n",
       "4          0          0          0          0          0          0   \n",
       "\n",
       "   predict_7  predict_8  predict_9  predict_10  predict_11  predict_ensemble  \\\n",
       "0          0          0          0           0           0                 0   \n",
       "1          1          1          1           1           1                11   \n",
       "2          0          0          0           0           0                 0   \n",
       "3          0          0          0           0           0                 0   \n",
       "4          0          0          0           0           0                 0   \n",
       "\n",
       "   predict_final  \n",
       "0              0  \n",
       "1              1  \n",
       "2              0  \n",
       "3              0  \n",
       "4              0  "
      ]
     },
     "execution_count": 79,
     "metadata": {},
     "output_type": "execute_result"
    }
   ],
   "source": [
    "df_predict_ensemble.head()"
   ]
  },
  {
   "cell_type": "code",
   "execution_count": 80,
   "metadata": {
    "ExecuteTime": {
     "end_time": "2018-12-24T09:15:39.918753Z",
     "start_time": "2018-12-24T09:15:39.899805Z"
    }
   },
   "outputs": [],
   "source": [
    "df_predict_ensemble = df_predict_ensemble[['predict_final']]"
   ]
  },
  {
   "cell_type": "code",
   "execution_count": 81,
   "metadata": {
    "ExecuteTime": {
     "end_time": "2018-12-24T09:15:40.010538Z",
     "start_time": "2018-12-24T09:15:39.919751Z"
    }
   },
   "outputs": [],
   "source": [
    "## Join the class label into original dataset ##\n",
    "df_Typhoon_Jebi_labelled = df_Typhoon_Jebi.join(df_predict_ensemble, how='outer')\n",
    "df_Typhoon_Jebi_labelled = df_Typhoon_Jebi_labelled.rename(columns={'predict_final': 'disaster_flag'})"
   ]
  },
  {
   "cell_type": "code",
   "execution_count": 82,
   "metadata": {
    "ExecuteTime": {
     "end_time": "2018-12-24T09:15:40.048435Z",
     "start_time": "2018-12-24T09:15:40.012506Z"
    }
   },
   "outputs": [],
   "source": [
    "## Extract disaster text ##\n",
    "df_Typhoon_Jebi_labelled = df_Typhoon_Jebi_labelled[df_Typhoon_Jebi_labelled['disaster_flag'] == 1].reset_index(drop=True)"
   ]
  },
  {
   "cell_type": "code",
   "execution_count": 83,
   "metadata": {
    "ExecuteTime": {
     "end_time": "2018-12-24T09:15:40.080337Z",
     "start_time": "2018-12-24T09:15:40.050430Z"
    }
   },
   "outputs": [
    {
     "name": "stdout",
     "output_type": "stream",
     "text": [
      "<class 'pandas.core.frame.DataFrame'>\n",
      "RangeIndex: 47119 entries, 0 to 47118\n",
      "Data columns (total 12 columns):\n",
      "tweet_id          47119 non-null int64\n",
      "user              47119 non-null object\n",
      "timestamp         47119 non-null object\n",
      "date              47119 non-null object\n",
      "events            47119 non-null object\n",
      "text              47119 non-null object\n",
      "processed_text    47119 non-null object\n",
      "likes             47119 non-null int64\n",
      "replies           47119 non-null int64\n",
      "retweets          47119 non-null int64\n",
      "url               47119 non-null object\n",
      "disaster_flag     47119 non-null int32\n",
      "dtypes: int32(1), int64(4), object(7)\n",
      "memory usage: 4.1+ MB\n"
     ]
    }
   ],
   "source": [
    "df_Typhoon_Jebi_labelled.info()"
   ]
  },
  {
   "cell_type": "code",
   "execution_count": 84,
   "metadata": {
    "ExecuteTime": {
     "end_time": "2018-12-24T09:15:40.099274Z",
     "start_time": "2018-12-24T09:15:40.082317Z"
    }
   },
   "outputs": [
    {
     "data": {
      "text/html": [
       "<div>\n",
       "<style scoped>\n",
       "    .dataframe tbody tr th:only-of-type {\n",
       "        vertical-align: middle;\n",
       "    }\n",
       "\n",
       "    .dataframe tbody tr th {\n",
       "        vertical-align: top;\n",
       "    }\n",
       "\n",
       "    .dataframe thead th {\n",
       "        text-align: right;\n",
       "    }\n",
       "</style>\n",
       "<table border=\"1\" class=\"dataframe\">\n",
       "  <thead>\n",
       "    <tr style=\"text-align: right;\">\n",
       "      <th></th>\n",
       "      <th>tweet_id</th>\n",
       "      <th>user</th>\n",
       "      <th>timestamp</th>\n",
       "      <th>date</th>\n",
       "      <th>events</th>\n",
       "      <th>text</th>\n",
       "      <th>processed_text</th>\n",
       "      <th>likes</th>\n",
       "      <th>replies</th>\n",
       "      <th>retweets</th>\n",
       "      <th>url</th>\n",
       "      <th>disaster_flag</th>\n",
       "    </tr>\n",
       "  </thead>\n",
       "  <tbody>\n",
       "    <tr>\n",
       "      <th>0</th>\n",
       "      <td>1022400668013744128</td>\n",
       "      <td>@pedromj</td>\n",
       "      <td>2018-07-26 08:38:09</td>\n",
       "      <td>2018-07-26</td>\n",
       "      <td>Typhoon Jebi</td>\n",
       "      <td>Typhoon Jongdari remains on course to hit Japa...</td>\n",
       "      <td>typhoon jongdari remains course hit japan's ma...</td>\n",
       "      <td>0</td>\n",
       "      <td>0</td>\n",
       "      <td>0</td>\n",
       "      <td>/pedromj/status/1022400668013744128</td>\n",
       "      <td>1</td>\n",
       "    </tr>\n",
       "    <tr>\n",
       "      <th>1</th>\n",
       "      <td>1022398649526112256</td>\n",
       "      <td>@breakingweather</td>\n",
       "      <td>2018-07-26 08:30:07</td>\n",
       "      <td>2018-07-26</td>\n",
       "      <td>Typhoon Jebi</td>\n",
       "      <td>#Jongdari is nearing typhoon strength in the W...</td>\n",
       "      <td>jongdari nearing typhoon strength west pacific...</td>\n",
       "      <td>25</td>\n",
       "      <td>2</td>\n",
       "      <td>46</td>\n",
       "      <td>/breakingweather/status/1022398649526112256</td>\n",
       "      <td>1</td>\n",
       "    </tr>\n",
       "    <tr>\n",
       "      <th>2</th>\n",
       "      <td>1022398159580880896</td>\n",
       "      <td>@Somnium410</td>\n",
       "      <td>2018-07-26 08:28:11</td>\n",
       "      <td>2018-07-26</td>\n",
       "      <td>Typhoon Jebi</td>\n",
       "      <td>Marco, buenas tardes!\\r\\nLike you said, a typh...</td>\n",
       "      <td>marco buenas tardes like said typhoon coming j...</td>\n",
       "      <td>0</td>\n",
       "      <td>0</td>\n",
       "      <td>0</td>\n",
       "      <td>/Somnium410/status/1022398159580880896</td>\n",
       "      <td>1</td>\n",
       "    </tr>\n",
       "    <tr>\n",
       "      <th>3</th>\n",
       "      <td>1022398059630579712</td>\n",
       "      <td>@SaraFujimura</td>\n",
       "      <td>2018-07-26 08:27:47</td>\n",
       "      <td>2018-07-26</td>\n",
       "      <td>Typhoon Jebi</td>\n",
       "      <td>Aaand a taifu (typhoon) is headed toward Japan...</td>\n",
       "      <td>aaand taifu typhoon headed toward japan much e...</td>\n",
       "      <td>1</td>\n",
       "      <td>1</td>\n",
       "      <td>0</td>\n",
       "      <td>/SaraFujimura/status/1022398059630579712</td>\n",
       "      <td>1</td>\n",
       "    </tr>\n",
       "    <tr>\n",
       "      <th>4</th>\n",
       "      <td>1022396408190578689</td>\n",
       "      <td>@sasucce</td>\n",
       "      <td>2018-07-26 08:21:13</td>\n",
       "      <td>2018-07-26</td>\n",
       "      <td>Typhoon Jebi</td>\n",
       "      <td>there was all the flooding when i first arrive...</td>\n",
       "      <td>flooding first arrived japan record breaking h...</td>\n",
       "      <td>1</td>\n",
       "      <td>0</td>\n",
       "      <td>0</td>\n",
       "      <td>/sasucce/status/1022396408190578689</td>\n",
       "      <td>1</td>\n",
       "    </tr>\n",
       "  </tbody>\n",
       "</table>\n",
       "</div>"
      ],
      "text/plain": [
       "              tweet_id              user            timestamp        date  \\\n",
       "0  1022400668013744128          @pedromj  2018-07-26 08:38:09  2018-07-26   \n",
       "1  1022398649526112256  @breakingweather  2018-07-26 08:30:07  2018-07-26   \n",
       "2  1022398159580880896       @Somnium410  2018-07-26 08:28:11  2018-07-26   \n",
       "3  1022398059630579712     @SaraFujimura  2018-07-26 08:27:47  2018-07-26   \n",
       "4  1022396408190578689          @sasucce  2018-07-26 08:21:13  2018-07-26   \n",
       "\n",
       "         events                                               text  \\\n",
       "0  Typhoon Jebi  Typhoon Jongdari remains on course to hit Japa...   \n",
       "1  Typhoon Jebi  #Jongdari is nearing typhoon strength in the W...   \n",
       "2  Typhoon Jebi  Marco, buenas tardes!\\r\\nLike you said, a typh...   \n",
       "3  Typhoon Jebi  Aaand a taifu (typhoon) is headed toward Japan...   \n",
       "4  Typhoon Jebi  there was all the flooding when i first arrive...   \n",
       "\n",
       "                                      processed_text  likes  replies  \\\n",
       "0  typhoon jongdari remains course hit japan's ma...      0        0   \n",
       "1  jongdari nearing typhoon strength west pacific...     25        2   \n",
       "2  marco buenas tardes like said typhoon coming j...      0        0   \n",
       "3  aaand taifu typhoon headed toward japan much e...      1        1   \n",
       "4  flooding first arrived japan record breaking h...      1        0   \n",
       "\n",
       "   retweets                                          url  disaster_flag  \n",
       "0         0          /pedromj/status/1022400668013744128              1  \n",
       "1        46  /breakingweather/status/1022398649526112256              1  \n",
       "2         0       /Somnium410/status/1022398159580880896              1  \n",
       "3         0     /SaraFujimura/status/1022398059630579712              1  \n",
       "4         0          /sasucce/status/1022396408190578689              1  "
      ]
     },
     "execution_count": 84,
     "metadata": {},
     "output_type": "execute_result"
    }
   ],
   "source": [
    "df_Typhoon_Jebi_labelled.head()"
   ]
  },
  {
   "cell_type": "code",
   "execution_count": 85,
   "metadata": {
    "ExecuteTime": {
     "end_time": "2018-12-24T09:15:40.106252Z",
     "start_time": "2018-12-24T09:15:40.101266Z"
    }
   },
   "outputs": [],
   "source": [
    "## Data Storage ##\n",
    "# df_Typhoon_Jebi_labelled.to_csv(OUTPUT_PATH + 'df_Typhoon_Jebi_disaster_labelled.csv')"
   ]
  },
  {
   "cell_type": "markdown",
   "metadata": {},
   "source": [
    "## Typhoon Mangkhut"
   ]
  },
  {
   "cell_type": "code",
   "execution_count": 86,
   "metadata": {
    "ExecuteTime": {
     "end_time": "2018-12-24T09:15:40.614918Z",
     "start_time": "2018-12-24T09:15:40.108255Z"
    }
   },
   "outputs": [],
   "source": [
    "## Data Processing ##\n",
    "df_Typhoon_Mangkhut = pd.read_csv(INPUT_PATH + 'df_Typhoon_Mangkhut_full.csv', index_col=0)"
   ]
  },
  {
   "cell_type": "code",
   "execution_count": 87,
   "metadata": {
    "ExecuteTime": {
     "end_time": "2018-12-24T09:15:40.657804Z",
     "start_time": "2018-12-24T09:15:40.615894Z"
    }
   },
   "outputs": [
    {
     "name": "stdout",
     "output_type": "stream",
     "text": [
      "<class 'pandas.core.frame.DataFrame'>\n",
      "Int64Index: 71052 entries, 0 to 71051\n",
      "Data columns (total 11 columns):\n",
      "tweet_id          71050 non-null float64\n",
      "user              71050 non-null object\n",
      "timestamp         71050 non-null object\n",
      "date              71050 non-null object\n",
      "events            71052 non-null object\n",
      "text              71052 non-null object\n",
      "processed_text    70825 non-null object\n",
      "likes             71052 non-null float64\n",
      "replies           71052 non-null int64\n",
      "retweets          71052 non-null int64\n",
      "url               71050 non-null object\n",
      "dtypes: float64(2), int64(2), object(7)\n",
      "memory usage: 6.5+ MB\n"
     ]
    }
   ],
   "source": [
    "df_Typhoon_Mangkhut.info()"
   ]
  },
  {
   "cell_type": "code",
   "execution_count": 88,
   "metadata": {
    "ExecuteTime": {
     "end_time": "2018-12-24T09:15:40.741555Z",
     "start_time": "2018-12-24T09:15:40.659773Z"
    }
   },
   "outputs": [],
   "source": [
    "df_Typhoon_Mangkhut = df_Typhoon_Mangkhut.dropna().reset_index(drop=True)"
   ]
  },
  {
   "cell_type": "code",
   "execution_count": 89,
   "metadata": {
    "ExecuteTime": {
     "end_time": "2018-12-24T09:15:40.784466Z",
     "start_time": "2018-12-24T09:15:40.743576Z"
    }
   },
   "outputs": [
    {
     "name": "stdout",
     "output_type": "stream",
     "text": [
      "<class 'pandas.core.frame.DataFrame'>\n",
      "RangeIndex: 70823 entries, 0 to 70822\n",
      "Data columns (total 11 columns):\n",
      "tweet_id          70823 non-null float64\n",
      "user              70823 non-null object\n",
      "timestamp         70823 non-null object\n",
      "date              70823 non-null object\n",
      "events            70823 non-null object\n",
      "text              70823 non-null object\n",
      "processed_text    70823 non-null object\n",
      "likes             70823 non-null float64\n",
      "replies           70823 non-null int64\n",
      "retweets          70823 non-null int64\n",
      "url               70823 non-null object\n",
      "dtypes: float64(2), int64(2), object(7)\n",
      "memory usage: 5.9+ MB\n"
     ]
    }
   ],
   "source": [
    "df_Typhoon_Mangkhut.info()"
   ]
  },
  {
   "cell_type": "code",
   "execution_count": 90,
   "metadata": {
    "ExecuteTime": {
     "end_time": "2018-12-24T09:15:40.791450Z",
     "start_time": "2018-12-24T09:15:40.787432Z"
    }
   },
   "outputs": [],
   "source": [
    "Typhoon_Mangkhut_unlabel = pd.Series(df_Typhoon_Mangkhut['processed_text'])"
   ]
  },
  {
   "cell_type": "code",
   "execution_count": 91,
   "metadata": {
    "ExecuteTime": {
     "end_time": "2018-12-24T09:15:51.503806Z",
     "start_time": "2018-12-24T09:15:40.793415Z"
    }
   },
   "outputs": [],
   "source": [
    "## Feature Engineering ##\n",
    "Typhoon_Mangkhut_unlabel_count =  count_vect.transform(Typhoon_Mangkhut_unlabel)\n",
    "Typhoon_Mangkhut_unlabel_tfidf =  tfidf_vect.transform(Typhoon_Mangkhut_unlabel)\n",
    "Typhoon_Mangkhut_unlabel_tfidf_ngram =  tfidf_vect_ngram.transform(Typhoon_Mangkhut_unlabel)\n",
    "Typhoon_Mangkhut_unlabel_tfidf_ngram_chars =  tfidf_vect_ngram_chars.transform(Typhoon_Mangkhut_unlabel)"
   ]
  },
  {
   "cell_type": "code",
   "execution_count": 92,
   "metadata": {
    "ExecuteTime": {
     "end_time": "2018-12-24T09:15:52.307656Z",
     "start_time": "2018-12-24T09:15:51.506766Z"
    }
   },
   "outputs": [],
   "source": [
    "## Classify disaster text ##\n",
    "df_Typhoon_Mangkhut_predictions_1 = classifier_1.predict(Typhoon_Mangkhut_unlabel_count)\n",
    "df_Typhoon_Mangkhut_predictions_2 = classifier_2.predict(Typhoon_Mangkhut_unlabel_tfidf)\n",
    "df_Typhoon_Mangkhut_predictions_3 = classifier_3.predict(Typhoon_Mangkhut_unlabel_tfidf_ngram)\n",
    "df_Typhoon_Mangkhut_predictions_4 = classifier_4.predict(Typhoon_Mangkhut_unlabel_tfidf_ngram_chars)\n",
    "df_Typhoon_Mangkhut_predictions_5 = classifier_5.predict(Typhoon_Mangkhut_unlabel_count)\n",
    "df_Typhoon_Mangkhut_predictions_6 = classifier_6.predict(Typhoon_Mangkhut_unlabel_tfidf)\n",
    "df_Typhoon_Mangkhut_predictions_7 = classifier_7.predict(Typhoon_Mangkhut_unlabel_tfidf_ngram)\n",
    "df_Typhoon_Mangkhut_predictions_8 = classifier_8.predict(Typhoon_Mangkhut_unlabel_tfidf_ngram_chars)\n",
    "df_Typhoon_Mangkhut_predictions_9 = classifier_9.predict(Typhoon_Mangkhut_unlabel_count)\n",
    "df_Typhoon_Mangkhut_predictions_10 = classifier_10.predict(Typhoon_Mangkhut_unlabel_tfidf)\n",
    "df_Typhoon_Mangkhut_predictions_11 = classifier_11.predict(Typhoon_Mangkhut_unlabel_tfidf_ngram_chars)"
   ]
  },
  {
   "cell_type": "code",
   "execution_count": 93,
   "metadata": {
    "ExecuteTime": {
     "end_time": "2018-12-24T09:15:52.335549Z",
     "start_time": "2018-12-24T09:15:52.309619Z"
    }
   },
   "outputs": [],
   "source": [
    "df_predict_1 = pd.DataFrame(df_Typhoon_Mangkhut_predictions_1).rename(columns={0: 'predict_1'})\n",
    "df_predict_2 = pd.DataFrame(df_Typhoon_Mangkhut_predictions_2).rename(columns={0: 'predict_2'})\n",
    "df_predict_3 = pd.DataFrame(df_Typhoon_Mangkhut_predictions_3).rename(columns={0: 'predict_3'})\n",
    "df_predict_4 = pd.DataFrame(df_Typhoon_Mangkhut_predictions_4).rename(columns={0: 'predict_4'})\n",
    "df_predict_5 = pd.DataFrame(df_Typhoon_Mangkhut_predictions_5).rename(columns={0: 'predict_5'})\n",
    "df_predict_6 = pd.DataFrame(df_Typhoon_Mangkhut_predictions_6).rename(columns={0: 'predict_6'})\n",
    "df_predict_7 = pd.DataFrame(df_Typhoon_Mangkhut_predictions_7).rename(columns={0: 'predict_7'})\n",
    "df_predict_8 = pd.DataFrame(df_Typhoon_Mangkhut_predictions_8).rename(columns={0: 'predict_8'})\n",
    "df_predict_9 = pd.DataFrame(df_Typhoon_Mangkhut_predictions_9).rename(columns={0: 'predict_9'})\n",
    "df_predict_10 = pd.DataFrame(df_Typhoon_Mangkhut_predictions_10).rename(columns={0: 'predict_10'})\n",
    "df_predict_11 = pd.DataFrame(df_Typhoon_Mangkhut_predictions_11).rename(columns={0: 'predict_11'})"
   ]
  },
  {
   "cell_type": "code",
   "execution_count": 94,
   "metadata": {
    "ExecuteTime": {
     "end_time": "2018-12-24T09:15:52.344526Z",
     "start_time": "2018-12-24T09:15:52.337544Z"
    }
   },
   "outputs": [],
   "source": [
    "## Ensemble Model ##\n",
    "frames = [df_predict_1, df_predict_2, df_predict_3, df_predict_4, df_predict_5, df_predict_6, df_predict_7, df_predict_8, df_predict_9, df_predict_10, df_predict_11]"
   ]
  },
  {
   "cell_type": "code",
   "execution_count": 95,
   "metadata": {
    "ExecuteTime": {
     "end_time": "2018-12-24T09:15:52.378442Z",
     "start_time": "2018-12-24T09:15:52.347520Z"
    }
   },
   "outputs": [],
   "source": [
    "df_predict_ensemble = pd.concat(frames, axis=1)\n",
    "df_predict_ensemble['predict_ensemble'] = df_predict_ensemble.sum(axis=1)\n",
    "df_predict_ensemble['predict_final']  = np.where(df_predict_ensemble['predict_ensemble'] > 5, 1, 0)"
   ]
  },
  {
   "cell_type": "code",
   "execution_count": 96,
   "metadata": {
    "ExecuteTime": {
     "end_time": "2018-12-24T09:15:52.399379Z",
     "start_time": "2018-12-24T09:15:52.381429Z"
    }
   },
   "outputs": [
    {
     "data": {
      "text/html": [
       "<div>\n",
       "<style scoped>\n",
       "    .dataframe tbody tr th:only-of-type {\n",
       "        vertical-align: middle;\n",
       "    }\n",
       "\n",
       "    .dataframe tbody tr th {\n",
       "        vertical-align: top;\n",
       "    }\n",
       "\n",
       "    .dataframe thead th {\n",
       "        text-align: right;\n",
       "    }\n",
       "</style>\n",
       "<table border=\"1\" class=\"dataframe\">\n",
       "  <thead>\n",
       "    <tr style=\"text-align: right;\">\n",
       "      <th></th>\n",
       "      <th>predict_1</th>\n",
       "      <th>predict_2</th>\n",
       "      <th>predict_3</th>\n",
       "      <th>predict_4</th>\n",
       "      <th>predict_5</th>\n",
       "      <th>predict_6</th>\n",
       "      <th>predict_7</th>\n",
       "      <th>predict_8</th>\n",
       "      <th>predict_9</th>\n",
       "      <th>predict_10</th>\n",
       "      <th>predict_11</th>\n",
       "      <th>predict_ensemble</th>\n",
       "      <th>predict_final</th>\n",
       "    </tr>\n",
       "  </thead>\n",
       "  <tbody>\n",
       "    <tr>\n",
       "      <th>0</th>\n",
       "      <td>1</td>\n",
       "      <td>1</td>\n",
       "      <td>1</td>\n",
       "      <td>1</td>\n",
       "      <td>1</td>\n",
       "      <td>0</td>\n",
       "      <td>1</td>\n",
       "      <td>0</td>\n",
       "      <td>0</td>\n",
       "      <td>0</td>\n",
       "      <td>1</td>\n",
       "      <td>7</td>\n",
       "      <td>1</td>\n",
       "    </tr>\n",
       "    <tr>\n",
       "      <th>1</th>\n",
       "      <td>0</td>\n",
       "      <td>0</td>\n",
       "      <td>0</td>\n",
       "      <td>0</td>\n",
       "      <td>0</td>\n",
       "      <td>0</td>\n",
       "      <td>0</td>\n",
       "      <td>0</td>\n",
       "      <td>0</td>\n",
       "      <td>0</td>\n",
       "      <td>0</td>\n",
       "      <td>0</td>\n",
       "      <td>0</td>\n",
       "    </tr>\n",
       "    <tr>\n",
       "      <th>2</th>\n",
       "      <td>0</td>\n",
       "      <td>0</td>\n",
       "      <td>0</td>\n",
       "      <td>0</td>\n",
       "      <td>0</td>\n",
       "      <td>0</td>\n",
       "      <td>0</td>\n",
       "      <td>0</td>\n",
       "      <td>0</td>\n",
       "      <td>0</td>\n",
       "      <td>0</td>\n",
       "      <td>0</td>\n",
       "      <td>0</td>\n",
       "    </tr>\n",
       "    <tr>\n",
       "      <th>3</th>\n",
       "      <td>0</td>\n",
       "      <td>0</td>\n",
       "      <td>0</td>\n",
       "      <td>0</td>\n",
       "      <td>0</td>\n",
       "      <td>0</td>\n",
       "      <td>0</td>\n",
       "      <td>0</td>\n",
       "      <td>0</td>\n",
       "      <td>0</td>\n",
       "      <td>0</td>\n",
       "      <td>0</td>\n",
       "      <td>0</td>\n",
       "    </tr>\n",
       "    <tr>\n",
       "      <th>4</th>\n",
       "      <td>0</td>\n",
       "      <td>0</td>\n",
       "      <td>0</td>\n",
       "      <td>1</td>\n",
       "      <td>0</td>\n",
       "      <td>0</td>\n",
       "      <td>0</td>\n",
       "      <td>0</td>\n",
       "      <td>0</td>\n",
       "      <td>0</td>\n",
       "      <td>0</td>\n",
       "      <td>1</td>\n",
       "      <td>0</td>\n",
       "    </tr>\n",
       "  </tbody>\n",
       "</table>\n",
       "</div>"
      ],
      "text/plain": [
       "   predict_1  predict_2  predict_3  predict_4  predict_5  predict_6  \\\n",
       "0          1          1          1          1          1          0   \n",
       "1          0          0          0          0          0          0   \n",
       "2          0          0          0          0          0          0   \n",
       "3          0          0          0          0          0          0   \n",
       "4          0          0          0          1          0          0   \n",
       "\n",
       "   predict_7  predict_8  predict_9  predict_10  predict_11  predict_ensemble  \\\n",
       "0          1          0          0           0           1                 7   \n",
       "1          0          0          0           0           0                 0   \n",
       "2          0          0          0           0           0                 0   \n",
       "3          0          0          0           0           0                 0   \n",
       "4          0          0          0           0           0                 1   \n",
       "\n",
       "   predict_final  \n",
       "0              1  \n",
       "1              0  \n",
       "2              0  \n",
       "3              0  \n",
       "4              0  "
      ]
     },
     "execution_count": 96,
     "metadata": {},
     "output_type": "execute_result"
    }
   ],
   "source": [
    "df_predict_ensemble.head()"
   ]
  },
  {
   "cell_type": "code",
   "execution_count": 97,
   "metadata": {
    "ExecuteTime": {
     "end_time": "2018-12-24T09:15:52.424312Z",
     "start_time": "2018-12-24T09:15:52.401374Z"
    }
   },
   "outputs": [],
   "source": [
    "df_predict_ensemble = df_predict_ensemble[['predict_final']]"
   ]
  },
  {
   "cell_type": "code",
   "execution_count": 98,
   "metadata": {
    "ExecuteTime": {
     "end_time": "2018-12-24T09:15:52.498115Z",
     "start_time": "2018-12-24T09:15:52.426307Z"
    }
   },
   "outputs": [],
   "source": [
    "## Join the class label into original dataset ##\n",
    "df_Typhoon_Mangkhut_labelled = df_Typhoon_Mangkhut.join(df_predict_ensemble, how='outer')\n",
    "df_Typhoon_Mangkhut_labelled = df_Typhoon_Mangkhut_labelled.rename(columns={'predict_final': 'disaster_flag'})"
   ]
  },
  {
   "cell_type": "code",
   "execution_count": 99,
   "metadata": {
    "ExecuteTime": {
     "end_time": "2018-12-24T09:15:52.536013Z",
     "start_time": "2018-12-24T09:15:52.500111Z"
    }
   },
   "outputs": [],
   "source": [
    "## Extract disaster text ##\n",
    "df_Typhoon_Mangkhut_labelled = df_Typhoon_Mangkhut_labelled[df_Typhoon_Mangkhut_labelled['disaster_flag'] == 1].reset_index(drop=True)"
   ]
  },
  {
   "cell_type": "code",
   "execution_count": 100,
   "metadata": {
    "ExecuteTime": {
     "end_time": "2018-12-24T09:15:52.578901Z",
     "start_time": "2018-12-24T09:15:52.540006Z"
    }
   },
   "outputs": [
    {
     "name": "stdout",
     "output_type": "stream",
     "text": [
      "<class 'pandas.core.frame.DataFrame'>\n",
      "RangeIndex: 64970 entries, 0 to 64969\n",
      "Data columns (total 12 columns):\n",
      "tweet_id          64970 non-null float64\n",
      "user              64970 non-null object\n",
      "timestamp         64970 non-null object\n",
      "date              64970 non-null object\n",
      "events            64970 non-null object\n",
      "text              64970 non-null object\n",
      "processed_text    64970 non-null object\n",
      "likes             64970 non-null float64\n",
      "replies           64970 non-null int64\n",
      "retweets          64970 non-null int64\n",
      "url               64970 non-null object\n",
      "disaster_flag     64970 non-null int32\n",
      "dtypes: float64(2), int32(1), int64(2), object(7)\n",
      "memory usage: 5.7+ MB\n"
     ]
    }
   ],
   "source": [
    "df_Typhoon_Mangkhut_labelled.info()"
   ]
  },
  {
   "cell_type": "code",
   "execution_count": 101,
   "metadata": {
    "ExecuteTime": {
     "end_time": "2018-12-24T09:15:52.598847Z",
     "start_time": "2018-12-24T09:15:52.579901Z"
    }
   },
   "outputs": [
    {
     "data": {
      "text/html": [
       "<div>\n",
       "<style scoped>\n",
       "    .dataframe tbody tr th:only-of-type {\n",
       "        vertical-align: middle;\n",
       "    }\n",
       "\n",
       "    .dataframe tbody tr th {\n",
       "        vertical-align: top;\n",
       "    }\n",
       "\n",
       "    .dataframe thead th {\n",
       "        text-align: right;\n",
       "    }\n",
       "</style>\n",
       "<table border=\"1\" class=\"dataframe\">\n",
       "  <thead>\n",
       "    <tr style=\"text-align: right;\">\n",
       "      <th></th>\n",
       "      <th>tweet_id</th>\n",
       "      <th>user</th>\n",
       "      <th>timestamp</th>\n",
       "      <th>date</th>\n",
       "      <th>events</th>\n",
       "      <th>text</th>\n",
       "      <th>processed_text</th>\n",
       "      <th>likes</th>\n",
       "      <th>replies</th>\n",
       "      <th>retweets</th>\n",
       "      <th>url</th>\n",
       "      <th>disaster_flag</th>\n",
       "    </tr>\n",
       "  </thead>\n",
       "  <tbody>\n",
       "    <tr>\n",
       "      <th>0</th>\n",
       "      <td>1.026975e+18</td>\n",
       "      <td>@Kuwago68</td>\n",
       "      <td>2018-08-07 23:35:23</td>\n",
       "      <td>2018-08-07</td>\n",
       "      <td>Typhoon Mangkhut</td>\n",
       "      <td>Ummm...Well...Ummm...To Late. He'd already mad...</td>\n",
       "      <td>ummm ... well ... ummm ... late he'd already m...</td>\n",
       "      <td>1.0</td>\n",
       "      <td>1</td>\n",
       "      <td>0</td>\n",
       "      <td>/Kuwago68/status/1026975117950107648</td>\n",
       "      <td>1</td>\n",
       "    </tr>\n",
       "    <tr>\n",
       "      <th>1</th>\n",
       "      <td>1.026712e+18</td>\n",
       "      <td>@catcoco2011</td>\n",
       "      <td>2018-08-07 06:07:53</td>\n",
       "      <td>2018-08-07</td>\n",
       "      <td>Typhoon Mangkhut</td>\n",
       "      <td>@29rain \\r\\n[2018 RAIN JUSTÂ  FOR YOU]\\r\\nin H...</td>\n",
       "      <td>2018 rain hong kong rain fanmeeting hall 11 ra...</td>\n",
       "      <td>6.0</td>\n",
       "      <td>0</td>\n",
       "      <td>3</td>\n",
       "      <td>/catcoco2011/status/1026711509093810176</td>\n",
       "      <td>1</td>\n",
       "    </tr>\n",
       "    <tr>\n",
       "      <th>2</th>\n",
       "      <td>1.027117e+18</td>\n",
       "      <td>@hongkonginforme</td>\n",
       "      <td>2018-08-08 09:00:01</td>\n",
       "      <td>2018-08-08</td>\n",
       "      <td>Typhoon Mangkhut</td>\n",
       "      <td>Bird in the Rain â€“ Hong KongÂ Picture https:...</td>\n",
       "      <td>bird rain hong kongpicture</td>\n",
       "      <td>0.0</td>\n",
       "      <td>0</td>\n",
       "      <td>0</td>\n",
       "      <td>/hongkonginforme/status/1027117212782473216</td>\n",
       "      <td>1</td>\n",
       "    </tr>\n",
       "    <tr>\n",
       "      <th>3</th>\n",
       "      <td>1.026987e+18</td>\n",
       "      <td>@CloudThai</td>\n",
       "      <td>2018-08-08 00:22:14</td>\n",
       "      <td>2018-08-08</td>\n",
       "      <td>Typhoon Mangkhut</td>\n",
       "      <td>D-80\\r\\nRAIN Asian Fan Meeting Tour \"Just For ...</td>\n",
       "      <td>D-8 0 rain asian fan meeting tour schedule ann...</td>\n",
       "      <td>7.0</td>\n",
       "      <td>0</td>\n",
       "      <td>3</td>\n",
       "      <td>/CloudThai/status/1026986910659489792</td>\n",
       "      <td>1</td>\n",
       "    </tr>\n",
       "    <tr>\n",
       "      <th>4</th>\n",
       "      <td>1.027045e+18</td>\n",
       "      <td>@rthk_enews</td>\n",
       "      <td>2018-08-08 04:13:40</td>\n",
       "      <td>2018-08-08</td>\n",
       "      <td>Typhoon Mangkhut</td>\n",
       "      <td>The ANA group scraps flights from Narita to Sh...</td>\n",
       "      <td>ana group scrap flight narita shanghai hong ko...</td>\n",
       "      <td>0.0</td>\n",
       "      <td>0</td>\n",
       "      <td>0</td>\n",
       "      <td>/rthk_enews/status/1027045152466989057</td>\n",
       "      <td>1</td>\n",
       "    </tr>\n",
       "  </tbody>\n",
       "</table>\n",
       "</div>"
      ],
      "text/plain": [
       "       tweet_id              user            timestamp        date  \\\n",
       "0  1.026975e+18         @Kuwago68  2018-08-07 23:35:23  2018-08-07   \n",
       "1  1.026712e+18      @catcoco2011  2018-08-07 06:07:53  2018-08-07   \n",
       "2  1.027117e+18  @hongkonginforme  2018-08-08 09:00:01  2018-08-08   \n",
       "3  1.026987e+18        @CloudThai  2018-08-08 00:22:14  2018-08-08   \n",
       "4  1.027045e+18       @rthk_enews  2018-08-08 04:13:40  2018-08-08   \n",
       "\n",
       "             events                                               text  \\\n",
       "0  Typhoon Mangkhut  Ummm...Well...Ummm...To Late. He'd already mad...   \n",
       "1  Typhoon Mangkhut  @29rain \\r\\n[2018 RAIN JUSTÂ  FOR YOU]\\r\\nin H...   \n",
       "2  Typhoon Mangkhut  Bird in the Rain â€“ Hong KongÂ Picture https:...   \n",
       "3  Typhoon Mangkhut  D-80\\r\\nRAIN Asian Fan Meeting Tour \"Just For ...   \n",
       "4  Typhoon Mangkhut  The ANA group scraps flights from Narita to Sh...   \n",
       "\n",
       "                                      processed_text  likes  replies  \\\n",
       "0  ummm ... well ... ummm ... late he'd already m...    1.0        1   \n",
       "1  2018 rain hong kong rain fanmeeting hall 11 ra...    6.0        0   \n",
       "2                         bird rain hong kongpicture    0.0        0   \n",
       "3  D-8 0 rain asian fan meeting tour schedule ann...    7.0        0   \n",
       "4  ana group scrap flight narita shanghai hong ko...    0.0        0   \n",
       "\n",
       "   retweets                                          url  disaster_flag  \n",
       "0         0         /Kuwago68/status/1026975117950107648              1  \n",
       "1         3      /catcoco2011/status/1026711509093810176              1  \n",
       "2         0  /hongkonginforme/status/1027117212782473216              1  \n",
       "3         3        /CloudThai/status/1026986910659489792              1  \n",
       "4         0       /rthk_enews/status/1027045152466989057              1  "
      ]
     },
     "execution_count": 101,
     "metadata": {},
     "output_type": "execute_result"
    }
   ],
   "source": [
    "df_Typhoon_Mangkhut_labelled.head()"
   ]
  },
  {
   "cell_type": "code",
   "execution_count": 102,
   "metadata": {
    "ExecuteTime": {
     "end_time": "2018-12-24T09:15:52.603836Z",
     "start_time": "2018-12-24T09:15:52.600868Z"
    }
   },
   "outputs": [],
   "source": [
    "## Data Storage ##\n",
    "# df_Typhoon_Mangkhut_labelled.to_csv(OUTPUT_PATH + 'df_Typhoon_Mangkhut_disaster_labelled.csv')"
   ]
  }
 ],
 "metadata": {
  "kernelspec": {
   "display_name": "Python 3",
   "language": "python",
   "name": "python3"
  },
  "language_info": {
   "codemirror_mode": {
    "name": "ipython",
    "version": 3
   },
   "file_extension": ".py",
   "mimetype": "text/x-python",
   "name": "python",
   "nbconvert_exporter": "python",
   "pygments_lexer": "ipython3",
   "version": "3.6.3"
  },
  "toc": {
   "nav_menu": {},
   "number_sections": true,
   "sideBar": true,
   "skip_h1_title": false,
   "title_cell": "Table of Contents",
   "title_sidebar": "Contents",
   "toc_cell": false,
   "toc_position": {
    "height": "calc(100% - 180px)",
    "left": "10px",
    "top": "150px",
    "width": "377px"
   },
   "toc_section_display": true,
   "toc_window_display": true
  }
 },
 "nbformat": 4,
 "nbformat_minor": 2
}
