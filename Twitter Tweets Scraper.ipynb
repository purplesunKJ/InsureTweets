{
 "cells": [
  {
   "cell_type": "markdown",
   "metadata": {},
   "source": [
    "# Import Libraries"
   ]
  },
  {
   "cell_type": "code",
   "execution_count": 77,
   "metadata": {
    "ExecuteTime": {
     "end_time": "2018-12-24T03:29:56.056813Z",
     "start_time": "2018-12-24T03:29:56.049831Z"
    }
   },
   "outputs": [],
   "source": [
    "import requests\n",
    "import datetime as dt\n",
    "from datetime import date, datetime, timedelta\n",
    "import json\n",
    "import time\n",
    "import random\n",
    "import os\n",
    "import pandas as pd\n",
    "\n",
    "from selenium import webdriver\n",
    "from bs4 import BeautifulSoup"
   ]
  },
  {
   "cell_type": "markdown",
   "metadata": {},
   "source": [
    "# PATH"
   ]
  },
  {
   "cell_type": "code",
   "execution_count": 78,
   "metadata": {
    "ExecuteTime": {
     "end_time": "2018-12-24T03:29:56.066788Z",
     "start_time": "2018-12-24T03:29:56.058834Z"
    }
   },
   "outputs": [],
   "source": [
    "OUTPUT_PATH = \"D:\\\\OneDrive - National University of Singapore\\\\NUS MTech KE\\\\MTech KE - FYP - InsureSense\\\\Kang Jiang\\\\Phase 3\\\\System Implementation\\\\scripts\\\\Data Acquisition\\\\output\\\\\""
   ]
  },
  {
   "cell_type": "markdown",
   "metadata": {},
   "source": [
    "# Query Function"
   ]
  },
  {
   "cell_type": "code",
   "execution_count": 79,
   "metadata": {
    "ExecuteTime": {
     "end_time": "2018-12-24T03:29:56.078784Z",
     "start_time": "2018-12-24T03:29:56.068786Z"
    }
   },
   "outputs": [],
   "source": [
    "ITEMS = {'user':[], 'fullname':[], 'tweet_id':[], 'url':[], 'timestamp':[], \n",
    "         'text':[], 'replies':[], 'retweets':[], 'likes':[]}"
   ]
  },
  {
   "cell_type": "code",
   "execution_count": 80,
   "metadata": {
    "ExecuteTime": {
     "end_time": "2018-12-24T03:29:56.089742Z",
     "start_time": "2018-12-24T03:29:56.080751Z"
    }
   },
   "outputs": [],
   "source": [
    "HEADERS_LIST = [\"Mozilla/5.0 (Windows NT 6.1; WOW64; rv:40.0) Gecko/20100101 Firefox/40.1\",\n",
    "                \"Mozilla/5.0 (Windows NT 6.1) AppleWebKit/537.36 (KHTML, like Gecko) Chrome/41.0.2228.0 Safari/537.36\",\n",
    "                \"Mozilla/5.0 (Windows; U; Windows NT 6.1; x64; fr; rv:1.9.2.13) Gecko/20101203 Firebird/3.6.13\",\n",
    "                \"Mozilla/5.0 (compatible, MSIE 11, Windows NT 6.3; Trident/7.0; rv:11.0) like Gecko\",\n",
    "                \"Mozilla/5.0 (Windows; U; Windows NT 6.1; rv:2.2) Gecko/20110201\",\n",
    "                \"Opera/9.80 (X11; Linux i686; Ubuntu/14.10) Presto/2.12.388 Version/12.16\",\n",
    "                \"Mozilla/5.0 (Windows NT 5.2; RW; rv:7.0a1) Gecko/20091211 SeaMonkey/9.23a1pre\"]"
   ]
  },
  {
   "cell_type": "code",
   "execution_count": 81,
   "metadata": {
    "ExecuteTime": {
     "end_time": "2018-12-24T03:29:56.097711Z",
     "start_time": "2018-12-24T03:29:56.092722Z"
    }
   },
   "outputs": [],
   "source": [
    "HEADER = {'User-Agent': random.choice(HEADERS_LIST)}"
   ]
  },
  {
   "cell_type": "code",
   "execution_count": 82,
   "metadata": {
    "ExecuteTime": {
     "end_time": "2018-12-24T03:29:56.104692Z",
     "start_time": "2018-12-24T03:29:56.098708Z"
    }
   },
   "outputs": [],
   "source": [
    "INIT_URL = \"https://twitter.com/search?f=tweets&vertical=default&q={q}&l={lang}\"\n",
    "RELOAD_URL = \"https://twitter.com/i/search/timeline?f=tweets&vertical=\" \\\n",
    "             \"default&include_available_features=1&include_entities=1&\" \\\n",
    "             \"reset_error_state=false&src=typd&max_position={pos}&q={q}&l={lang}\""
   ]
  },
  {
   "cell_type": "code",
   "execution_count": 83,
   "metadata": {
    "ExecuteTime": {
     "end_time": "2018-12-24T03:29:56.112699Z",
     "start_time": "2018-12-24T03:29:56.105690Z"
    }
   },
   "outputs": [],
   "source": [
    "def perdelta(start, end, delta):\n",
    "    curr = start\n",
    "    while curr < end:\n",
    "        yield curr\n",
    "        curr += delta"
   ]
  },
  {
   "cell_type": "code",
   "execution_count": 84,
   "metadata": {
    "ExecuteTime": {
     "end_time": "2018-12-24T03:29:56.250325Z",
     "start_time": "2018-12-24T03:29:56.114666Z"
    }
   },
   "outputs": [],
   "source": [
    "def query_single_page(url, html_response=True, retry=10):\n",
    "    \n",
    "    try:\n",
    "        response = requests.get(url, headers=HEADER)\n",
    "        if html_response:\n",
    "            html = response.text or ''\n",
    "        else:\n",
    "            html = ''\n",
    "            try:\n",
    "                json_resp = json.loads(response.text)\n",
    "                html = json_resp['items_html'] or ''\n",
    "            except ValueError as e:\n",
    "                print('Failed to parse JSON \"{}\" while requesting \"{}\"'.format(e, url))\n",
    "        \n",
    "        \n",
    "        soup = BeautifulSoup(html, \"lxml\")\n",
    "        tweets = soup.find_all('li', 'js-stream-item')\n",
    "        \n",
    "        if tweets:    \n",
    "            for tweet in tweets:\n",
    "                ## AWS TODO\n",
    "                user = tweet.find('span', 'username').text or \"\"\n",
    "\n",
    "                fullname = tweet.find('strong', 'fullname').text or \"\" \n",
    "\n",
    "                tweet_id = tweet['data-item-id'] or \"\"\n",
    "\n",
    "                url = tweet.find('div', 'tweet')['data-permalink-path'] or \"\"\n",
    "\n",
    "                timestamp = datetime.utcfromtimestamp(int(tweet.find('span', '_timestamp')['data-time']))\n",
    "\n",
    "                text = tweet.find('p', 'tweet-text').text or \"\"\n",
    "\n",
    "                replies = tweet.find('span', 'ProfileTweet-action--reply u-hiddenVisually') \\\n",
    "                    .find('span', 'ProfileTweet-actionCount')['data-tweet-stat-count'] or '0'\n",
    "\n",
    "                retweets = tweet.find('span', 'ProfileTweet-action--retweet u-hiddenVisually') \\\n",
    "                    .find('span', 'ProfileTweet-actionCount')['data-tweet-stat-count'] or '0'\n",
    "\n",
    "                likes = tweet.find('span', 'ProfileTweet-action--favorite u-hiddenVisually') \\\n",
    "                    .find('span', 'ProfileTweet-actionCount')['data-tweet-stat-count'] or '0'\n",
    "\n",
    "#                 print(user)\n",
    "#                 print(fullname)\n",
    "#                 print(tweet_id)\n",
    "#                 print(url)\n",
    "#                 print(timestamp)\n",
    "#                 print(text)\n",
    "#                 print(replies)\n",
    "#                 print(retweets)\n",
    "#                 print(likes)\n",
    "#                 print('\\n')\n",
    "\n",
    "                ITEMS['user'].append(user)\n",
    "                ITEMS['fullname'].append(fullname)\n",
    "                ITEMS['tweet_id'].append(tweet_id)\n",
    "                ITEMS['url'].append(url)\n",
    "                ITEMS['timestamp'].append(timestamp)\n",
    "                ITEMS['text'].append(text)\n",
    "                ITEMS['replies'].append(replies)\n",
    "                ITEMS['retweets'].append(retweets)\n",
    "                ITEMS['likes'].append(likes)\n",
    "\n",
    "        if not tweets:\n",
    "            return [], None\n",
    "\n",
    "        if not html_response:\n",
    "            return tweets, json_resp['min_position']\n",
    "        \n",
    "        return tweets, \"TWEET-{}-{}\".format(ITEMS['tweet_id'][-1], ITEMS['tweet_id'][0])\n",
    "    \n",
    "    except requests.exceptions.HTTPError as e:\n",
    "        print('HTTPError {} while requesting \"{}\"'.format(e, url))\n",
    "    except requests.exceptions.ConnectionError as e:\n",
    "        print('ConnectionError {} while requesting \"{}\"'.format(e, url))\n",
    "    except requests.exceptions.Timeout as e:\n",
    "        print('TimeOut {} while requesting \"{}\"'.format(e, url))\n",
    "    except json.decoder.JSONDecodeError as e:\n",
    "        print('Failed to parse JSON \"{}\" while requesting \"{}\".'.format(e, url))\n",
    "\n",
    "    if retry > 0:\n",
    "        print(\"Retrying... (Attempts left: {})\".format(retry))\n",
    "        return query_single_page(url, html_response, retry-1)\n",
    "\n",
    "    print(\"Giving up.\")\n",
    "    return [], None"
   ]
  },
  {
   "cell_type": "code",
   "execution_count": 85,
   "metadata": {
    "ExecuteTime": {
     "end_time": "2018-12-24T03:29:56.289234Z",
     "start_time": "2018-12-24T03:29:56.252321Z"
    }
   },
   "outputs": [],
   "source": [
    "def query_tweets(query, lang='en', begindate=dt.date(2006,3,21), enddate=dt.date.today(), limit=None):\n",
    "\n",
    "    print(\"Querying {} from {} to {}\".format(query, begindate, enddate))\n",
    "    \n",
    "    query = query.replace(' ', '%20').replace(\"#\", \"%23\").replace(\":\", \"%3A\")\n",
    "    pos = None\n",
    "    tweets = []\n",
    "    \n",
    "    queries = ['{} since:{} until:{}'.format(query, begindate, enddate)]\n",
    "\n",
    "    try:\n",
    "        while True:\n",
    "            new_tweets, pos = query_single_page(\n",
    "                INIT_URL.format(q=queries, lang=lang) if pos is None\n",
    "                else RELOAD_URL.format(q=queries, pos=pos, lang=lang),\n",
    "                pos is None\n",
    "            )\n",
    "            \n",
    "            if len(new_tweets) == 0:\n",
    "                print(\"Got {} tweets for {}. No more tweets!\".format(len(tweets), query))\n",
    "                return \n",
    "\n",
    "            tweets += new_tweets\n",
    "            print(\"Got {} new tweets.\".format(len(new_tweets)))\n",
    "                  \n",
    "            if limit and len(tweets) >= limit:\n",
    "                print(\"Got {} tweets for {}. Reach limits!\".format(len(tweets), query))\n",
    "                return \n",
    "            \n",
    "    except KeyboardInterrupt:\n",
    "        print(\"Program interrupted by user. Returning tweets gathered so far...\")\n",
    "    except BaseException:\n",
    "        print(\"An unknown error occurred! Returning tweets gathered so far.\")\n",
    "    \n",
    "    print(\"Got {} tweets for {} on {}.\".format(len(tweets), query, begin_date))\n",
    "    return tweets"
   ]
  },
  {
   "cell_type": "markdown",
   "metadata": {},
   "source": [
    "# Query Tweets"
   ]
  },
  {
   "cell_type": "markdown",
   "metadata": {},
   "source": [
    "## Initialization"
   ]
  },
  {
   "cell_type": "code",
   "execution_count": 86,
   "metadata": {
    "ExecuteTime": {
     "end_time": "2018-12-24T03:29:56.301200Z",
     "start_time": "2018-12-24T03:29:56.290228Z"
    }
   },
   "outputs": [],
   "source": [
    "# 1. set disaster event name\n",
    "# 2. set query period\n",
    "# 3. set query terms\n",
    "# 4. set query languages\n",
    "\n",
    "event = \"Typhoon Mangkhut\"\n",
    "begin_date = dt.date(2018,8,9)\n",
    "end_date = dt.date(2018,8,10)\n",
    "# end_date = dt.date.today()\n",
    "query = \"(typhoon OR EF OR storm OR damage OR injur OR kill OR wind OR dead OR thunder OR water OR flood OR rain OR wound OR insur OR loss OR help OR save) AND (Mangkhut OR Ompong OR Philippines OR Hong Kong OR China)\"\n",
    "lang = 'en'"
   ]
  },
  {
   "cell_type": "markdown",
   "metadata": {},
   "source": [
    "## Query Tweets and Data Storage"
   ]
  },
  {
   "cell_type": "code",
   "execution_count": 87,
   "metadata": {
    "ExecuteTime": {
     "end_time": "2018-12-24T03:30:02.620086Z",
     "start_time": "2018-12-24T03:29:56.303194Z"
    },
    "scrolled": false
   },
   "outputs": [
    {
     "name": "stdout",
     "output_type": "stream",
     "text": [
      "Querying (typhoon OR EF OR storm OR damage OR injur OR kill OR wind OR dead OR thunder OR water OR flood OR rain OR wound OR insur OR loss OR help OR save) AND (Mangkhut OR Ompong OR Philippines OR Hong Kong OR China) from 2018-08-09 to 2018-08-10\n",
      "Got 20 new tweets.\n",
      "Got 18 new tweets.\n",
      "Got 19 new tweets.\n",
      "Got 57 tweets for (typhoon%20OR%20EF%20OR%20storm%20OR%20damage%20OR%20injur%20OR%20kill%20OR%20wind%20OR%20dead%20OR%20thunder%20OR%20water%20OR%20flood%20OR%20rain%20OR%20wound%20OR%20insur%20OR%20loss%20OR%20help%20OR%20save)%20AND%20(Mangkhut%20OR%20Ompong%20OR%20Philippines%20OR%20Hong%20Kong%20OR%20China). No more tweets!\n",
      "Unique text: 57\n",
      "Saving.....\n",
      "Saved!!\n"
     ]
    }
   ],
   "source": [
    "day_list = []\n",
    "for day in perdelta(begin_date, end_date, timedelta(days=1)):\n",
    "    day_list.append(day)\n",
    "\n",
    "for day in day_list:\n",
    "    ITEMS.clear()\n",
    "    ITEMS = {'user':[], 'fullname':[], 'tweet_id':[], 'url':[], 'timestamp':[], \n",
    "             'text':[], 'replies':[], 'retweets':[], 'likes':[]}\n",
    "    \n",
    "    begin_date = day\n",
    "    end_date = day + timedelta(days=1)\n",
    "    \n",
    "    query_tweets(query=query, begindate=begin_date, enddate=end_date)\n",
    "    \n",
    "    df = pd.DataFrame.from_dict(ITEMS)\n",
    "    print(\"Unique text: {}\".format(df['text'].nunique()))\n",
    "    print(\"Saving.....\")\n",
    "    df.to_csv(OUTPUT_PATH + \"//Typhoon Mangkhut 1//\" + event + \" \" + str(begin_date) + \" to \" + str(end_date) + \".csv\")\n",
    "    print(\"Saved!!\")"
   ]
  },
  {
   "cell_type": "code",
   "execution_count": null,
   "metadata": {},
   "outputs": [],
   "source": []
  }
 ],
 "metadata": {
  "kernelspec": {
   "display_name": "Python 3",
   "language": "python",
   "name": "python3"
  },
  "language_info": {
   "codemirror_mode": {
    "name": "ipython",
    "version": 3
   },
   "file_extension": ".py",
   "mimetype": "text/x-python",
   "name": "python",
   "nbconvert_exporter": "python",
   "pygments_lexer": "ipython3",
   "version": "3.6.3"
  },
  "toc": {
   "nav_menu": {},
   "number_sections": true,
   "sideBar": true,
   "skip_h1_title": false,
   "title_cell": "Table of Contents",
   "title_sidebar": "Contents",
   "toc_cell": false,
   "toc_position": {
    "height": "calc(100% - 180px)",
    "left": "10px",
    "top": "150px",
    "width": "265px"
   },
   "toc_section_display": true,
   "toc_window_display": true
  }
 },
 "nbformat": 4,
 "nbformat_minor": 2
}
